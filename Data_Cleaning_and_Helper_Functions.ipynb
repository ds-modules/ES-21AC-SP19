{
 "cells": [
  {
   "cell_type": "code",
   "execution_count": 10,
   "metadata": {},
   "outputs": [],
   "source": [
    "import pandas as pd\n",
    "from datascience import *\n",
    "import numpy as np\n",
    "\n",
    "import matplotlib\n",
    "%matplotlib inline\n",
    "import matplotlib.pyplot as plt\n",
    "plt.style.use('fivethirtyeight')\n",
    "\n",
    "import ipywidgets as widgets"
   ]
  },
  {
   "cell_type": "markdown",
   "metadata": {},
   "source": [
    "## Data\n",
    "\n",
    "**Cleaning dataset that will be used on final version of the notebobok on pandas to make cleaning easier.**"
   ]
  },
  {
   "cell_type": "code",
   "execution_count": 11,
   "metadata": {},
   "outputs": [],
   "source": [
    "monthly_cdcr_population = pd.read_csv(\"monthly_cdcr_population.csv\")\n",
    " "
   ]
  },
  {
   "cell_type": "code",
   "execution_count": 12,
   "metadata": {},
   "outputs": [],
   "source": [
    "cdcr  = monthly_cdcr_population.drop(columns= \"source_pdf_name\")\n"
   ]
  },
  {
   "cell_type": "code",
   "execution_count": 13,
   "metadata": {},
   "outputs": [],
   "source": [
    "cdcr.to_csv(r'monthly_cdcr.csv')"
   ]
  },
  {
   "cell_type": "markdown",
   "metadata": {},
   "source": [
    "## **Widget**"
   ]
  },
  {
   "cell_type": "code",
   "execution_count": 23,
   "metadata": {},
   "outputs": [],
   "source": [
    "# populations based off the year rather than month\n",
    "data= Table().read_table(\"data_for_widget.csv\")\n",
    "grouped = data.group([\"institution_name\", \"year\"], sum)\n",
    "\n",
    "new_percents = grouped.column(\"total_population sum\") / grouped.column(\"designed_capacity sum\") *100\n",
    "grouped = grouped.with_column(\"Percent Occupied\", new_percents)\n",
    "\n",
    "institutions = grouped.group(0).column(0)\n",
    "institutions\n",
    "\n",
    "inp = widgets.IntSlider(\n",
    "    value=0,\n",
    "    min=0,\n",
    "    max=39,\n",
    "    step=1,\n",
    "    description='Institution:',\n",
    "    orientation='horizontal',\n",
    "    readout= True,\n",
    "    readout_format='d'\n",
    ")\n",
    "\n",
    "def f(inp):\n",
    "    inst = grouped.where(0, institutions[inp])\n",
    "    inst.plot(1, \"Percent Occupied\")\n",
    "    year1 = inst.column(\"year\") \n",
    "    if np.any(year1 == 2011):\n",
    "        plt.axvline(x=2011, color = \"red\")\n",
    "        point1 = inst.where(\"year\", 2011).column(\"Percent Occupied\").item(0)\n",
    "        plt.plot([2011], [point1], 'ro')\n",
    "        \n",
    "        plt.annotate(\"(2011, {0}%)\".format(round(point1, 2)),\n",
    "        xy=(2011, round(point1, 2)), xytext=(-15, 0),\n",
    "        textcoords='offset points', ha='right', va='bottom',\n",
    "        bbox=dict(boxstyle='round,pad=0.5', fc='red', alpha=0.3),\n",
    "        arrowprops=dict(arrowstyle = '->', connectionstyle='arc3,rad=0'))\n",
    "        \n",
    "    if np.any(year1 == 2013):\n",
    "        plt.axvline(x=2013, color = \"cyan\")\n",
    "        point2 = inst.where(\"year\", 2013).column(\"Percent Occupied\").item(0) \n",
    "        plt.plot([2013], [point2], 'co')\n",
    "        \n",
    "        plt.annotate(\"({0})\".format(round(point2, 2)),\n",
    "        xy=(2013, round(point2, 2)), xytext=(35, 20),\n",
    "        textcoords='offset points', ha='right', va='bottom',\n",
    "        bbox=dict(boxstyle='round,pad=0.5', fc='cyan', alpha=0.3),\n",
    "        arrowprops=dict(arrowstyle = '->', connectionstyle='arc3,rad=0'))\n",
    "        \n",
    "    if np.any(year1 == 2014):\n",
    "        plt.axvline(x=2014, color = \"orange\")\n",
    "        point3 = inst.where(\"year\", 2014).column(\"Percent Occupied\").item(0)\n",
    "        plt.plot([2014], [point3], 'yo')\n",
    "        \n",
    "        plt.annotate(\"{0}%\".format(round(point3, 2)),\n",
    "        xy=(2014, round(point3, 2)), xytext=(120, 15),\n",
    "        textcoords='offset points', ha='right', va='bottom',\n",
    "        bbox=dict(boxstyle='round,pad=0.5', fc='orange', alpha=0.3),\n",
    "        arrowprops=dict(arrowstyle = '->', connectionstyle='arc3,rad=0'))\n",
    "        \n",
    "        \n",
    "    plt.title(institutions[inp])\n",
    "    \n",
    "out = widgets.interactive_output(f, {'inp': inp})\n",
    "#out.clear_output()"
   ]
  },
  {
   "cell_type": "code",
   "execution_count": 24,
   "metadata": {},
   "outputs": [],
   "source": [
    "#widgets.HBox([widgets.VBox([inp]), out])"
   ]
  },
  {
   "cell_type": "code",
   "execution_count": 25,
   "metadata": {},
   "outputs": [],
   "source": [
    "# NOTES ABOUT THE WIDGET:\n",
    "#Do not worry about the code in the next section.\n",
    "#You will not have to implement anything like this. \n",
    "#The code produces a widget which allows you to \n",
    "#interact with the dataset. In this example, you \n",
    "#will be able to scroll through all of the prisons \n",
    "#in Calfornia, and you can see how the designed \n",
    "#capacity versus population has changed over time."
   ]
  },
  {
   "cell_type": "code",
   "execution_count": 26,
   "metadata": {},
   "outputs": [],
   "source": [
    "# # attempt 2 not repeating plots\n",
    "# from ipywidgets import interact, interactive\n",
    "# from IPython.display import clear_output, display, HTML\n",
    "# w = interactive(f, inp =(0,39))\n",
    "# display(w)"
   ]
  },
  {
   "cell_type": "markdown",
   "metadata": {},
   "source": [
    "## Gender"
   ]
  },
  {
   "cell_type": "code",
   "execution_count": null,
   "metadata": {},
   "outputs": [],
   "source": [
    "# Need to come back to male-female instituions divide \n",
    "# institutions = grouped.group(0).column(0)\n",
    "# (institutions)"
   ]
  }
 ],
 "metadata": {
  "kernelspec": {
   "display_name": "Python 3",
   "language": "python",
   "name": "python3"
  },
  "language_info": {
   "codemirror_mode": {
    "name": "ipython",
    "version": 3
   },
   "file_extension": ".py",
   "mimetype": "text/x-python",
   "name": "python",
   "nbconvert_exporter": "python",
   "pygments_lexer": "ipython3",
   "version": "3.6.6"
  }
 },
 "nbformat": 4,
 "nbformat_minor": 2
}
