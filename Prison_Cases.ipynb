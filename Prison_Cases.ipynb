{
 "cells": [
  {
   "cell_type": "code",
   "execution_count": 1,
   "metadata": {},
   "outputs": [],
   "source": [
    "from datascience import *\n",
    "import numpy as np\n",
    "\n",
    "import matplotlib\n",
    "%matplotlib inline\n",
    "import matplotlib.pyplot as plt\n",
    "plt.style.use('fivethirtyeight')\n",
    "\n",
    "import ipywidgets as widgets\n",
    "%run Data_Cleaning_and_Helper_Functions.ipynb"
   ]
  },
  {
   "cell_type": "code",
   "execution_count": 213,
   "metadata": {},
   "outputs": [],
   "source": [
    "# Lets read in the data \n",
    "prisons= Table().read_table(\"monthly_cdcr.csv\")"
   ]
  },
  {
   "cell_type": "markdown",
   "metadata": {},
   "source": [
    "## The Case of Valley State Prison\n"
   ]
  },
  {
   "cell_type": "markdown",
   "metadata": {},
   "source": [
    "Let's start by looking at the Valley State Prison (VSP). To look at only this prison, we will get the rows in our table that only have VSP as the institution_name."
   ]
  },
  {
   "cell_type": "code",
   "execution_count": 214,
   "metadata": {},
   "outputs": [
    {
     "data": {
      "text/html": [
       "<table border=\"1\" class=\"dataframe\">\n",
       "    <thead>\n",
       "        <tr>\n",
       "            <th>Unnamed: 0</th> <th>year</th> <th>month</th> <th>institution_name</th> <th>population_felons</th> <th>civil_addict</th> <th>total_population</th> <th>designed_capacity</th> <th>percent_occupied</th> <th>staffed_capacity</th>\n",
       "        </tr>\n",
       "    </thead>\n",
       "    <tbody>\n",
       "        <tr>\n",
       "            <td>0         </td> <td>1996</td> <td>1    </td> <td>VSP (VALLEY SP) </td> <td>2294             </td> <td>0           </td> <td>2294            </td> <td>1980             </td> <td>115.9           </td> <td>1980            </td>\n",
       "        </tr>\n",
       "        <tr>\n",
       "            <td>34        </td> <td>1996</td> <td>2    </td> <td>VSP (VALLEY SP) </td> <td>2096             </td> <td>0           </td> <td>2096            </td> <td>1980             </td> <td>105.9           </td> <td>2184            </td>\n",
       "        </tr>\n",
       "        <tr>\n",
       "            <td>68        </td> <td>1996</td> <td>3    </td> <td>VSP (VALLEY SP) </td> <td>2326             </td> <td>7           </td> <td>2333            </td> <td>2380             </td> <td>98              </td> <td>2584            </td>\n",
       "        </tr>\n",
       "        <tr>\n",
       "            <td>102       </td> <td>1996</td> <td>4    </td> <td>VSP (VALLEY SP) </td> <td>2498             </td> <td>13          </td> <td>2511            </td> <td>2380             </td> <td>105.5           </td> <td>2584            </td>\n",
       "        </tr>\n",
       "        <tr>\n",
       "            <td>136       </td> <td>1996</td> <td>5    </td> <td>VSP (VALLEY SP) </td> <td>2562             </td> <td>9           </td> <td>2571            </td> <td>2380             </td> <td>108             </td> <td>2584            </td>\n",
       "        </tr>\n",
       "        <tr>\n",
       "            <td>171       </td> <td>1996</td> <td>6    </td> <td>VSP (VALLEY SP) </td> <td>2549             </td> <td>12          </td> <td>2561            </td> <td>1980             </td> <td>129.3           </td> <td>2592            </td>\n",
       "        </tr>\n",
       "        <tr>\n",
       "            <td>205       </td> <td>1996</td> <td>7    </td> <td>VSP (VALLEY SP) </td> <td>2789             </td> <td>31          </td> <td>2820            </td> <td>1980             </td> <td>142.4           </td> <td>2592            </td>\n",
       "        </tr>\n",
       "        <tr>\n",
       "            <td>239       </td> <td>1996</td> <td>8    </td> <td>VSP (VALLEY SP) </td> <td>2750             </td> <td>8           </td> <td>2758            </td> <td>1980             </td> <td>139.3           </td> <td>2592            </td>\n",
       "        </tr>\n",
       "        <tr>\n",
       "            <td>273       </td> <td>1996</td> <td>9    </td> <td>VSP (VALLEY SP) </td> <td>2693             </td> <td>17          </td> <td>2710            </td> <td>1980             </td> <td>136.9           </td> <td>2592            </td>\n",
       "        </tr>\n",
       "        <tr>\n",
       "            <td>307       </td> <td>1996</td> <td>10   </td> <td>VSP (VALLEY SP) </td> <td>2751             </td> <td>6           </td> <td>2757            </td> <td>1980             </td> <td>139.2           </td> <td>2592            </td>\n",
       "        </tr>\n",
       "    </tbody>\n",
       "</table>\n",
       "<p>... (269 rows omitted)</p>"
      ],
      "text/plain": [
       "Unnamed: 0 | year | month | institution_name | population_felons | civil_addict | total_population | designed_capacity | percent_occupied | staffed_capacity\n",
       "0          | 1996 | 1     | VSP (VALLEY SP)  | 2294              | 0            | 2294             | 1980              | 115.9            | 1980\n",
       "34         | 1996 | 2     | VSP (VALLEY SP)  | 2096              | 0            | 2096             | 1980              | 105.9            | 2184\n",
       "68         | 1996 | 3     | VSP (VALLEY SP)  | 2326              | 7            | 2333             | 2380              | 98               | 2584\n",
       "102        | 1996 | 4     | VSP (VALLEY SP)  | 2498              | 13           | 2511             | 2380              | 105.5            | 2584\n",
       "136        | 1996 | 5     | VSP (VALLEY SP)  | 2562              | 9            | 2571             | 2380              | 108              | 2584\n",
       "171        | 1996 | 6     | VSP (VALLEY SP)  | 2549              | 12           | 2561             | 1980              | 129.3            | 2592\n",
       "205        | 1996 | 7     | VSP (VALLEY SP)  | 2789              | 31           | 2820             | 1980              | 142.4            | 2592\n",
       "239        | 1996 | 8     | VSP (VALLEY SP)  | 2750              | 8            | 2758             | 1980              | 139.3            | 2592\n",
       "273        | 1996 | 9     | VSP (VALLEY SP)  | 2693              | 17           | 2710             | 1980              | 136.9            | 2592\n",
       "307        | 1996 | 10    | VSP (VALLEY SP)  | 2751              | 6            | 2757             | 1980              | 139.2            | 2592\n",
       "... (269 rows omitted)"
      ]
     },
     "execution_count": 214,
     "metadata": {},
     "output_type": "execute_result"
    }
   ],
   "source": [
    "vsp = prisons.where(\"institution_name\", \"VSP (VALLEY SP)\")\n",
    "vsp"
   ]
  },
  {
   "cell_type": "markdown",
   "metadata": {},
   "source": [
    "To break down why VSP had more than 276 records, we have to find the years that had more than 12 months of data. To do this, we will group by year, and see the number of times each year appeared. We will use the same methods that we did to see how many months were in each year. The functions are called group() and sort()."
   ]
  },
  {
   "cell_type": "code",
   "execution_count": 215,
   "metadata": {},
   "outputs": [
    {
     "data": {
      "text/html": [
       "<table border=\"1\" class=\"dataframe\">\n",
       "    <thead>\n",
       "        <tr>\n",
       "            <th>year</th> <th>count</th>\n",
       "        </tr>\n",
       "    </thead>\n",
       "    <tbody>\n",
       "        <tr>\n",
       "            <td>2012</td> <td>15   </td>\n",
       "        </tr>\n",
       "        <tr>\n",
       "            <td>2018</td> <td>12   </td>\n",
       "        </tr>\n",
       "        <tr>\n",
       "            <td>2017</td> <td>12   </td>\n",
       "        </tr>\n",
       "        <tr>\n",
       "            <td>2016</td> <td>12   </td>\n",
       "        </tr>\n",
       "        <tr>\n",
       "            <td>2015</td> <td>12   </td>\n",
       "        </tr>\n",
       "        <tr>\n",
       "            <td>2014</td> <td>12   </td>\n",
       "        </tr>\n",
       "        <tr>\n",
       "            <td>2013</td> <td>12   </td>\n",
       "        </tr>\n",
       "        <tr>\n",
       "            <td>2011</td> <td>12   </td>\n",
       "        </tr>\n",
       "        <tr>\n",
       "            <td>2010</td> <td>12   </td>\n",
       "        </tr>\n",
       "        <tr>\n",
       "            <td>2009</td> <td>12   </td>\n",
       "        </tr>\n",
       "    </tbody>\n",
       "</table>\n",
       "<p>... (13 rows omitted)</p>"
      ],
      "text/plain": [
       "year | count\n",
       "2012 | 15\n",
       "2018 | 12\n",
       "2017 | 12\n",
       "2016 | 12\n",
       "2015 | 12\n",
       "2014 | 12\n",
       "2013 | 12\n",
       "2011 | 12\n",
       "2010 | 12\n",
       "2009 | 12\n",
       "... (13 rows omitted)"
      ]
     },
     "execution_count": 215,
     "metadata": {},
     "output_type": "execute_result"
    }
   ],
   "source": [
    "vsp.group(\"year\").sort(\"count\", descending = True)"
   ]
  },
  {
   "cell_type": "markdown",
   "metadata": {},
   "source": [
    "From the table, we see that there is one year that had 15 months of data. Now that we have isolated a strange event in our dataset, we want to research the reason behind this event. We researched major changes to the Valley State Prison in 2012. From our research, we realized that Valley State Prison changed from a female prison to a male prison in 2012 (October 2012 to be exact). For future analysis, it would be better to separate VSP into its' female and male years."
   ]
  },
  {
   "cell_type": "markdown",
   "metadata": {},
   "source": [
    "**SEPARATING THE DATA**"
   ]
  },
  {
   "cell_type": "markdown",
   "metadata": {},
   "source": [
    "To start, let's isolate the year where we see double counts in our months. We want to select the rows in our `vsp` table that were recorded in 2012. We can do this with the function `where()`. The `where()` function searches through our table and finds the rows that have the value we want in a certain column. \n",
    "\n",
    "The format for the function is:\n",
    "- *data_table.*`where(`*column_name, specified_values_in_column*`)`\n",
    "\n",
    "In this example, we want to find the values in the table that correspond to the year 2012."
   ]
  },
  {
   "cell_type": "code",
   "execution_count": 216,
   "metadata": {},
   "outputs": [
    {
     "data": {
      "text/html": [
       "<table border=\"1\" class=\"dataframe\">\n",
       "    <thead>\n",
       "        <tr>\n",
       "            <th>Unnamed: 0</th> <th>year</th> <th>month</th> <th>institution_name</th> <th>population_felons</th> <th>civil_addict</th> <th>total_population</th> <th>designed_capacity</th> <th>percent_occupied</th> <th>staffed_capacity</th>\n",
       "        </tr>\n",
       "    </thead>\n",
       "    <tbody>\n",
       "        <tr>\n",
       "            <td>6588      </td> <td>2012</td> <td>1    </td> <td>VSP (VALLEY SP) </td> <td>2650             </td> <td>0           </td> <td>2650            </td> <td>1980             </td> <td>133.8           </td> <td>2899            </td>\n",
       "        </tr>\n",
       "        <tr>\n",
       "            <td>6621      </td> <td>2012</td> <td>2    </td> <td>VSP (VALLEY SP) </td> <td>2550             </td> <td>0           </td> <td>2550            </td> <td>1980             </td> <td>128.8           </td> <td>2701            </td>\n",
       "        </tr>\n",
       "        <tr>\n",
       "            <td>6654      </td> <td>2012</td> <td>3    </td> <td>VSP (VALLEY SP) </td> <td>2432             </td> <td>0           </td> <td>2432            </td> <td>1980             </td> <td>122.8           </td> <td>2497            </td>\n",
       "        </tr>\n",
       "        <tr>\n",
       "            <td>6687      </td> <td>2012</td> <td>4    </td> <td>VSP (VALLEY SP) </td> <td>2296             </td> <td>0           </td> <td>2296            </td> <td>1980             </td> <td>116             </td> <td>2305            </td>\n",
       "        </tr>\n",
       "        <tr>\n",
       "            <td>6720      </td> <td>2012</td> <td>5    </td> <td>VSP (VALLEY SP) </td> <td>2209             </td> <td>0           </td> <td>2209            </td> <td>1980             </td> <td>111.6           </td> <td>2305            </td>\n",
       "        </tr>\n",
       "        <tr>\n",
       "            <td>6753      </td> <td>2012</td> <td>6    </td> <td>VSP (VALLEY SP) </td> <td>2142             </td> <td>0           </td> <td>2142            </td> <td>1980             </td> <td>108.2           </td> <td>2305            </td>\n",
       "        </tr>\n",
       "        <tr>\n",
       "            <td>6786      </td> <td>2012</td> <td>7    </td> <td>VSP (VALLEY SP) </td> <td>1995             </td> <td>0           </td> <td>1995            </td> <td>1980             </td> <td>100.8           </td> <td>2101            </td>\n",
       "        </tr>\n",
       "        <tr>\n",
       "            <td>6819      </td> <td>2012</td> <td>8    </td> <td>VSP (VALLEY SP) </td> <td>1866             </td> <td>0           </td> <td>1866            </td> <td>1980             </td> <td>94.2            </td> <td>2009            </td>\n",
       "        </tr>\n",
       "        <tr>\n",
       "            <td>6852      </td> <td>2012</td> <td>9    </td> <td>VSP (VALLEY SP) </td> <td>1721             </td> <td>0           </td> <td>1721            </td> <td>1980             </td> <td>86.9            </td> <td>1692            </td>\n",
       "        </tr>\n",
       "        <tr>\n",
       "            <td>6885      </td> <td>2012</td> <td>10   </td> <td>VSP (VALLEY SP) </td> <td>1171             </td> <td>0           </td> <td>1171            </td> <td>1536             </td> <td>76.2            </td> <td>1248            </td>\n",
       "        </tr>\n",
       "        <tr>\n",
       "            <td>6889      </td> <td>2012</td> <td>10   </td> <td>VSP (VALLEY SP) </td> <td>445              </td> <td>0           </td> <td>445             </td> <td>444              </td> <td>100.2           </td> <td>488             </td>\n",
       "        </tr>\n",
       "        <tr>\n",
       "            <td>6919      </td> <td>2012</td> <td>11   </td> <td>VSP (VALLEY SP) </td> <td>720              </td> <td>0           </td> <td>720             </td> <td>1536             </td> <td>46.9            </td> <td>1020            </td>\n",
       "        </tr>\n",
       "        <tr>\n",
       "            <td>6923      </td> <td>2012</td> <td>11   </td> <td>VSP (VALLEY SP) </td> <td>937              </td> <td>0           </td> <td>937             </td> <td>444              </td> <td>211             </td> <td>632             </td>\n",
       "        </tr>\n",
       "        <tr>\n",
       "            <td>6953      </td> <td>2012</td> <td>12   </td> <td>VSP (VALLEY SP) </td> <td>274              </td> <td>0           </td> <td>274             </td> <td>1536             </td> <td>17.8            </td> <td>650             </td>\n",
       "        </tr>\n",
       "        <tr>\n",
       "            <td>6957      </td> <td>2012</td> <td>12   </td> <td>VSP (VALLEY SP) </td> <td>1353             </td> <td>0           </td> <td>1353            </td> <td>444              </td> <td>304.7           </td> <td>1032            </td>\n",
       "        </tr>\n",
       "    </tbody>\n",
       "</table>"
      ],
      "text/plain": [
       "<IPython.core.display.HTML object>"
      ]
     },
     "metadata": {},
     "output_type": "display_data"
    }
   ],
   "source": [
    "twenty_12 = vsp.where(\"year\", 2012)\n",
    "twenty_12.show()"
   ]
  },
  {
   "cell_type": "markdown",
   "metadata": {},
   "source": [
    "Within 2012, we want to separate the months that are repeated from those that only occur once."
   ]
  },
  {
   "cell_type": "code",
   "execution_count": 217,
   "metadata": {},
   "outputs": [
    {
     "data": {
      "text/html": [
       "<table border=\"1\" class=\"dataframe\">\n",
       "    <thead>\n",
       "        <tr>\n",
       "            <th>Unnamed: 0</th> <th>year</th> <th>month</th> <th>institution_name</th> <th>population_felons</th> <th>civil_addict</th> <th>total_population</th> <th>designed_capacity</th> <th>percent_occupied</th> <th>staffed_capacity</th>\n",
       "        </tr>\n",
       "    </thead>\n",
       "    <tbody>\n",
       "        <tr>\n",
       "            <td>6885      </td> <td>2012</td> <td>10   </td> <td>VSP (VALLEY SP) </td> <td>1171             </td> <td>0           </td> <td>1171            </td> <td>1536             </td> <td>76.2            </td> <td>1248            </td>\n",
       "        </tr>\n",
       "        <tr>\n",
       "            <td>6889      </td> <td>2012</td> <td>10   </td> <td>VSP (VALLEY SP) </td> <td>445              </td> <td>0           </td> <td>445             </td> <td>444              </td> <td>100.2           </td> <td>488             </td>\n",
       "        </tr>\n",
       "        <tr>\n",
       "            <td>6919      </td> <td>2012</td> <td>11   </td> <td>VSP (VALLEY SP) </td> <td>720              </td> <td>0           </td> <td>720             </td> <td>1536             </td> <td>46.9            </td> <td>1020            </td>\n",
       "        </tr>\n",
       "        <tr>\n",
       "            <td>6923      </td> <td>2012</td> <td>11   </td> <td>VSP (VALLEY SP) </td> <td>937              </td> <td>0           </td> <td>937             </td> <td>444              </td> <td>211             </td> <td>632             </td>\n",
       "        </tr>\n",
       "        <tr>\n",
       "            <td>6953      </td> <td>2012</td> <td>12   </td> <td>VSP (VALLEY SP) </td> <td>274              </td> <td>0           </td> <td>274             </td> <td>1536             </td> <td>17.8            </td> <td>650             </td>\n",
       "        </tr>\n",
       "        <tr>\n",
       "            <td>6957      </td> <td>2012</td> <td>12   </td> <td>VSP (VALLEY SP) </td> <td>1353             </td> <td>0           </td> <td>1353            </td> <td>444              </td> <td>304.7           </td> <td>1032            </td>\n",
       "        </tr>\n",
       "    </tbody>\n",
       "</table>"
      ],
      "text/plain": [
       "Unnamed: 0 | year | month | institution_name | population_felons | civil_addict | total_population | designed_capacity | percent_occupied | staffed_capacity\n",
       "6885       | 2012 | 10    | VSP (VALLEY SP)  | 1171              | 0            | 1171             | 1536              | 76.2             | 1248\n",
       "6889       | 2012 | 10    | VSP (VALLEY SP)  | 445               | 0            | 445              | 444               | 100.2            | 488\n",
       "6919       | 2012 | 11    | VSP (VALLEY SP)  | 720               | 0            | 720              | 1536              | 46.9             | 1020\n",
       "6923       | 2012 | 11    | VSP (VALLEY SP)  | 937               | 0            | 937              | 444               | 211              | 632\n",
       "6953       | 2012 | 12    | VSP (VALLEY SP)  | 274               | 0            | 274              | 1536              | 17.8             | 650\n",
       "6957       | 2012 | 12    | VSP (VALLEY SP)  | 1353              | 0            | 1353             | 444               | 304.7            | 1032"
      ]
     },
     "execution_count": 217,
     "metadata": {},
     "output_type": "execute_result"
    }
   ],
   "source": [
    "questionable_2012 = twenty_12.where(\"month\", are.above(9))\n",
    "questionable_2012"
   ]
  },
  {
   "cell_type": "markdown",
   "metadata": {},
   "source": [
    "The prison was officially female before October 2012, and was male from 2013 forward. The questionable period was from October 2012 to December 2012. To start separating this data by gender, we will first find the years that we know are definitely female or male.\n",
    "\n",
    "To find the female years, we look in our vsp table for the years before 2012. To do this we use the condition, `are.below()` which gives all the values below 2012 which will be 1996-2011."
   ]
  },
  {
   "cell_type": "code",
   "execution_count": 218,
   "metadata": {},
   "outputs": [
    {
     "data": {
      "text/html": [
       "<table border=\"1\" class=\"dataframe\">\n",
       "    <thead>\n",
       "        <tr>\n",
       "            <th>Unnamed: 0</th> <th>year</th> <th>month</th> <th>institution_name</th> <th>population_felons</th> <th>civil_addict</th> <th>total_population</th> <th>designed_capacity</th> <th>percent_occupied</th> <th>staffed_capacity</th>\n",
       "        </tr>\n",
       "    </thead>\n",
       "    <tbody>\n",
       "        <tr>\n",
       "            <td>0         </td> <td>1996</td> <td>1    </td> <td>VSP (VALLEY SP) </td> <td>2294             </td> <td>0           </td> <td>2294            </td> <td>1980             </td> <td>115.9           </td> <td>1980            </td>\n",
       "        </tr>\n",
       "        <tr>\n",
       "            <td>34        </td> <td>1996</td> <td>2    </td> <td>VSP (VALLEY SP) </td> <td>2096             </td> <td>0           </td> <td>2096            </td> <td>1980             </td> <td>105.9           </td> <td>2184            </td>\n",
       "        </tr>\n",
       "        <tr>\n",
       "            <td>68        </td> <td>1996</td> <td>3    </td> <td>VSP (VALLEY SP) </td> <td>2326             </td> <td>7           </td> <td>2333            </td> <td>2380             </td> <td>98              </td> <td>2584            </td>\n",
       "        </tr>\n",
       "        <tr>\n",
       "            <td>102       </td> <td>1996</td> <td>4    </td> <td>VSP (VALLEY SP) </td> <td>2498             </td> <td>13          </td> <td>2511            </td> <td>2380             </td> <td>105.5           </td> <td>2584            </td>\n",
       "        </tr>\n",
       "        <tr>\n",
       "            <td>136       </td> <td>1996</td> <td>5    </td> <td>VSP (VALLEY SP) </td> <td>2562             </td> <td>9           </td> <td>2571            </td> <td>2380             </td> <td>108             </td> <td>2584            </td>\n",
       "        </tr>\n",
       "        <tr>\n",
       "            <td>171       </td> <td>1996</td> <td>6    </td> <td>VSP (VALLEY SP) </td> <td>2549             </td> <td>12          </td> <td>2561            </td> <td>1980             </td> <td>129.3           </td> <td>2592            </td>\n",
       "        </tr>\n",
       "        <tr>\n",
       "            <td>205       </td> <td>1996</td> <td>7    </td> <td>VSP (VALLEY SP) </td> <td>2789             </td> <td>31          </td> <td>2820            </td> <td>1980             </td> <td>142.4           </td> <td>2592            </td>\n",
       "        </tr>\n",
       "        <tr>\n",
       "            <td>239       </td> <td>1996</td> <td>8    </td> <td>VSP (VALLEY SP) </td> <td>2750             </td> <td>8           </td> <td>2758            </td> <td>1980             </td> <td>139.3           </td> <td>2592            </td>\n",
       "        </tr>\n",
       "        <tr>\n",
       "            <td>273       </td> <td>1996</td> <td>9    </td> <td>VSP (VALLEY SP) </td> <td>2693             </td> <td>17          </td> <td>2710            </td> <td>1980             </td> <td>136.9           </td> <td>2592            </td>\n",
       "        </tr>\n",
       "        <tr>\n",
       "            <td>307       </td> <td>1996</td> <td>10   </td> <td>VSP (VALLEY SP) </td> <td>2751             </td> <td>6           </td> <td>2757            </td> <td>1980             </td> <td>139.2           </td> <td>2592            </td>\n",
       "        </tr>\n",
       "    </tbody>\n",
       "</table>\n",
       "<p>... (182 rows omitted)</p>"
      ],
      "text/plain": [
       "Unnamed: 0 | year | month | institution_name | population_felons | civil_addict | total_population | designed_capacity | percent_occupied | staffed_capacity\n",
       "0          | 1996 | 1     | VSP (VALLEY SP)  | 2294              | 0            | 2294             | 1980              | 115.9            | 1980\n",
       "34         | 1996 | 2     | VSP (VALLEY SP)  | 2096              | 0            | 2096             | 1980              | 105.9            | 2184\n",
       "68         | 1996 | 3     | VSP (VALLEY SP)  | 2326              | 7            | 2333             | 2380              | 98               | 2584\n",
       "102        | 1996 | 4     | VSP (VALLEY SP)  | 2498              | 13           | 2511             | 2380              | 105.5            | 2584\n",
       "136        | 1996 | 5     | VSP (VALLEY SP)  | 2562              | 9            | 2571             | 2380              | 108              | 2584\n",
       "171        | 1996 | 6     | VSP (VALLEY SP)  | 2549              | 12           | 2561             | 1980              | 129.3            | 2592\n",
       "205        | 1996 | 7     | VSP (VALLEY SP)  | 2789              | 31           | 2820             | 1980              | 142.4            | 2592\n",
       "239        | 1996 | 8     | VSP (VALLEY SP)  | 2750              | 8            | 2758             | 1980              | 139.3            | 2592\n",
       "273        | 1996 | 9     | VSP (VALLEY SP)  | 2693              | 17           | 2710             | 1980              | 136.9            | 2592\n",
       "307        | 1996 | 10    | VSP (VALLEY SP)  | 2751              | 6            | 2757             | 1980              | 139.2            | 2592\n",
       "... (182 rows omitted)"
      ]
     },
     "execution_count": 218,
     "metadata": {},
     "output_type": "execute_result"
    }
   ],
   "source": [
    "female_vsp = vsp.where(\"year\", are.below(2012)) \n",
    "female_vsp"
   ]
  },
  {
   "cell_type": "markdown",
   "metadata": {},
   "source": [
    "For the male years, we look for where the year values are above 2012."
   ]
  },
  {
   "cell_type": "code",
   "execution_count": 219,
   "metadata": {},
   "outputs": [
    {
     "data": {
      "text/html": [
       "<table border=\"1\" class=\"dataframe\">\n",
       "    <thead>\n",
       "        <tr>\n",
       "            <th>Unnamed: 0</th> <th>year</th> <th>month</th> <th>institution_name</th> <th>population_felons</th> <th>civil_addict</th> <th>total_population</th> <th>designed_capacity</th> <th>percent_occupied</th> <th>staffed_capacity</th>\n",
       "        </tr>\n",
       "    </thead>\n",
       "    <tbody>\n",
       "        <tr>\n",
       "            <td>6991      </td> <td>2013</td> <td>1    </td> <td>VSP (VALLEY SP) </td> <td>1936             </td> <td>0           </td> <td>1936            </td> <td>1980             </td> <td>97.8            </td> <td>1932            </td>\n",
       "        </tr>\n",
       "        <tr>\n",
       "            <td>7025      </td> <td>2013</td> <td>2    </td> <td>VSP (VALLEY SP) </td> <td>2429             </td> <td>0           </td> <td>2429            </td> <td>1980             </td> <td>122.7           </td> <td>2332            </td>\n",
       "        </tr>\n",
       "        <tr>\n",
       "            <td>7059      </td> <td>2013</td> <td>3    </td> <td>VSP (VALLEY SP) </td> <td>2842             </td> <td>0           </td> <td>2842            </td> <td>1980             </td> <td>143.5           </td> <td>2332            </td>\n",
       "        </tr>\n",
       "        <tr>\n",
       "            <td>7093      </td> <td>2013</td> <td>4    </td> <td>VSP (VALLEY SP) </td> <td>3103             </td> <td>0           </td> <td>3103            </td> <td>1980             </td> <td>156.7           </td> <td>2970            </td>\n",
       "        </tr>\n",
       "        <tr>\n",
       "            <td>7127      </td> <td>2013</td> <td>5    </td> <td>VSP (VALLEY SP) </td> <td>3195             </td> <td>0           </td> <td>3195            </td> <td>1980             </td> <td>161.4           </td> <td>2970            </td>\n",
       "        </tr>\n",
       "        <tr>\n",
       "            <td>7161      </td> <td>2013</td> <td>6    </td> <td>VSP (VALLEY SP) </td> <td>3166             </td> <td>0           </td> <td>3166            </td> <td>1980             </td> <td>159.9           </td> <td>2970            </td>\n",
       "        </tr>\n",
       "        <tr>\n",
       "            <td>7195      </td> <td>2013</td> <td>7    </td> <td>VSP (VALLEY SP) </td> <td>3105             </td> <td>0           </td> <td>3105            </td> <td>1980             </td> <td>156.8           </td> <td>2970            </td>\n",
       "        </tr>\n",
       "        <tr>\n",
       "            <td>7230      </td> <td>2013</td> <td>8    </td> <td>VSP (VALLEY SP) </td> <td>3157             </td> <td>0           </td> <td>3157            </td> <td>1980             </td> <td>159.4           </td> <td>2970            </td>\n",
       "        </tr>\n",
       "        <tr>\n",
       "            <td>7265      </td> <td>2013</td> <td>9    </td> <td>VSP (VALLEY SP) </td> <td>3258             </td> <td>0           </td> <td>3258            </td> <td>1980             </td> <td>164.5           </td> <td>2948            </td>\n",
       "        </tr>\n",
       "        <tr>\n",
       "            <td>7300      </td> <td>2013</td> <td>10   </td> <td>VSP (VALLEY SP) </td> <td>3290             </td> <td>0           </td> <td>3290            </td> <td>1980             </td> <td>166.2           </td> <td>3389            </td>\n",
       "        </tr>\n",
       "    </tbody>\n",
       "</table>\n",
       "<p>... (62 rows omitted)</p>"
      ],
      "text/plain": [
       "Unnamed: 0 | year | month | institution_name | population_felons | civil_addict | total_population | designed_capacity | percent_occupied | staffed_capacity\n",
       "6991       | 2013 | 1     | VSP (VALLEY SP)  | 1936              | 0            | 1936             | 1980              | 97.8             | 1932\n",
       "7025       | 2013 | 2     | VSP (VALLEY SP)  | 2429              | 0            | 2429             | 1980              | 122.7            | 2332\n",
       "7059       | 2013 | 3     | VSP (VALLEY SP)  | 2842              | 0            | 2842             | 1980              | 143.5            | 2332\n",
       "7093       | 2013 | 4     | VSP (VALLEY SP)  | 3103              | 0            | 3103             | 1980              | 156.7            | 2970\n",
       "7127       | 2013 | 5     | VSP (VALLEY SP)  | 3195              | 0            | 3195             | 1980              | 161.4            | 2970\n",
       "7161       | 2013 | 6     | VSP (VALLEY SP)  | 3166              | 0            | 3166             | 1980              | 159.9            | 2970\n",
       "7195       | 2013 | 7     | VSP (VALLEY SP)  | 3105              | 0            | 3105             | 1980              | 156.8            | 2970\n",
       "7230       | 2013 | 8     | VSP (VALLEY SP)  | 3157              | 0            | 3157             | 1980              | 159.4            | 2970\n",
       "7265       | 2013 | 9     | VSP (VALLEY SP)  | 3258              | 0            | 3258             | 1980              | 164.5            | 2948\n",
       "7300       | 2013 | 10    | VSP (VALLEY SP)  | 3290              | 0            | 3290             | 1980              | 166.2            | 3389\n",
       "... (62 rows omitted)"
      ]
     },
     "execution_count": 219,
     "metadata": {},
     "output_type": "execute_result"
    }
   ],
   "source": [
    "male_vsp = vsp.where(\"year\", are.above(2012)) \n",
    "male_vsp"
   ]
  },
  {
   "cell_type": "markdown",
   "metadata": {},
   "source": [
    "Now, we can start dealing with 2012. To start let's find the values that are definitely female in 2012. We do this by searching for the months that have values that occur only once."
   ]
  },
  {
   "cell_type": "code",
   "execution_count": 220,
   "metadata": {},
   "outputs": [
    {
     "data": {
      "text/html": [
       "<table border=\"1\" class=\"dataframe\">\n",
       "    <thead>\n",
       "        <tr>\n",
       "            <th>Unnamed: 0</th> <th>year</th> <th>month</th> <th>institution_name</th> <th>population_felons</th> <th>civil_addict</th> <th>total_population</th> <th>designed_capacity</th> <th>percent_occupied</th> <th>staffed_capacity</th>\n",
       "        </tr>\n",
       "    </thead>\n",
       "    <tbody>\n",
       "        <tr>\n",
       "            <td>6588      </td> <td>2012</td> <td>1    </td> <td>VSP (VALLEY SP) </td> <td>2650             </td> <td>0           </td> <td>2650            </td> <td>1980             </td> <td>133.8           </td> <td>2899            </td>\n",
       "        </tr>\n",
       "        <tr>\n",
       "            <td>6621      </td> <td>2012</td> <td>2    </td> <td>VSP (VALLEY SP) </td> <td>2550             </td> <td>0           </td> <td>2550            </td> <td>1980             </td> <td>128.8           </td> <td>2701            </td>\n",
       "        </tr>\n",
       "        <tr>\n",
       "            <td>6654      </td> <td>2012</td> <td>3    </td> <td>VSP (VALLEY SP) </td> <td>2432             </td> <td>0           </td> <td>2432            </td> <td>1980             </td> <td>122.8           </td> <td>2497            </td>\n",
       "        </tr>\n",
       "        <tr>\n",
       "            <td>6687      </td> <td>2012</td> <td>4    </td> <td>VSP (VALLEY SP) </td> <td>2296             </td> <td>0           </td> <td>2296            </td> <td>1980             </td> <td>116             </td> <td>2305            </td>\n",
       "        </tr>\n",
       "        <tr>\n",
       "            <td>6720      </td> <td>2012</td> <td>5    </td> <td>VSP (VALLEY SP) </td> <td>2209             </td> <td>0           </td> <td>2209            </td> <td>1980             </td> <td>111.6           </td> <td>2305            </td>\n",
       "        </tr>\n",
       "        <tr>\n",
       "            <td>6753      </td> <td>2012</td> <td>6    </td> <td>VSP (VALLEY SP) </td> <td>2142             </td> <td>0           </td> <td>2142            </td> <td>1980             </td> <td>108.2           </td> <td>2305            </td>\n",
       "        </tr>\n",
       "        <tr>\n",
       "            <td>6786      </td> <td>2012</td> <td>7    </td> <td>VSP (VALLEY SP) </td> <td>1995             </td> <td>0           </td> <td>1995            </td> <td>1980             </td> <td>100.8           </td> <td>2101            </td>\n",
       "        </tr>\n",
       "        <tr>\n",
       "            <td>6819      </td> <td>2012</td> <td>8    </td> <td>VSP (VALLEY SP) </td> <td>1866             </td> <td>0           </td> <td>1866            </td> <td>1980             </td> <td>94.2            </td> <td>2009            </td>\n",
       "        </tr>\n",
       "        <tr>\n",
       "            <td>6852      </td> <td>2012</td> <td>9    </td> <td>VSP (VALLEY SP) </td> <td>1721             </td> <td>0           </td> <td>1721            </td> <td>1980             </td> <td>86.9            </td> <td>1692            </td>\n",
       "        </tr>\n",
       "    </tbody>\n",
       "</table>"
      ],
      "text/plain": [
       "Unnamed: 0 | year | month | institution_name | population_felons | civil_addict | total_population | designed_capacity | percent_occupied | staffed_capacity\n",
       "6588       | 2012 | 1     | VSP (VALLEY SP)  | 2650              | 0            | 2650             | 1980              | 133.8            | 2899\n",
       "6621       | 2012 | 2     | VSP (VALLEY SP)  | 2550              | 0            | 2550             | 1980              | 128.8            | 2701\n",
       "6654       | 2012 | 3     | VSP (VALLEY SP)  | 2432              | 0            | 2432             | 1980              | 122.8            | 2497\n",
       "6687       | 2012 | 4     | VSP (VALLEY SP)  | 2296              | 0            | 2296             | 1980              | 116              | 2305\n",
       "6720       | 2012 | 5     | VSP (VALLEY SP)  | 2209              | 0            | 2209             | 1980              | 111.6            | 2305\n",
       "6753       | 2012 | 6     | VSP (VALLEY SP)  | 2142              | 0            | 2142             | 1980              | 108.2            | 2305\n",
       "6786       | 2012 | 7     | VSP (VALLEY SP)  | 1995              | 0            | 1995             | 1980              | 100.8            | 2101\n",
       "6819       | 2012 | 8     | VSP (VALLEY SP)  | 1866              | 0            | 1866             | 1980              | 94.2             | 2009\n",
       "6852       | 2012 | 9     | VSP (VALLEY SP)  | 1721              | 0            | 1721             | 1980              | 86.9             | 1692"
      ]
     },
     "execution_count": 220,
     "metadata": {},
     "output_type": "execute_result"
    }
   ],
   "source": [
    "female_2012 = twenty_12.where(\"month\", are.below_or_equal_to(9))\n",
    "female_2012"
   ]
  },
  {
   "cell_type": "markdown",
   "metadata": {},
   "source": [
    "To add the months in 2012 to the other female years, we will use the `with_rows()` function. This function allows you to add all the rows in your table to another table. To get all the rows within table we use the function `rows`. \n",
    "\n",
    "The format we will use is:\n",
    "- *data_table_one.*`with_rows(`*data_table_two*.`rows)`"
   ]
  },
  {
   "cell_type": "code",
   "execution_count": 221,
   "metadata": {},
   "outputs": [
    {
     "data": {
      "text/html": [
       "<table border=\"1\" class=\"dataframe\">\n",
       "    <thead>\n",
       "        <tr>\n",
       "            <th>Unnamed: 0</th> <th>year</th> <th>month</th> <th>institution_name</th> <th>population_felons</th> <th>civil_addict</th> <th>total_population</th> <th>designed_capacity</th> <th>percent_occupied</th> <th>staffed_capacity</th>\n",
       "        </tr>\n",
       "    </thead>\n",
       "    <tbody>\n",
       "        <tr>\n",
       "            <td>0         </td> <td>1996</td> <td>1    </td> <td>VSP (VALLEY SP) </td> <td>2294             </td> <td>0           </td> <td>2294            </td> <td>1980             </td> <td>115.9           </td> <td>1980            </td>\n",
       "        </tr>\n",
       "        <tr>\n",
       "            <td>34        </td> <td>1996</td> <td>2    </td> <td>VSP (VALLEY SP) </td> <td>2096             </td> <td>0           </td> <td>2096            </td> <td>1980             </td> <td>105.9           </td> <td>2184            </td>\n",
       "        </tr>\n",
       "        <tr>\n",
       "            <td>68        </td> <td>1996</td> <td>3    </td> <td>VSP (VALLEY SP) </td> <td>2326             </td> <td>7           </td> <td>2333            </td> <td>2380             </td> <td>98              </td> <td>2584            </td>\n",
       "        </tr>\n",
       "        <tr>\n",
       "            <td>102       </td> <td>1996</td> <td>4    </td> <td>VSP (VALLEY SP) </td> <td>2498             </td> <td>13          </td> <td>2511            </td> <td>2380             </td> <td>105.5           </td> <td>2584            </td>\n",
       "        </tr>\n",
       "        <tr>\n",
       "            <td>136       </td> <td>1996</td> <td>5    </td> <td>VSP (VALLEY SP) </td> <td>2562             </td> <td>9           </td> <td>2571            </td> <td>2380             </td> <td>108             </td> <td>2584            </td>\n",
       "        </tr>\n",
       "    </tbody>\n",
       "</table>\n",
       "<p>... (196 rows omitted)</p>"
      ],
      "text/plain": [
       "<IPython.core.display.HTML object>"
      ]
     },
     "metadata": {},
     "output_type": "display_data"
    }
   ],
   "source": [
    "\n",
    "all_fem_vsp = female_vsp.with_rows(female_2012.rows)\n",
    "all_fem_vsp.show(5)"
   ]
  },
  {
   "cell_type": "markdown",
   "metadata": {},
   "source": [
    "We will also create a new table that will contain all the final values that correspond to when vsp was a male institution."
   ]
  },
  {
   "cell_type": "code",
   "execution_count": 222,
   "metadata": {},
   "outputs": [
    {
     "data": {
      "text/html": [
       "<table border=\"1\" class=\"dataframe\">\n",
       "    <thead>\n",
       "        <tr>\n",
       "            <th>Unnamed: 0</th> <th>year</th> <th>month</th> <th>institution_name</th> <th>population_felons</th> <th>civil_addict</th> <th>total_population</th> <th>designed_capacity</th> <th>percent_occupied</th> <th>staffed_capacity</th>\n",
       "        </tr>\n",
       "    </thead>\n",
       "    <tbody>\n",
       "        <tr>\n",
       "            <td>6991      </td> <td>2013</td> <td>1    </td> <td>VSP (VALLEY SP) </td> <td>1936             </td> <td>0           </td> <td>1936            </td> <td>1980             </td> <td>97.8            </td> <td>1932            </td>\n",
       "        </tr>\n",
       "        <tr>\n",
       "            <td>7025      </td> <td>2013</td> <td>2    </td> <td>VSP (VALLEY SP) </td> <td>2429             </td> <td>0           </td> <td>2429            </td> <td>1980             </td> <td>122.7           </td> <td>2332            </td>\n",
       "        </tr>\n",
       "        <tr>\n",
       "            <td>7059      </td> <td>2013</td> <td>3    </td> <td>VSP (VALLEY SP) </td> <td>2842             </td> <td>0           </td> <td>2842            </td> <td>1980             </td> <td>143.5           </td> <td>2332            </td>\n",
       "        </tr>\n",
       "        <tr>\n",
       "            <td>7093      </td> <td>2013</td> <td>4    </td> <td>VSP (VALLEY SP) </td> <td>3103             </td> <td>0           </td> <td>3103            </td> <td>1980             </td> <td>156.7           </td> <td>2970            </td>\n",
       "        </tr>\n",
       "        <tr>\n",
       "            <td>7127      </td> <td>2013</td> <td>5    </td> <td>VSP (VALLEY SP) </td> <td>3195             </td> <td>0           </td> <td>3195            </td> <td>1980             </td> <td>161.4           </td> <td>2970            </td>\n",
       "        </tr>\n",
       "    </tbody>\n",
       "</table>\n",
       "<p>... (67 rows omitted)</p>"
      ],
      "text/plain": [
       "<IPython.core.display.HTML object>"
      ]
     },
     "metadata": {},
     "output_type": "display_data"
    }
   ],
   "source": [
    "all_male_vsp = male_vsp\n",
    "all_male_vsp.show(5)"
   ]
  },
  {
   "cell_type": "markdown",
   "metadata": {},
   "source": [
    "The next piece of code is a bit advanced for our activity. We will not break down what each part of the code does, but give an overview instead. (If you would like to learn more about what this code is doing, please follow this link: https://www.w3schools.com/python/python_for_loops.asp )"
   ]
  },
  {
   "cell_type": "markdown",
   "metadata": {},
   "source": [
    "The following code separates the rows that correspond to the female institution into the all_fem_vsp table, and all the rows that correspond to the male institution into the all_male_vsp table"
   ]
  },
  {
   "cell_type": "code",
   "execution_count": 223,
   "metadata": {},
   "outputs": [],
   "source": [
    "for i in np.arange(questionable_2012.num_rows):\n",
    "    if i % 2 == 0:\n",
    "        all_fem_vsp = all_fem_vsp.with_row(questionable_2012.row(i))\n",
    "    else:\n",
    "        all_male_vsp = all_male_vsp.with_row(questionable_2012.row(i))"
   ]
  },
  {
   "cell_type": "code",
   "execution_count": 224,
   "metadata": {},
   "outputs": [
    {
     "data": {
      "text/html": [
       "<table border=\"1\" class=\"dataframe\">\n",
       "    <thead>\n",
       "        <tr>\n",
       "            <th>Unnamed: 0</th> <th>year</th> <th>month</th> <th>institution_name</th> <th>population_felons</th> <th>civil_addict</th> <th>total_population</th> <th>designed_capacity</th> <th>percent_occupied</th> <th>staffed_capacity</th>\n",
       "        </tr>\n",
       "    </thead>\n",
       "    <tbody>\n",
       "        <tr>\n",
       "            <td>0         </td> <td>1996</td> <td>1    </td> <td>VSP (VALLEY SP) </td> <td>2294             </td> <td>0           </td> <td>2294            </td> <td>1980             </td> <td>115.9           </td> <td>1980            </td>\n",
       "        </tr>\n",
       "        <tr>\n",
       "            <td>34        </td> <td>1996</td> <td>2    </td> <td>VSP (VALLEY SP) </td> <td>2096             </td> <td>0           </td> <td>2096            </td> <td>1980             </td> <td>105.9           </td> <td>2184            </td>\n",
       "        </tr>\n",
       "        <tr>\n",
       "            <td>68        </td> <td>1996</td> <td>3    </td> <td>VSP (VALLEY SP) </td> <td>2326             </td> <td>7           </td> <td>2333            </td> <td>2380             </td> <td>98              </td> <td>2584            </td>\n",
       "        </tr>\n",
       "        <tr>\n",
       "            <td>102       </td> <td>1996</td> <td>4    </td> <td>VSP (VALLEY SP) </td> <td>2498             </td> <td>13          </td> <td>2511            </td> <td>2380             </td> <td>105.5           </td> <td>2584            </td>\n",
       "        </tr>\n",
       "        <tr>\n",
       "            <td>136       </td> <td>1996</td> <td>5    </td> <td>VSP (VALLEY SP) </td> <td>2562             </td> <td>9           </td> <td>2571            </td> <td>2380             </td> <td>108             </td> <td>2584            </td>\n",
       "        </tr>\n",
       "    </tbody>\n",
       "</table>\n",
       "<p>... (199 rows omitted)</p>"
      ],
      "text/plain": [
       "<IPython.core.display.HTML object>"
      ]
     },
     "metadata": {},
     "output_type": "display_data"
    }
   ],
   "source": [
    "all_fem_vsp.show(5)"
   ]
  },
  {
   "cell_type": "code",
   "execution_count": 225,
   "metadata": {},
   "outputs": [
    {
     "data": {
      "text/html": [
       "<table border=\"1\" class=\"dataframe\">\n",
       "    <thead>\n",
       "        <tr>\n",
       "            <th>Unnamed: 0</th> <th>year</th> <th>month</th> <th>institution_name</th> <th>population_felons</th> <th>civil_addict</th> <th>total_population</th> <th>designed_capacity</th> <th>percent_occupied</th> <th>staffed_capacity</th>\n",
       "        </tr>\n",
       "    </thead>\n",
       "    <tbody>\n",
       "        <tr>\n",
       "            <td>6991      </td> <td>2013</td> <td>1    </td> <td>VSP (VALLEY SP) </td> <td>1936             </td> <td>0           </td> <td>1936            </td> <td>1980             </td> <td>97.8            </td> <td>1932            </td>\n",
       "        </tr>\n",
       "        <tr>\n",
       "            <td>7025      </td> <td>2013</td> <td>2    </td> <td>VSP (VALLEY SP) </td> <td>2429             </td> <td>0           </td> <td>2429            </td> <td>1980             </td> <td>122.7           </td> <td>2332            </td>\n",
       "        </tr>\n",
       "        <tr>\n",
       "            <td>7059      </td> <td>2013</td> <td>3    </td> <td>VSP (VALLEY SP) </td> <td>2842             </td> <td>0           </td> <td>2842            </td> <td>1980             </td> <td>143.5           </td> <td>2332            </td>\n",
       "        </tr>\n",
       "        <tr>\n",
       "            <td>7093      </td> <td>2013</td> <td>4    </td> <td>VSP (VALLEY SP) </td> <td>3103             </td> <td>0           </td> <td>3103            </td> <td>1980             </td> <td>156.7           </td> <td>2970            </td>\n",
       "        </tr>\n",
       "        <tr>\n",
       "            <td>7127      </td> <td>2013</td> <td>5    </td> <td>VSP (VALLEY SP) </td> <td>3195             </td> <td>0           </td> <td>3195            </td> <td>1980             </td> <td>161.4           </td> <td>2970            </td>\n",
       "        </tr>\n",
       "    </tbody>\n",
       "</table>\n",
       "<p>... (70 rows omitted)</p>"
      ],
      "text/plain": [
       "<IPython.core.display.HTML object>"
      ]
     },
     "metadata": {},
     "output_type": "display_data"
    }
   ],
   "source": [
    "all_male_vsp.show(5)"
   ]
  },
  {
   "cell_type": "markdown",
   "metadata": {},
   "source": [
    "A way to double check that we did this right, we can check that the number of rows in both tables sums up to the number of rows in our original table. We have a function that will count the number of rows in our table for us. The function is called `num_rows`. This returns a number and we can treat the calculation as number so we can add two of these statements.\n",
    "\n",
    "The format for this function is:\n",
    "- *data_table.*`num_rows`"
   ]
  },
  {
   "cell_type": "markdown",
   "metadata": {},
   "source": [
    "The number of rows in the unseparated table:"
   ]
  },
  {
   "cell_type": "code",
   "execution_count": 226,
   "metadata": {},
   "outputs": [
    {
     "data": {
      "text/plain": [
       "279"
      ]
     },
     "execution_count": 226,
     "metadata": {},
     "output_type": "execute_result"
    }
   ],
   "source": [
    "vsp.num_rows"
   ]
  },
  {
   "cell_type": "markdown",
   "metadata": {},
   "source": [
    "The number of rows after we have split the table into its female and male parts:"
   ]
  },
  {
   "cell_type": "code",
   "execution_count": 227,
   "metadata": {},
   "outputs": [
    {
     "data": {
      "text/plain": [
       "279"
      ]
     },
     "execution_count": 227,
     "metadata": {},
     "output_type": "execute_result"
    }
   ],
   "source": [
    "all_fem_vsp.num_rows + all_male_vsp.num_rows"
   ]
  },
  {
   "cell_type": "markdown",
   "metadata": {},
   "source": [
    "They match! This means we have all the data from our original table split into the two tables. Now that we have the two values separated, we want a way to distinguish them from each other.\n",
    "\n",
    "**RENAMING**\n",
    "\n",
    "The following cell makes the new name for each of the rows in our `all_female_vsp` table. The new name is \"VALLEY SP (FEMALE)\"."
   ]
  },
  {
   "cell_type": "code",
   "execution_count": 228,
   "metadata": {},
   "outputs": [
    {
     "data": {
      "text/plain": [
       "array(['VALLEY SP (FEMALE)', 'VALLEY SP (FEMALE)', 'VALLEY SP (FEMALE)',\n",
       "       'VALLEY SP (FEMALE)', 'VALLEY SP (FEMALE)', 'VALLEY SP (FEMALE)',\n",
       "       'VALLEY SP (FEMALE)', 'VALLEY SP (FEMALE)', 'VALLEY SP (FEMALE)',\n",
       "       'VALLEY SP (FEMALE)', 'VALLEY SP (FEMALE)', 'VALLEY SP (FEMALE)',\n",
       "       'VALLEY SP (FEMALE)', 'VALLEY SP (FEMALE)', 'VALLEY SP (FEMALE)',\n",
       "       'VALLEY SP (FEMALE)', 'VALLEY SP (FEMALE)', 'VALLEY SP (FEMALE)',\n",
       "       'VALLEY SP (FEMALE)', 'VALLEY SP (FEMALE)', 'VALLEY SP (FEMALE)',\n",
       "       'VALLEY SP (FEMALE)', 'VALLEY SP (FEMALE)', 'VALLEY SP (FEMALE)',\n",
       "       'VALLEY SP (FEMALE)', 'VALLEY SP (FEMALE)', 'VALLEY SP (FEMALE)',\n",
       "       'VALLEY SP (FEMALE)', 'VALLEY SP (FEMALE)', 'VALLEY SP (FEMALE)',\n",
       "       'VALLEY SP (FEMALE)', 'VALLEY SP (FEMALE)', 'VALLEY SP (FEMALE)',\n",
       "       'VALLEY SP (FEMALE)', 'VALLEY SP (FEMALE)', 'VALLEY SP (FEMALE)',\n",
       "       'VALLEY SP (FEMALE)', 'VALLEY SP (FEMALE)', 'VALLEY SP (FEMALE)',\n",
       "       'VALLEY SP (FEMALE)', 'VALLEY SP (FEMALE)', 'VALLEY SP (FEMALE)',\n",
       "       'VALLEY SP (FEMALE)', 'VALLEY SP (FEMALE)', 'VALLEY SP (FEMALE)',\n",
       "       'VALLEY SP (FEMALE)', 'VALLEY SP (FEMALE)', 'VALLEY SP (FEMALE)',\n",
       "       'VALLEY SP (FEMALE)', 'VALLEY SP (FEMALE)', 'VALLEY SP (FEMALE)',\n",
       "       'VALLEY SP (FEMALE)', 'VALLEY SP (FEMALE)', 'VALLEY SP (FEMALE)',\n",
       "       'VALLEY SP (FEMALE)', 'VALLEY SP (FEMALE)', 'VALLEY SP (FEMALE)',\n",
       "       'VALLEY SP (FEMALE)', 'VALLEY SP (FEMALE)', 'VALLEY SP (FEMALE)',\n",
       "       'VALLEY SP (FEMALE)', 'VALLEY SP (FEMALE)', 'VALLEY SP (FEMALE)',\n",
       "       'VALLEY SP (FEMALE)', 'VALLEY SP (FEMALE)', 'VALLEY SP (FEMALE)',\n",
       "       'VALLEY SP (FEMALE)', 'VALLEY SP (FEMALE)', 'VALLEY SP (FEMALE)',\n",
       "       'VALLEY SP (FEMALE)', 'VALLEY SP (FEMALE)', 'VALLEY SP (FEMALE)',\n",
       "       'VALLEY SP (FEMALE)', 'VALLEY SP (FEMALE)', 'VALLEY SP (FEMALE)',\n",
       "       'VALLEY SP (FEMALE)', 'VALLEY SP (FEMALE)', 'VALLEY SP (FEMALE)',\n",
       "       'VALLEY SP (FEMALE)', 'VALLEY SP (FEMALE)', 'VALLEY SP (FEMALE)',\n",
       "       'VALLEY SP (FEMALE)', 'VALLEY SP (FEMALE)', 'VALLEY SP (FEMALE)',\n",
       "       'VALLEY SP (FEMALE)', 'VALLEY SP (FEMALE)', 'VALLEY SP (FEMALE)',\n",
       "       'VALLEY SP (FEMALE)', 'VALLEY SP (FEMALE)', 'VALLEY SP (FEMALE)',\n",
       "       'VALLEY SP (FEMALE)', 'VALLEY SP (FEMALE)', 'VALLEY SP (FEMALE)',\n",
       "       'VALLEY SP (FEMALE)', 'VALLEY SP (FEMALE)', 'VALLEY SP (FEMALE)',\n",
       "       'VALLEY SP (FEMALE)', 'VALLEY SP (FEMALE)', 'VALLEY SP (FEMALE)',\n",
       "       'VALLEY SP (FEMALE)', 'VALLEY SP (FEMALE)', 'VALLEY SP (FEMALE)',\n",
       "       'VALLEY SP (FEMALE)', 'VALLEY SP (FEMALE)', 'VALLEY SP (FEMALE)',\n",
       "       'VALLEY SP (FEMALE)', 'VALLEY SP (FEMALE)', 'VALLEY SP (FEMALE)',\n",
       "       'VALLEY SP (FEMALE)', 'VALLEY SP (FEMALE)', 'VALLEY SP (FEMALE)',\n",
       "       'VALLEY SP (FEMALE)', 'VALLEY SP (FEMALE)', 'VALLEY SP (FEMALE)',\n",
       "       'VALLEY SP (FEMALE)', 'VALLEY SP (FEMALE)', 'VALLEY SP (FEMALE)',\n",
       "       'VALLEY SP (FEMALE)', 'VALLEY SP (FEMALE)', 'VALLEY SP (FEMALE)',\n",
       "       'VALLEY SP (FEMALE)', 'VALLEY SP (FEMALE)', 'VALLEY SP (FEMALE)',\n",
       "       'VALLEY SP (FEMALE)', 'VALLEY SP (FEMALE)', 'VALLEY SP (FEMALE)',\n",
       "       'VALLEY SP (FEMALE)', 'VALLEY SP (FEMALE)', 'VALLEY SP (FEMALE)',\n",
       "       'VALLEY SP (FEMALE)', 'VALLEY SP (FEMALE)', 'VALLEY SP (FEMALE)',\n",
       "       'VALLEY SP (FEMALE)', 'VALLEY SP (FEMALE)', 'VALLEY SP (FEMALE)',\n",
       "       'VALLEY SP (FEMALE)', 'VALLEY SP (FEMALE)', 'VALLEY SP (FEMALE)',\n",
       "       'VALLEY SP (FEMALE)', 'VALLEY SP (FEMALE)', 'VALLEY SP (FEMALE)',\n",
       "       'VALLEY SP (FEMALE)', 'VALLEY SP (FEMALE)', 'VALLEY SP (FEMALE)',\n",
       "       'VALLEY SP (FEMALE)', 'VALLEY SP (FEMALE)', 'VALLEY SP (FEMALE)',\n",
       "       'VALLEY SP (FEMALE)', 'VALLEY SP (FEMALE)', 'VALLEY SP (FEMALE)',\n",
       "       'VALLEY SP (FEMALE)', 'VALLEY SP (FEMALE)', 'VALLEY SP (FEMALE)',\n",
       "       'VALLEY SP (FEMALE)', 'VALLEY SP (FEMALE)', 'VALLEY SP (FEMALE)',\n",
       "       'VALLEY SP (FEMALE)', 'VALLEY SP (FEMALE)', 'VALLEY SP (FEMALE)',\n",
       "       'VALLEY SP (FEMALE)', 'VALLEY SP (FEMALE)', 'VALLEY SP (FEMALE)',\n",
       "       'VALLEY SP (FEMALE)', 'VALLEY SP (FEMALE)', 'VALLEY SP (FEMALE)',\n",
       "       'VALLEY SP (FEMALE)', 'VALLEY SP (FEMALE)', 'VALLEY SP (FEMALE)',\n",
       "       'VALLEY SP (FEMALE)', 'VALLEY SP (FEMALE)', 'VALLEY SP (FEMALE)',\n",
       "       'VALLEY SP (FEMALE)', 'VALLEY SP (FEMALE)', 'VALLEY SP (FEMALE)',\n",
       "       'VALLEY SP (FEMALE)', 'VALLEY SP (FEMALE)', 'VALLEY SP (FEMALE)',\n",
       "       'VALLEY SP (FEMALE)', 'VALLEY SP (FEMALE)', 'VALLEY SP (FEMALE)',\n",
       "       'VALLEY SP (FEMALE)', 'VALLEY SP (FEMALE)', 'VALLEY SP (FEMALE)',\n",
       "       'VALLEY SP (FEMALE)', 'VALLEY SP (FEMALE)', 'VALLEY SP (FEMALE)',\n",
       "       'VALLEY SP (FEMALE)', 'VALLEY SP (FEMALE)', 'VALLEY SP (FEMALE)',\n",
       "       'VALLEY SP (FEMALE)', 'VALLEY SP (FEMALE)', 'VALLEY SP (FEMALE)',\n",
       "       'VALLEY SP (FEMALE)', 'VALLEY SP (FEMALE)', 'VALLEY SP (FEMALE)',\n",
       "       'VALLEY SP (FEMALE)', 'VALLEY SP (FEMALE)', 'VALLEY SP (FEMALE)',\n",
       "       'VALLEY SP (FEMALE)', 'VALLEY SP (FEMALE)', 'VALLEY SP (FEMALE)',\n",
       "       'VALLEY SP (FEMALE)', 'VALLEY SP (FEMALE)', 'VALLEY SP (FEMALE)'],\n",
       "      dtype='<U32')"
      ]
     },
     "execution_count": 228,
     "metadata": {},
     "output_type": "execute_result"
    }
   ],
   "source": [
    "new_prison_name_female = np.array([])\n",
    "for i in np.arange(all_fem_vsp.num_rows):\n",
    "    new_prison_name_female = np.append(new_prison_name_female, \"VALLEY SP (FEMALE)\")\n",
    "new_prison_name_female"
   ]
  },
  {
   "cell_type": "markdown",
   "metadata": {},
   "source": [
    "The next cell creates the new names for the `all_male_vsp` table. We will rename them \"VALLEY SP (MALE)\""
   ]
  },
  {
   "cell_type": "code",
   "execution_count": 229,
   "metadata": {},
   "outputs": [
    {
     "data": {
      "text/plain": [
       "array(['VALLEY SP (MALE)', 'VALLEY SP (MALE)', 'VALLEY SP (MALE)',\n",
       "       'VALLEY SP (MALE)', 'VALLEY SP (MALE)', 'VALLEY SP (MALE)',\n",
       "       'VALLEY SP (MALE)', 'VALLEY SP (MALE)', 'VALLEY SP (MALE)',\n",
       "       'VALLEY SP (MALE)', 'VALLEY SP (MALE)', 'VALLEY SP (MALE)',\n",
       "       'VALLEY SP (MALE)', 'VALLEY SP (MALE)', 'VALLEY SP (MALE)',\n",
       "       'VALLEY SP (MALE)', 'VALLEY SP (MALE)', 'VALLEY SP (MALE)',\n",
       "       'VALLEY SP (MALE)', 'VALLEY SP (MALE)', 'VALLEY SP (MALE)',\n",
       "       'VALLEY SP (MALE)', 'VALLEY SP (MALE)', 'VALLEY SP (MALE)',\n",
       "       'VALLEY SP (MALE)', 'VALLEY SP (MALE)', 'VALLEY SP (MALE)',\n",
       "       'VALLEY SP (MALE)', 'VALLEY SP (MALE)', 'VALLEY SP (MALE)',\n",
       "       'VALLEY SP (MALE)', 'VALLEY SP (MALE)', 'VALLEY SP (MALE)',\n",
       "       'VALLEY SP (MALE)', 'VALLEY SP (MALE)', 'VALLEY SP (MALE)',\n",
       "       'VALLEY SP (MALE)', 'VALLEY SP (MALE)', 'VALLEY SP (MALE)',\n",
       "       'VALLEY SP (MALE)', 'VALLEY SP (MALE)', 'VALLEY SP (MALE)',\n",
       "       'VALLEY SP (MALE)', 'VALLEY SP (MALE)', 'VALLEY SP (MALE)',\n",
       "       'VALLEY SP (MALE)', 'VALLEY SP (MALE)', 'VALLEY SP (MALE)',\n",
       "       'VALLEY SP (MALE)', 'VALLEY SP (MALE)', 'VALLEY SP (MALE)',\n",
       "       'VALLEY SP (MALE)', 'VALLEY SP (MALE)', 'VALLEY SP (MALE)',\n",
       "       'VALLEY SP (MALE)', 'VALLEY SP (MALE)', 'VALLEY SP (MALE)',\n",
       "       'VALLEY SP (MALE)', 'VALLEY SP (MALE)', 'VALLEY SP (MALE)',\n",
       "       'VALLEY SP (MALE)', 'VALLEY SP (MALE)', 'VALLEY SP (MALE)',\n",
       "       'VALLEY SP (MALE)', 'VALLEY SP (MALE)', 'VALLEY SP (MALE)',\n",
       "       'VALLEY SP (MALE)', 'VALLEY SP (MALE)', 'VALLEY SP (MALE)',\n",
       "       'VALLEY SP (MALE)', 'VALLEY SP (MALE)', 'VALLEY SP (MALE)',\n",
       "       'VALLEY SP (MALE)', 'VALLEY SP (MALE)', 'VALLEY SP (MALE)'],\n",
       "      dtype='<U32')"
      ]
     },
     "execution_count": 229,
     "metadata": {},
     "output_type": "execute_result"
    }
   ],
   "source": [
    "new_prison_name_male = np.array([])\n",
    "for i in np.arange(all_male_vsp.num_rows):\n",
    "    new_prison_name_male = np.append(new_prison_name_male, \"VALLEY SP (MALE)\")\n",
    "new_prison_name_male"
   ]
  },
  {
   "cell_type": "markdown",
   "metadata": {},
   "source": [
    "Now that we have the new names for the rows in our table, we will update the values in our table. To do this we will be change the name of the institution in our table. Currently the name is \"VSP (VALLEY SP)\" for all rows in our table, but we want to replace it with the new names. \n",
    "\n",
    "To do this we are using the function `with_column()`. This function either adds a new column to our table or replaces an old column with new values. The format for the function is to:\n",
    "- *data_table.*`with_column(`*column_name*, *column_values*`)`\n",
    "\n",
    "If the *column_name* already exists in our table, then it will update the values. In our case we want to update the values in \"institution_name\" with the values `new_prison_name_female`."
   ]
  },
  {
   "cell_type": "code",
   "execution_count": 230,
   "metadata": {},
   "outputs": [
    {
     "data": {
      "text/html": [
       "<table border=\"1\" class=\"dataframe\">\n",
       "    <thead>\n",
       "        <tr>\n",
       "            <th>Unnamed: 0</th> <th>year</th> <th>month</th> <th>institution_name</th> <th>population_felons</th> <th>civil_addict</th> <th>total_population</th> <th>designed_capacity</th> <th>percent_occupied</th> <th>staffed_capacity</th>\n",
       "        </tr>\n",
       "    </thead>\n",
       "    <tbody>\n",
       "        <tr>\n",
       "            <td>0         </td> <td>1996</td> <td>1    </td> <td>VALLEY SP (FEMALE)</td> <td>2294             </td> <td>0           </td> <td>2294            </td> <td>1980             </td> <td>115.9           </td> <td>1980            </td>\n",
       "        </tr>\n",
       "        <tr>\n",
       "            <td>34        </td> <td>1996</td> <td>2    </td> <td>VALLEY SP (FEMALE)</td> <td>2096             </td> <td>0           </td> <td>2096            </td> <td>1980             </td> <td>105.9           </td> <td>2184            </td>\n",
       "        </tr>\n",
       "        <tr>\n",
       "            <td>68        </td> <td>1996</td> <td>3    </td> <td>VALLEY SP (FEMALE)</td> <td>2326             </td> <td>7           </td> <td>2333            </td> <td>2380             </td> <td>98              </td> <td>2584            </td>\n",
       "        </tr>\n",
       "        <tr>\n",
       "            <td>102       </td> <td>1996</td> <td>4    </td> <td>VALLEY SP (FEMALE)</td> <td>2498             </td> <td>13          </td> <td>2511            </td> <td>2380             </td> <td>105.5           </td> <td>2584            </td>\n",
       "        </tr>\n",
       "        <tr>\n",
       "            <td>136       </td> <td>1996</td> <td>5    </td> <td>VALLEY SP (FEMALE)</td> <td>2562             </td> <td>9           </td> <td>2571            </td> <td>2380             </td> <td>108             </td> <td>2584            </td>\n",
       "        </tr>\n",
       "        <tr>\n",
       "            <td>171       </td> <td>1996</td> <td>6    </td> <td>VALLEY SP (FEMALE)</td> <td>2549             </td> <td>12          </td> <td>2561            </td> <td>1980             </td> <td>129.3           </td> <td>2592            </td>\n",
       "        </tr>\n",
       "        <tr>\n",
       "            <td>205       </td> <td>1996</td> <td>7    </td> <td>VALLEY SP (FEMALE)</td> <td>2789             </td> <td>31          </td> <td>2820            </td> <td>1980             </td> <td>142.4           </td> <td>2592            </td>\n",
       "        </tr>\n",
       "        <tr>\n",
       "            <td>239       </td> <td>1996</td> <td>8    </td> <td>VALLEY SP (FEMALE)</td> <td>2750             </td> <td>8           </td> <td>2758            </td> <td>1980             </td> <td>139.3           </td> <td>2592            </td>\n",
       "        </tr>\n",
       "        <tr>\n",
       "            <td>273       </td> <td>1996</td> <td>9    </td> <td>VALLEY SP (FEMALE)</td> <td>2693             </td> <td>17          </td> <td>2710            </td> <td>1980             </td> <td>136.9           </td> <td>2592            </td>\n",
       "        </tr>\n",
       "        <tr>\n",
       "            <td>307       </td> <td>1996</td> <td>10   </td> <td>VALLEY SP (FEMALE)</td> <td>2751             </td> <td>6           </td> <td>2757            </td> <td>1980             </td> <td>139.2           </td> <td>2592            </td>\n",
       "        </tr>\n",
       "    </tbody>\n",
       "</table>\n",
       "<p>... (194 rows omitted)</p>"
      ],
      "text/plain": [
       "Unnamed: 0 | year | month | institution_name   | population_felons | civil_addict | total_population | designed_capacity | percent_occupied | staffed_capacity\n",
       "0          | 1996 | 1     | VALLEY SP (FEMALE) | 2294              | 0            | 2294             | 1980              | 115.9            | 1980\n",
       "34         | 1996 | 2     | VALLEY SP (FEMALE) | 2096              | 0            | 2096             | 1980              | 105.9            | 2184\n",
       "68         | 1996 | 3     | VALLEY SP (FEMALE) | 2326              | 7            | 2333             | 2380              | 98               | 2584\n",
       "102        | 1996 | 4     | VALLEY SP (FEMALE) | 2498              | 13           | 2511             | 2380              | 105.5            | 2584\n",
       "136        | 1996 | 5     | VALLEY SP (FEMALE) | 2562              | 9            | 2571             | 2380              | 108              | 2584\n",
       "171        | 1996 | 6     | VALLEY SP (FEMALE) | 2549              | 12           | 2561             | 1980              | 129.3            | 2592\n",
       "205        | 1996 | 7     | VALLEY SP (FEMALE) | 2789              | 31           | 2820             | 1980              | 142.4            | 2592\n",
       "239        | 1996 | 8     | VALLEY SP (FEMALE) | 2750              | 8            | 2758             | 1980              | 139.3            | 2592\n",
       "273        | 1996 | 9     | VALLEY SP (FEMALE) | 2693              | 17           | 2710             | 1980              | 136.9            | 2592\n",
       "307        | 1996 | 10    | VALLEY SP (FEMALE) | 2751              | 6            | 2757             | 1980              | 139.2            | 2592\n",
       "... (194 rows omitted)"
      ]
     },
     "execution_count": 230,
     "metadata": {},
     "output_type": "execute_result"
    }
   ],
   "source": [
    "modified_vsp_fem_name = all_fem_vsp.with_column(\"institution_name\", new_prison_name_female)\n",
    "modified_vsp_fem_name"
   ]
  },
  {
   "cell_type": "markdown",
   "metadata": {},
   "source": [
    "Likewise, we want to update the all_male_vsp table with the values `new_prison_name_male`."
   ]
  },
  {
   "cell_type": "code",
   "execution_count": 231,
   "metadata": {},
   "outputs": [
    {
     "data": {
      "text/html": [
       "<table border=\"1\" class=\"dataframe\">\n",
       "    <thead>\n",
       "        <tr>\n",
       "            <th>Unnamed: 0</th> <th>year</th> <th>month</th> <th>institution_name</th> <th>population_felons</th> <th>civil_addict</th> <th>total_population</th> <th>designed_capacity</th> <th>percent_occupied</th> <th>staffed_capacity</th>\n",
       "        </tr>\n",
       "    </thead>\n",
       "    <tbody>\n",
       "        <tr>\n",
       "            <td>6991      </td> <td>2013</td> <td>1    </td> <td>VALLEY SP (MALE)</td> <td>1936             </td> <td>0           </td> <td>1936            </td> <td>1980             </td> <td>97.8            </td> <td>1932            </td>\n",
       "        </tr>\n",
       "        <tr>\n",
       "            <td>7025      </td> <td>2013</td> <td>2    </td> <td>VALLEY SP (MALE)</td> <td>2429             </td> <td>0           </td> <td>2429            </td> <td>1980             </td> <td>122.7           </td> <td>2332            </td>\n",
       "        </tr>\n",
       "        <tr>\n",
       "            <td>7059      </td> <td>2013</td> <td>3    </td> <td>VALLEY SP (MALE)</td> <td>2842             </td> <td>0           </td> <td>2842            </td> <td>1980             </td> <td>143.5           </td> <td>2332            </td>\n",
       "        </tr>\n",
       "        <tr>\n",
       "            <td>7093      </td> <td>2013</td> <td>4    </td> <td>VALLEY SP (MALE)</td> <td>3103             </td> <td>0           </td> <td>3103            </td> <td>1980             </td> <td>156.7           </td> <td>2970            </td>\n",
       "        </tr>\n",
       "        <tr>\n",
       "            <td>7127      </td> <td>2013</td> <td>5    </td> <td>VALLEY SP (MALE)</td> <td>3195             </td> <td>0           </td> <td>3195            </td> <td>1980             </td> <td>161.4           </td> <td>2970            </td>\n",
       "        </tr>\n",
       "        <tr>\n",
       "            <td>7161      </td> <td>2013</td> <td>6    </td> <td>VALLEY SP (MALE)</td> <td>3166             </td> <td>0           </td> <td>3166            </td> <td>1980             </td> <td>159.9           </td> <td>2970            </td>\n",
       "        </tr>\n",
       "        <tr>\n",
       "            <td>7195      </td> <td>2013</td> <td>7    </td> <td>VALLEY SP (MALE)</td> <td>3105             </td> <td>0           </td> <td>3105            </td> <td>1980             </td> <td>156.8           </td> <td>2970            </td>\n",
       "        </tr>\n",
       "        <tr>\n",
       "            <td>7230      </td> <td>2013</td> <td>8    </td> <td>VALLEY SP (MALE)</td> <td>3157             </td> <td>0           </td> <td>3157            </td> <td>1980             </td> <td>159.4           </td> <td>2970            </td>\n",
       "        </tr>\n",
       "        <tr>\n",
       "            <td>7265      </td> <td>2013</td> <td>9    </td> <td>VALLEY SP (MALE)</td> <td>3258             </td> <td>0           </td> <td>3258            </td> <td>1980             </td> <td>164.5           </td> <td>2948            </td>\n",
       "        </tr>\n",
       "        <tr>\n",
       "            <td>7300      </td> <td>2013</td> <td>10   </td> <td>VALLEY SP (MALE)</td> <td>3290             </td> <td>0           </td> <td>3290            </td> <td>1980             </td> <td>166.2           </td> <td>3389            </td>\n",
       "        </tr>\n",
       "    </tbody>\n",
       "</table>\n",
       "<p>... (65 rows omitted)</p>"
      ],
      "text/plain": [
       "Unnamed: 0 | year | month | institution_name | population_felons | civil_addict | total_population | designed_capacity | percent_occupied | staffed_capacity\n",
       "6991       | 2013 | 1     | VALLEY SP (MALE) | 1936              | 0            | 1936             | 1980              | 97.8             | 1932\n",
       "7025       | 2013 | 2     | VALLEY SP (MALE) | 2429              | 0            | 2429             | 1980              | 122.7            | 2332\n",
       "7059       | 2013 | 3     | VALLEY SP (MALE) | 2842              | 0            | 2842             | 1980              | 143.5            | 2332\n",
       "7093       | 2013 | 4     | VALLEY SP (MALE) | 3103              | 0            | 3103             | 1980              | 156.7            | 2970\n",
       "7127       | 2013 | 5     | VALLEY SP (MALE) | 3195              | 0            | 3195             | 1980              | 161.4            | 2970\n",
       "7161       | 2013 | 6     | VALLEY SP (MALE) | 3166              | 0            | 3166             | 1980              | 159.9            | 2970\n",
       "7195       | 2013 | 7     | VALLEY SP (MALE) | 3105              | 0            | 3105             | 1980              | 156.8            | 2970\n",
       "7230       | 2013 | 8     | VALLEY SP (MALE) | 3157              | 0            | 3157             | 1980              | 159.4            | 2970\n",
       "7265       | 2013 | 9     | VALLEY SP (MALE) | 3258              | 0            | 3258             | 1980              | 164.5            | 2948\n",
       "7300       | 2013 | 10    | VALLEY SP (MALE) | 3290              | 0            | 3290             | 1980              | 166.2            | 3389\n",
       "... (65 rows omitted)"
      ]
     },
     "execution_count": 231,
     "metadata": {},
     "output_type": "execute_result"
    }
   ],
   "source": [
    "modified_vsp_male_name = all_male_vsp.with_column(\"institution_name\", new_prison_name_male)\n",
    "modified_vsp_male_name"
   ]
  },
  {
   "cell_type": "markdown",
   "metadata": {},
   "source": [
    "**ADD VALUES BACK TO THE ORIGINAL TABLE**\n",
    "\n",
    "Now that we that we have identified and labeled when VSP was a male or female institution, we want to add these values back to the original table. To do this, we will add the values to a table without VSP in it."
   ]
  },
  {
   "cell_type": "markdown",
   "metadata": {},
   "source": [
    "To find a table without VSP values, we need all the rows where VSP is not in the institution_name. We will use the `where()` function."
   ]
  },
  {
   "cell_type": "code",
   "execution_count": 232,
   "metadata": {},
   "outputs": [
    {
     "data": {
      "text/html": [
       "<table border=\"1\" class=\"dataframe\">\n",
       "    <thead>\n",
       "        <tr>\n",
       "            <th>Unnamed: 0</th> <th>year</th> <th>month</th> <th>institution_name</th> <th>population_felons</th> <th>civil_addict</th> <th>total_population</th> <th>designed_capacity</th> <th>percent_occupied</th> <th>staffed_capacity</th>\n",
       "        </tr>\n",
       "    </thead>\n",
       "    <tbody>\n",
       "        <tr>\n",
       "            <td>1         </td> <td>1996</td> <td>1    </td> <td>SCC (SIERRA CONSERVATION CENTER) </td> <td>322              </td> <td>0           </td> <td>322             </td> <td>320              </td> <td>100.6           </td> <td>320             </td>\n",
       "        </tr>\n",
       "        <tr>\n",
       "            <td>2         </td> <td>1996</td> <td>1    </td> <td>NCWF (NO CAL WOMEN'S FACIL)      </td> <td>786              </td> <td>4           </td> <td>790             </td> <td>400              </td> <td>197.5           </td> <td>760             </td>\n",
       "        </tr>\n",
       "        <tr>\n",
       "            <td>3         </td> <td>1996</td> <td>1    </td> <td>CCWF (CENTRAL CA WOMEN'S FAC)    </td> <td>2846             </td> <td>13          </td> <td>2859            </td> <td>2004             </td> <td>142.7           </td> <td>3224            </td>\n",
       "        </tr>\n",
       "        <tr>\n",
       "            <td>4         </td> <td>1996</td> <td>1    </td> <td>CRC (CAL REHAB CTR, WOMEN)       </td> <td>91               </td> <td>703         </td> <td>794             </td> <td>500              </td> <td>158.8           </td> <td>842             </td>\n",
       "        </tr>\n",
       "        <tr>\n",
       "            <td>5         </td> <td>1996</td> <td>1    </td> <td>CIW (CA INSTITUTION FOR WOMEN)   </td> <td>1690             </td> <td>36          </td> <td>1726            </td> <td>1026             </td> <td>168.2           </td> <td>1646            </td>\n",
       "        </tr>\n",
       "        <tr>\n",
       "            <td>6         </td> <td>1996</td> <td>1    </td> <td>WSP (WASCO SP)                   </td> <td>4475             </td> <td>62          </td> <td>4537            </td> <td>2484             </td> <td>182.6           </td> <td>4484            </td>\n",
       "        </tr>\n",
       "        <tr>\n",
       "            <td>7         </td> <td>1996</td> <td>1    </td> <td>SCC (SIERRA CONSERVATION CENTER) </td> <td>6010             </td> <td>0           </td> <td>6010            </td> <td>3606             </td> <td>166.7           </td> <td>5884            </td>\n",
       "        </tr>\n",
       "        <tr>\n",
       "            <td>8         </td> <td>1996</td> <td>1    </td> <td>SRTA (SANTA RITA CO. JAIL-RC)    </td> <td>811              </td> <td>0           </td> <td>811             </td> <td>395              </td> <td>205.3           </td> <td>750             </td>\n",
       "        </tr>\n",
       "        <tr>\n",
       "            <td>9         </td> <td>1996</td> <td>1    </td> <td>RJD (RJ DONOVAN CORRECTIONAL FAC)</td> <td>4577             </td> <td>0           </td> <td>4577            </td> <td>2200             </td> <td>208             </td> <td>4566            </td>\n",
       "        </tr>\n",
       "        <tr>\n",
       "            <td>10        </td> <td>1996</td> <td>1    </td> <td>PVSP (PLEASANT VALLEY SP)        </td> <td>4080             </td> <td>0           </td> <td>4080            </td> <td>2208             </td> <td>184.8           </td> <td>4008            </td>\n",
       "        </tr>\n",
       "    </tbody>\n",
       "</table>\n",
       "<p>... (9212 rows omitted)</p>"
      ],
      "text/plain": [
       "Unnamed: 0 | year | month | institution_name                  | population_felons | civil_addict | total_population | designed_capacity | percent_occupied | staffed_capacity\n",
       "1          | 1996 | 1     | SCC (SIERRA CONSERVATION CENTER)  | 322               | 0            | 322              | 320               | 100.6            | 320\n",
       "2          | 1996 | 1     | NCWF (NO CAL WOMEN'S FACIL)       | 786               | 4            | 790              | 400               | 197.5            | 760\n",
       "3          | 1996 | 1     | CCWF (CENTRAL CA WOMEN'S FAC)     | 2846              | 13           | 2859             | 2004              | 142.7            | 3224\n",
       "4          | 1996 | 1     | CRC (CAL REHAB CTR, WOMEN)        | 91                | 703          | 794              | 500               | 158.8            | 842\n",
       "5          | 1996 | 1     | CIW (CA INSTITUTION FOR WOMEN)    | 1690              | 36           | 1726             | 1026              | 168.2            | 1646\n",
       "6          | 1996 | 1     | WSP (WASCO SP)                    | 4475              | 62           | 4537             | 2484              | 182.6            | 4484\n",
       "7          | 1996 | 1     | SCC (SIERRA CONSERVATION CENTER)  | 6010              | 0            | 6010             | 3606              | 166.7            | 5884\n",
       "8          | 1996 | 1     | SRTA (SANTA RITA CO. JAIL-RC)     | 811               | 0            | 811              | 395               | 205.3            | 750\n",
       "9          | 1996 | 1     | RJD (RJ DONOVAN CORRECTIONAL FAC) | 4577              | 0            | 4577             | 2200              | 208              | 4566\n",
       "10         | 1996 | 1     | PVSP (PLEASANT VALLEY SP)         | 4080              | 0            | 4080             | 2208              | 184.8            | 4008\n",
       "... (9212 rows omitted)"
      ]
     },
     "execution_count": 232,
     "metadata": {},
     "output_type": "execute_result"
    }
   ],
   "source": [
    "without_vsp = prisons.where(\"institution_name\", are.not_equal_to(\"VSP (VALLEY SP)\"))\n",
    "without_vsp"
   ]
  },
  {
   "cell_type": "markdown",
   "metadata": {},
   "source": [
    "To combine this table with the modified values we will use the `with_rows()` function that we used above. We want to add all the rows from our modified tables to the table without vsp. We do this for both male and female values.\n",
    "\n",
    "The format to add all the rows from one table to another is:\n",
    "- *data_table_one.*`with_rows(`*data_table_two*.`rows)`\n",
    "\n",
    "(A good way to double check that we did this correctly is to see that there are 9501 rows in our table which is the same as 5 shown and 9496 omitted.)"
   ]
  },
  {
   "cell_type": "code",
   "execution_count": 233,
   "metadata": {},
   "outputs": [
    {
     "data": {
      "text/html": [
       "<table border=\"1\" class=\"dataframe\">\n",
       "    <thead>\n",
       "        <tr>\n",
       "            <th>Unnamed: 0</th> <th>year</th> <th>month</th> <th>institution_name</th> <th>population_felons</th> <th>civil_addict</th> <th>total_population</th> <th>designed_capacity</th> <th>percent_occupied</th> <th>staffed_capacity</th>\n",
       "        </tr>\n",
       "    </thead>\n",
       "    <tbody>\n",
       "        <tr>\n",
       "            <td>1         </td> <td>1996</td> <td>1    </td> <td>SCC (SIERRA CONSERVATION CENTER)</td> <td>322              </td> <td>0           </td> <td>322             </td> <td>320              </td> <td>100.6           </td> <td>320             </td>\n",
       "        </tr>\n",
       "        <tr>\n",
       "            <td>2         </td> <td>1996</td> <td>1    </td> <td>NCWF (NO CAL WOMEN'S FACIL)     </td> <td>786              </td> <td>4           </td> <td>790             </td> <td>400              </td> <td>197.5           </td> <td>760             </td>\n",
       "        </tr>\n",
       "        <tr>\n",
       "            <td>3         </td> <td>1996</td> <td>1    </td> <td>CCWF (CENTRAL CA WOMEN'S FAC)   </td> <td>2846             </td> <td>13          </td> <td>2859            </td> <td>2004             </td> <td>142.7           </td> <td>3224            </td>\n",
       "        </tr>\n",
       "        <tr>\n",
       "            <td>4         </td> <td>1996</td> <td>1    </td> <td>CRC (CAL REHAB CTR, WOMEN)      </td> <td>91               </td> <td>703         </td> <td>794             </td> <td>500              </td> <td>158.8           </td> <td>842             </td>\n",
       "        </tr>\n",
       "        <tr>\n",
       "            <td>5         </td> <td>1996</td> <td>1    </td> <td>CIW (CA INSTITUTION FOR WOMEN)  </td> <td>1690             </td> <td>36          </td> <td>1726            </td> <td>1026             </td> <td>168.2           </td> <td>1646            </td>\n",
       "        </tr>\n",
       "    </tbody>\n",
       "</table>\n",
       "<p>... (9496 rows omitted)</p>"
      ],
      "text/plain": [
       "<IPython.core.display.HTML object>"
      ]
     },
     "metadata": {},
     "output_type": "display_data"
    }
   ],
   "source": [
    "prisons1 = without_vsp.with_rows(modified_vsp_fem_name.rows).with_rows(modified_vsp_male_name.rows)\n",
    "prisons1.show(5)"
   ]
  },
  {
   "cell_type": "code",
   "execution_count": 234,
   "metadata": {},
   "outputs": [],
   "source": [
    "prisons1.to_csv(\"prisons1.csv\")"
   ]
  },
  {
   "cell_type": "markdown",
   "metadata": {},
   "source": [
    "## The Case of Sierra Conservation Center (SCC)"
   ]
  },
  {
   "cell_type": "markdown",
   "metadata": {},
   "source": [
    "Similar to Valley State Prison, the Sierra Conservation Center had an unexpected number of entries in the table. We want to find out why this differences exists. Let's start by looking at the Sierra Conservation Center (SCC). To look at only this prison, we will get the rows in our table that only have \"Sierra Conservation Center (SCC)\" as the institution_name."
   ]
  },
  {
   "cell_type": "code",
   "execution_count": 235,
   "metadata": {},
   "outputs": [
    {
     "data": {
      "text/html": [
       "<table border=\"1\" class=\"dataframe\">\n",
       "    <thead>\n",
       "        <tr>\n",
       "            <th>Unnamed: 0</th> <th>year</th> <th>month</th> <th>institution_name</th> <th>population_felons</th> <th>civil_addict</th> <th>total_population</th> <th>designed_capacity</th> <th>percent_occupied</th> <th>staffed_capacity</th>\n",
       "        </tr>\n",
       "    </thead>\n",
       "    <tbody>\n",
       "        <tr>\n",
       "            <td>1         </td> <td>1996</td> <td>1    </td> <td>SCC (SIERRA CONSERVATION CENTER)</td> <td>322              </td> <td>0           </td> <td>322             </td> <td>320              </td> <td>100.6           </td> <td>320             </td>\n",
       "        </tr>\n",
       "        <tr>\n",
       "            <td>7         </td> <td>1996</td> <td>1    </td> <td>SCC (SIERRA CONSERVATION CENTER)</td> <td>6010             </td> <td>0           </td> <td>6010            </td> <td>3606             </td> <td>166.7           </td> <td>5884            </td>\n",
       "        </tr>\n",
       "        <tr>\n",
       "            <td>35        </td> <td>1996</td> <td>2    </td> <td>SCC (SIERRA CONSERVATION CENTER)</td> <td>310              </td> <td>0           </td> <td>310             </td> <td>320              </td> <td>96.9            </td> <td>320             </td>\n",
       "        </tr>\n",
       "        <tr>\n",
       "            <td>41        </td> <td>1996</td> <td>2    </td> <td>SCC (SIERRA CONSERVATION CENTER)</td> <td>5912             </td> <td>0           </td> <td>5912            </td> <td>3606             </td> <td>163.9           </td> <td>5884            </td>\n",
       "        </tr>\n",
       "        <tr>\n",
       "            <td>69        </td> <td>1996</td> <td>3    </td> <td>SCC (SIERRA CONSERVATION CENTER)</td> <td>327              </td> <td>0           </td> <td>327             </td> <td>320              </td> <td>102.2           </td> <td>320             </td>\n",
       "        </tr>\n",
       "    </tbody>\n",
       "</table>\n",
       "<p>... (387 rows omitted)</p>"
      ],
      "text/plain": [
       "<IPython.core.display.HTML object>"
      ]
     },
     "metadata": {},
     "output_type": "display_data"
    }
   ],
   "source": [
    "sierra_cc = prisons1.where(\"institution_name\", \"SCC (SIERRA CONSERVATION CENTER)\")\n",
    "sierra_cc.show(5)"
   ]
  },
  {
   "cell_type": "code",
   "execution_count": 236,
   "metadata": {},
   "outputs": [
    {
     "data": {
      "text/html": [
       "<table border=\"1\" class=\"dataframe\">\n",
       "    <thead>\n",
       "        <tr>\n",
       "            <th>Unnamed: 0</th> <th>year</th> <th>month</th> <th>institution_name</th> <th>population_felons</th> <th>civil_addict</th> <th>total_population</th> <th>designed_capacity</th> <th>percent_occupied</th> <th>staffed_capacity</th>\n",
       "        </tr>\n",
       "    </thead>\n",
       "    <tbody>\n",
       "        <tr>\n",
       "            <td>1         </td> <td>1996</td> <td>1    </td> <td>SCC (SIERRA CONSERVATION CENTER) </td> <td>322              </td> <td>0           </td> <td>322             </td> <td>320              </td> <td>100.6           </td> <td>320             </td>\n",
       "        </tr>\n",
       "        <tr>\n",
       "            <td>2         </td> <td>1996</td> <td>1    </td> <td>NCWF (NO CAL WOMEN'S FACIL)      </td> <td>786              </td> <td>4           </td> <td>790             </td> <td>400              </td> <td>197.5           </td> <td>760             </td>\n",
       "        </tr>\n",
       "        <tr>\n",
       "            <td>3         </td> <td>1996</td> <td>1    </td> <td>CCWF (CENTRAL CA WOMEN'S FAC)    </td> <td>2846             </td> <td>13          </td> <td>2859            </td> <td>2004             </td> <td>142.7           </td> <td>3224            </td>\n",
       "        </tr>\n",
       "        <tr>\n",
       "            <td>4         </td> <td>1996</td> <td>1    </td> <td>CRC (CAL REHAB CTR, WOMEN)       </td> <td>91               </td> <td>703         </td> <td>794             </td> <td>500              </td> <td>158.8           </td> <td>842             </td>\n",
       "        </tr>\n",
       "        <tr>\n",
       "            <td>5         </td> <td>1996</td> <td>1    </td> <td>CIW (CA INSTITUTION FOR WOMEN)   </td> <td>1690             </td> <td>36          </td> <td>1726            </td> <td>1026             </td> <td>168.2           </td> <td>1646            </td>\n",
       "        </tr>\n",
       "        <tr>\n",
       "            <td>6         </td> <td>1996</td> <td>1    </td> <td>WSP (WASCO SP)                   </td> <td>4475             </td> <td>62          </td> <td>4537            </td> <td>2484             </td> <td>182.6           </td> <td>4484            </td>\n",
       "        </tr>\n",
       "        <tr>\n",
       "            <td>7         </td> <td>1996</td> <td>1    </td> <td>SCC (SIERRA CONSERVATION CENTER) </td> <td>6010             </td> <td>0           </td> <td>6010            </td> <td>3606             </td> <td>166.7           </td> <td>5884            </td>\n",
       "        </tr>\n",
       "        <tr>\n",
       "            <td>8         </td> <td>1996</td> <td>1    </td> <td>SRTA (SANTA RITA CO. JAIL-RC)    </td> <td>811              </td> <td>0           </td> <td>811             </td> <td>395              </td> <td>205.3           </td> <td>750             </td>\n",
       "        </tr>\n",
       "        <tr>\n",
       "            <td>9         </td> <td>1996</td> <td>1    </td> <td>RJD (RJ DONOVAN CORRECTIONAL FAC)</td> <td>4577             </td> <td>0           </td> <td>4577            </td> <td>2200             </td> <td>208             </td> <td>4566            </td>\n",
       "        </tr>\n",
       "        <tr>\n",
       "            <td>10        </td> <td>1996</td> <td>1    </td> <td>PVSP (PLEASANT VALLEY SP)        </td> <td>4080             </td> <td>0           </td> <td>4080            </td> <td>2208             </td> <td>184.8           </td> <td>4008            </td>\n",
       "        </tr>\n",
       "    </tbody>\n",
       "</table>\n",
       "<p>... (9491 rows omitted)</p>"
      ],
      "text/plain": [
       "Unnamed: 0 | year | month | institution_name                  | population_felons | civil_addict | total_population | designed_capacity | percent_occupied | staffed_capacity\n",
       "1          | 1996 | 1     | SCC (SIERRA CONSERVATION CENTER)  | 322               | 0            | 322              | 320               | 100.6            | 320\n",
       "2          | 1996 | 1     | NCWF (NO CAL WOMEN'S FACIL)       | 786               | 4            | 790              | 400               | 197.5            | 760\n",
       "3          | 1996 | 1     | CCWF (CENTRAL CA WOMEN'S FAC)     | 2846              | 13           | 2859             | 2004              | 142.7            | 3224\n",
       "4          | 1996 | 1     | CRC (CAL REHAB CTR, WOMEN)        | 91                | 703          | 794              | 500               | 158.8            | 842\n",
       "5          | 1996 | 1     | CIW (CA INSTITUTION FOR WOMEN)    | 1690              | 36           | 1726             | 1026              | 168.2            | 1646\n",
       "6          | 1996 | 1     | WSP (WASCO SP)                    | 4475              | 62           | 4537             | 2484              | 182.6            | 4484\n",
       "7          | 1996 | 1     | SCC (SIERRA CONSERVATION CENTER)  | 6010              | 0            | 6010             | 3606              | 166.7            | 5884\n",
       "8          | 1996 | 1     | SRTA (SANTA RITA CO. JAIL-RC)     | 811               | 0            | 811              | 395               | 205.3            | 750\n",
       "9          | 1996 | 1     | RJD (RJ DONOVAN CORRECTIONAL FAC) | 4577              | 0            | 4577             | 2200              | 208              | 4566\n",
       "10         | 1996 | 1     | PVSP (PLEASANT VALLEY SP)         | 4080              | 0            | 4080             | 2208              | 184.8            | 4008\n",
       "... (9491 rows omitted)"
      ]
     },
     "execution_count": 236,
     "metadata": {},
     "output_type": "execute_result"
    }
   ],
   "source": [
    "prisons1"
   ]
  },
  {
   "cell_type": "markdown",
   "metadata": {},
   "source": [
    "To break down why Sierra CC had 392 records in the span of 23 years, we have to find the years that had more than 12 months of data. To do this, we will group by year, and see the number of times each year appeared. We will use the same methods that we did to see how many months were in each year. The functions are called `group()` and `sort()`.  "
   ]
  },
  {
   "cell_type": "code",
   "execution_count": 237,
   "metadata": {},
   "outputs": [
    {
     "data": {
      "text/html": [
       "<table border=\"1\" class=\"dataframe\">\n",
       "    <thead>\n",
       "        <tr>\n",
       "            <th>year</th> <th>count</th>\n",
       "        </tr>\n",
       "    </thead>\n",
       "    <tbody>\n",
       "        <tr>\n",
       "            <td>1996</td> <td>24   </td>\n",
       "        </tr>\n",
       "        <tr>\n",
       "            <td>1997</td> <td>24   </td>\n",
       "        </tr>\n",
       "        <tr>\n",
       "            <td>1998</td> <td>24   </td>\n",
       "        </tr>\n",
       "        <tr>\n",
       "            <td>1999</td> <td>24   </td>\n",
       "        </tr>\n",
       "        <tr>\n",
       "            <td>2000</td> <td>24   </td>\n",
       "        </tr>\n",
       "        <tr>\n",
       "            <td>2001</td> <td>24   </td>\n",
       "        </tr>\n",
       "        <tr>\n",
       "            <td>2002</td> <td>24   </td>\n",
       "        </tr>\n",
       "        <tr>\n",
       "            <td>2003</td> <td>24   </td>\n",
       "        </tr>\n",
       "        <tr>\n",
       "            <td>2004</td> <td>24   </td>\n",
       "        </tr>\n",
       "        <tr>\n",
       "            <td>2005</td> <td>20   </td>\n",
       "        </tr>\n",
       "        <tr>\n",
       "            <td>2006</td> <td>12   </td>\n",
       "        </tr>\n",
       "        <tr>\n",
       "            <td>2007</td> <td>12   </td>\n",
       "        </tr>\n",
       "        <tr>\n",
       "            <td>2008</td> <td>12   </td>\n",
       "        </tr>\n",
       "        <tr>\n",
       "            <td>2009</td> <td>12   </td>\n",
       "        </tr>\n",
       "        <tr>\n",
       "            <td>2010</td> <td>12   </td>\n",
       "        </tr>\n",
       "        <tr>\n",
       "            <td>2011</td> <td>12   </td>\n",
       "        </tr>\n",
       "        <tr>\n",
       "            <td>2012</td> <td>12   </td>\n",
       "        </tr>\n",
       "        <tr>\n",
       "            <td>2013</td> <td>12   </td>\n",
       "        </tr>\n",
       "        <tr>\n",
       "            <td>2014</td> <td>12   </td>\n",
       "        </tr>\n",
       "        <tr>\n",
       "            <td>2015</td> <td>12   </td>\n",
       "        </tr>\n",
       "        <tr>\n",
       "            <td>2016</td> <td>12   </td>\n",
       "        </tr>\n",
       "        <tr>\n",
       "            <td>2017</td> <td>12   </td>\n",
       "        </tr>\n",
       "        <tr>\n",
       "            <td>2018</td> <td>12   </td>\n",
       "        </tr>\n",
       "    </tbody>\n",
       "</table>"
      ],
      "text/plain": [
       "<IPython.core.display.HTML object>"
      ]
     },
     "metadata": {},
     "output_type": "display_data"
    }
   ],
   "source": [
    "sierra_cc.group(\"year\").show()"
   ]
  },
  {
   "cell_type": "markdown",
   "metadata": {},
   "source": [
    "From this table, we can see that from 1996 to 2004, there was double the number of counts for each month. This could mean that the institution was measuring two different populations. To understand why this difference exists, we had to do research beyond the data.\n",
    "\n",
    "# ..."
   ]
  },
  {
   "cell_type": "markdown",
   "metadata": {},
   "source": [
    "**SEPARATING THE DATA**\n",
    "\n",
    "To separate the two groups, we will isolate the double counts from the single counts. From the table above, we see that there are double counts from 1996-2004, single counts from 2006-2018, and a mixture in 2005. We will separate our data into those three groups by using the `where()` function.\n",
    "\n",
    "The format for the `where()` function is:\n",
    "- *data_table.*`where(`*column_name, specified_values_in_column*`)`"
   ]
  },
  {
   "cell_type": "code",
   "execution_count": 238,
   "metadata": {},
   "outputs": [
    {
     "data": {
      "text/html": [
       "<table border=\"1\" class=\"dataframe\">\n",
       "    <thead>\n",
       "        <tr>\n",
       "            <th>Unnamed: 0</th> <th>year</th> <th>month</th> <th>institution_name</th> <th>population_felons</th> <th>civil_addict</th> <th>total_population</th> <th>designed_capacity</th> <th>percent_occupied</th> <th>staffed_capacity</th>\n",
       "        </tr>\n",
       "    </thead>\n",
       "    <tbody>\n",
       "        <tr>\n",
       "            <td>1         </td> <td>1996</td> <td>1    </td> <td>SCC (SIERRA CONSERVATION CENTER)</td> <td>322              </td> <td>0           </td> <td>322             </td> <td>320              </td> <td>100.6           </td> <td>320             </td>\n",
       "        </tr>\n",
       "        <tr>\n",
       "            <td>7         </td> <td>1996</td> <td>1    </td> <td>SCC (SIERRA CONSERVATION CENTER)</td> <td>6010             </td> <td>0           </td> <td>6010            </td> <td>3606             </td> <td>166.7           </td> <td>5884            </td>\n",
       "        </tr>\n",
       "        <tr>\n",
       "            <td>35        </td> <td>1996</td> <td>2    </td> <td>SCC (SIERRA CONSERVATION CENTER)</td> <td>310              </td> <td>0           </td> <td>310             </td> <td>320              </td> <td>96.9            </td> <td>320             </td>\n",
       "        </tr>\n",
       "        <tr>\n",
       "            <td>41        </td> <td>1996</td> <td>2    </td> <td>SCC (SIERRA CONSERVATION CENTER)</td> <td>5912             </td> <td>0           </td> <td>5912            </td> <td>3606             </td> <td>163.9           </td> <td>5884            </td>\n",
       "        </tr>\n",
       "        <tr>\n",
       "            <td>69        </td> <td>1996</td> <td>3    </td> <td>SCC (SIERRA CONSERVATION CENTER)</td> <td>327              </td> <td>0           </td> <td>327             </td> <td>320              </td> <td>102.2           </td> <td>320             </td>\n",
       "        </tr>\n",
       "    </tbody>\n",
       "</table>\n",
       "<p>... (211 rows omitted)</p>"
      ],
      "text/plain": [
       "<IPython.core.display.HTML object>"
      ]
     },
     "metadata": {},
     "output_type": "display_data"
    }
   ],
   "source": [
    "double_count = sierra_cc.where(\"year\", are.between_or_equal_to(1996, 2004))\n",
    "double_count.show(5)"
   ]
  },
  {
   "cell_type": "code",
   "execution_count": 239,
   "metadata": {},
   "outputs": [
    {
     "data": {
      "text/html": [
       "<table border=\"1\" class=\"dataframe\">\n",
       "    <thead>\n",
       "        <tr>\n",
       "            <th>Unnamed: 0</th> <th>year</th> <th>month</th> <th>institution_name</th> <th>population_felons</th> <th>civil_addict</th> <th>total_population</th> <th>designed_capacity</th> <th>percent_occupied</th> <th>staffed_capacity</th>\n",
       "        </tr>\n",
       "    </thead>\n",
       "    <tbody>\n",
       "        <tr>\n",
       "            <td>4156      </td> <td>2006</td> <td>1    </td> <td>SCC (SIERRA CONSERVATION CENTER)</td> <td>6135             </td> <td>1           </td> <td>6136            </td> <td>3606             </td> <td>170.2           </td> <td>6107            </td>\n",
       "        </tr>\n",
       "        <tr>\n",
       "            <td>4191      </td> <td>2006</td> <td>2    </td> <td>SCC (SIERRA CONSERVATION CENTER)</td> <td>6229             </td> <td>1           </td> <td>6230            </td> <td>3606             </td> <td>172.8           </td> <td>6107            </td>\n",
       "        </tr>\n",
       "        <tr>\n",
       "            <td>4226      </td> <td>2006</td> <td>3    </td> <td>SCC (SIERRA CONSERVATION CENTER)</td> <td>6258             </td> <td>0           </td> <td>6258            </td> <td>3606             </td> <td>173.5           </td> <td>6107            </td>\n",
       "        </tr>\n",
       "        <tr>\n",
       "            <td>4261      </td> <td>2006</td> <td>4    </td> <td>SCC (SIERRA CONSERVATION CENTER)</td> <td>6221             </td> <td>0           </td> <td>6221            </td> <td>3606             </td> <td>172.5           </td> <td>6107            </td>\n",
       "        </tr>\n",
       "        <tr>\n",
       "            <td>4296      </td> <td>2006</td> <td>5    </td> <td>SCC (SIERRA CONSERVATION CENTER)</td> <td>6101             </td> <td>0           </td> <td>6101            </td> <td>3606             </td> <td>169.2           </td> <td>6107            </td>\n",
       "        </tr>\n",
       "    </tbody>\n",
       "</table>\n",
       "<p>... (151 rows omitted)</p>"
      ],
      "text/plain": [
       "<IPython.core.display.HTML object>"
      ]
     },
     "metadata": {},
     "output_type": "display_data"
    }
   ],
   "source": [
    "single_counts = sierra_cc.where('year', are.above(2005))\n",
    "single_counts.show(5)"
   ]
  },
  {
   "cell_type": "code",
   "execution_count": 240,
   "metadata": {},
   "outputs": [
    {
     "data": {
      "text/html": [
       "<table border=\"1\" class=\"dataframe\">\n",
       "    <thead>\n",
       "        <tr>\n",
       "            <th>Unnamed: 0</th> <th>year</th> <th>month</th> <th>institution_name</th> <th>population_felons</th> <th>civil_addict</th> <th>total_population</th> <th>designed_capacity</th> <th>percent_occupied</th> <th>staffed_capacity</th>\n",
       "        </tr>\n",
       "    </thead>\n",
       "    <tbody>\n",
       "        <tr>\n",
       "            <td>3740      </td> <td>2005</td> <td>1    </td> <td>SCC (SIERRA CONSERVATION CENTER)</td> <td>281              </td> <td>0           </td> <td>281             </td> <td>320              </td> <td>87.8            </td> <td>320             </td>\n",
       "        </tr>\n",
       "        <tr>\n",
       "            <td>3745      </td> <td>2005</td> <td>1    </td> <td>SCC (SIERRA CONSERVATION CENTER)</td> <td>6025             </td> <td>0           </td> <td>6025            </td> <td>3606             </td> <td>167.1           </td> <td>6107            </td>\n",
       "        </tr>\n",
       "        <tr>\n",
       "            <td>3774      </td> <td>2005</td> <td>2    </td> <td>SCC (SIERRA CONSERVATION CENTER)</td> <td>291              </td> <td>0           </td> <td>291             </td> <td>320              </td> <td>90.9            </td> <td>320             </td>\n",
       "        </tr>\n",
       "        <tr>\n",
       "            <td>3779      </td> <td>2005</td> <td>2    </td> <td>SCC (SIERRA CONSERVATION CENTER)</td> <td>6051             </td> <td>0           </td> <td>6051            </td> <td>3606             </td> <td>167.8           </td> <td>6107            </td>\n",
       "        </tr>\n",
       "        <tr>\n",
       "            <td>3808      </td> <td>2005</td> <td>3    </td> <td>SCC (SIERRA CONSERVATION CENTER)</td> <td>292              </td> <td>0           </td> <td>292             </td> <td>320              </td> <td>91.3            </td> <td>320             </td>\n",
       "        </tr>\n",
       "        <tr>\n",
       "            <td>3813      </td> <td>2005</td> <td>3    </td> <td>SCC (SIERRA CONSERVATION CENTER)</td> <td>6137             </td> <td>0           </td> <td>6137            </td> <td>3606             </td> <td>170.2           </td> <td>6107            </td>\n",
       "        </tr>\n",
       "        <tr>\n",
       "            <td>3842      </td> <td>2005</td> <td>4    </td> <td>SCC (SIERRA CONSERVATION CENTER)</td> <td>276              </td> <td>0           </td> <td>276             </td> <td>320              </td> <td>86.3            </td> <td>320             </td>\n",
       "        </tr>\n",
       "        <tr>\n",
       "            <td>3847      </td> <td>2005</td> <td>4    </td> <td>SCC (SIERRA CONSERVATION CENTER)</td> <td>6185             </td> <td>0           </td> <td>6185            </td> <td>3606             </td> <td>171.5           </td> <td>6107            </td>\n",
       "        </tr>\n",
       "        <tr>\n",
       "            <td>3876      </td> <td>2005</td> <td>5    </td> <td>SCC (SIERRA CONSERVATION CENTER)</td> <td>288              </td> <td>0           </td> <td>288             </td> <td>320              </td> <td>90              </td> <td>320             </td>\n",
       "        </tr>\n",
       "        <tr>\n",
       "            <td>3881      </td> <td>2005</td> <td>5    </td> <td>SCC (SIERRA CONSERVATION CENTER)</td> <td>6099             </td> <td>0           </td> <td>6099            </td> <td>3606             </td> <td>169.1           </td> <td>6107            </td>\n",
       "        </tr>\n",
       "        <tr>\n",
       "            <td>3910      </td> <td>2005</td> <td>6    </td> <td>SCC (SIERRA CONSERVATION CENTER)</td> <td>291              </td> <td>0           </td> <td>291             </td> <td>320              </td> <td>90.9            </td> <td>320             </td>\n",
       "        </tr>\n",
       "        <tr>\n",
       "            <td>3915      </td> <td>2005</td> <td>6    </td> <td>SCC (SIERRA CONSERVATION CENTER)</td> <td>6159             </td> <td>0           </td> <td>6159            </td> <td>3606             </td> <td>170.8           </td> <td>6107            </td>\n",
       "        </tr>\n",
       "        <tr>\n",
       "            <td>3945      </td> <td>2005</td> <td>7    </td> <td>SCC (SIERRA CONSERVATION CENTER)</td> <td>287              </td> <td>0           </td> <td>287             </td> <td>320              </td> <td>89.7            </td> <td>320             </td>\n",
       "        </tr>\n",
       "        <tr>\n",
       "            <td>3950      </td> <td>2005</td> <td>7    </td> <td>SCC (SIERRA CONSERVATION CENTER)</td> <td>6200             </td> <td>0           </td> <td>6200            </td> <td>3606             </td> <td>171.9           </td> <td>6107            </td>\n",
       "        </tr>\n",
       "        <tr>\n",
       "            <td>3980      </td> <td>2005</td> <td>8    </td> <td>SCC (SIERRA CONSERVATION CENTER)</td> <td>296              </td> <td>0           </td> <td>296             </td> <td>320              </td> <td>92.5            </td> <td>320             </td>\n",
       "        </tr>\n",
       "        <tr>\n",
       "            <td>3985      </td> <td>2005</td> <td>8    </td> <td>SCC (SIERRA CONSERVATION CENTER)</td> <td>6152             </td> <td>0           </td> <td>6152            </td> <td>3606             </td> <td>170.6           </td> <td>6107            </td>\n",
       "        </tr>\n",
       "        <tr>\n",
       "            <td>4019      </td> <td>2005</td> <td>9    </td> <td>SCC (SIERRA CONSERVATION CENTER)</td> <td>6022             </td> <td>0           </td> <td>6022            </td> <td>3606             </td> <td>167             </td> <td>6107            </td>\n",
       "        </tr>\n",
       "        <tr>\n",
       "            <td>4053      </td> <td>2005</td> <td>10   </td> <td>SCC (SIERRA CONSERVATION CENTER)</td> <td>6164             </td> <td>0           </td> <td>6164            </td> <td>3606             </td> <td>170.9           </td> <td>6107            </td>\n",
       "        </tr>\n",
       "        <tr>\n",
       "            <td>4087      </td> <td>2005</td> <td>11   </td> <td>SCC (SIERRA CONSERVATION CENTER)</td> <td>6165             </td> <td>0           </td> <td>6165            </td> <td>3606             </td> <td>171             </td> <td>6107            </td>\n",
       "        </tr>\n",
       "        <tr>\n",
       "            <td>4121      </td> <td>2005</td> <td>12   </td> <td>SCC (SIERRA CONSERVATION CENTER)</td> <td>6165             </td> <td>1           </td> <td>6166            </td> <td>3606             </td> <td>171             </td> <td>6107            </td>\n",
       "        </tr>\n",
       "    </tbody>\n",
       "</table>"
      ],
      "text/plain": [
       "<IPython.core.display.HTML object>"
      ]
     },
     "metadata": {},
     "output_type": "display_data"
    }
   ],
   "source": [
    "sierra_2005 = sierra_cc.where('year', 2005)\n",
    "sierra_2005.show()"
   ]
  },
  {
   "cell_type": "markdown",
   "metadata": {},
   "source": [
    "For 2005, we will need to break up the year into two groups: double counts in 2005 and single counts in 2005. We can see that there are double counts from January to August and single counts from September to December."
   ]
  },
  {
   "cell_type": "code",
   "execution_count": 241,
   "metadata": {},
   "outputs": [
    {
     "data": {
      "text/html": [
       "<table border=\"1\" class=\"dataframe\">\n",
       "    <thead>\n",
       "        <tr>\n",
       "            <th>Unnamed: 0</th> <th>year</th> <th>month</th> <th>institution_name</th> <th>population_felons</th> <th>civil_addict</th> <th>total_population</th> <th>designed_capacity</th> <th>percent_occupied</th> <th>staffed_capacity</th>\n",
       "        </tr>\n",
       "    </thead>\n",
       "    <tbody>\n",
       "        <tr>\n",
       "            <td>3740      </td> <td>2005</td> <td>1    </td> <td>SCC (SIERRA CONSERVATION CENTER)</td> <td>281              </td> <td>0           </td> <td>281             </td> <td>320              </td> <td>87.8            </td> <td>320             </td>\n",
       "        </tr>\n",
       "        <tr>\n",
       "            <td>3745      </td> <td>2005</td> <td>1    </td> <td>SCC (SIERRA CONSERVATION CENTER)</td> <td>6025             </td> <td>0           </td> <td>6025            </td> <td>3606             </td> <td>167.1           </td> <td>6107            </td>\n",
       "        </tr>\n",
       "        <tr>\n",
       "            <td>3774      </td> <td>2005</td> <td>2    </td> <td>SCC (SIERRA CONSERVATION CENTER)</td> <td>291              </td> <td>0           </td> <td>291             </td> <td>320              </td> <td>90.9            </td> <td>320             </td>\n",
       "        </tr>\n",
       "        <tr>\n",
       "            <td>3779      </td> <td>2005</td> <td>2    </td> <td>SCC (SIERRA CONSERVATION CENTER)</td> <td>6051             </td> <td>0           </td> <td>6051            </td> <td>3606             </td> <td>167.8           </td> <td>6107            </td>\n",
       "        </tr>\n",
       "        <tr>\n",
       "            <td>3808      </td> <td>2005</td> <td>3    </td> <td>SCC (SIERRA CONSERVATION CENTER)</td> <td>292              </td> <td>0           </td> <td>292             </td> <td>320              </td> <td>91.3            </td> <td>320             </td>\n",
       "        </tr>\n",
       "    </tbody>\n",
       "</table>\n",
       "<p>... (11 rows omitted)</p>"
      ],
      "text/plain": [
       "<IPython.core.display.HTML object>"
      ]
     },
     "metadata": {},
     "output_type": "display_data"
    }
   ],
   "source": [
    "double_2005 = sierra_2005.where('month', are.below(9))\n",
    "double_2005.show(5)"
   ]
  },
  {
   "cell_type": "code",
   "execution_count": 242,
   "metadata": {},
   "outputs": [
    {
     "data": {
      "text/html": [
       "<table border=\"1\" class=\"dataframe\">\n",
       "    <thead>\n",
       "        <tr>\n",
       "            <th>Unnamed: 0</th> <th>year</th> <th>month</th> <th>institution_name</th> <th>population_felons</th> <th>civil_addict</th> <th>total_population</th> <th>designed_capacity</th> <th>percent_occupied</th> <th>staffed_capacity</th>\n",
       "        </tr>\n",
       "    </thead>\n",
       "    <tbody>\n",
       "        <tr>\n",
       "            <td>4019      </td> <td>2005</td> <td>9    </td> <td>SCC (SIERRA CONSERVATION CENTER)</td> <td>6022             </td> <td>0           </td> <td>6022            </td> <td>3606             </td> <td>167             </td> <td>6107            </td>\n",
       "        </tr>\n",
       "        <tr>\n",
       "            <td>4053      </td> <td>2005</td> <td>10   </td> <td>SCC (SIERRA CONSERVATION CENTER)</td> <td>6164             </td> <td>0           </td> <td>6164            </td> <td>3606             </td> <td>170.9           </td> <td>6107            </td>\n",
       "        </tr>\n",
       "        <tr>\n",
       "            <td>4087      </td> <td>2005</td> <td>11   </td> <td>SCC (SIERRA CONSERVATION CENTER)</td> <td>6165             </td> <td>0           </td> <td>6165            </td> <td>3606             </td> <td>171             </td> <td>6107            </td>\n",
       "        </tr>\n",
       "        <tr>\n",
       "            <td>4121      </td> <td>2005</td> <td>12   </td> <td>SCC (SIERRA CONSERVATION CENTER)</td> <td>6165             </td> <td>1           </td> <td>6166            </td> <td>3606             </td> <td>171             </td> <td>6107            </td>\n",
       "        </tr>\n",
       "    </tbody>\n",
       "</table>"
      ],
      "text/plain": [
       "Unnamed: 0 | year | month | institution_name                 | population_felons | civil_addict | total_population | designed_capacity | percent_occupied | staffed_capacity\n",
       "4019       | 2005 | 9     | SCC (SIERRA CONSERVATION CENTER) | 6022              | 0            | 6022             | 3606              | 167              | 6107\n",
       "4053       | 2005 | 10    | SCC (SIERRA CONSERVATION CENTER) | 6164              | 0            | 6164             | 3606              | 170.9            | 6107\n",
       "4087       | 2005 | 11    | SCC (SIERRA CONSERVATION CENTER) | 6165              | 0            | 6165             | 3606              | 171              | 6107\n",
       "4121       | 2005 | 12    | SCC (SIERRA CONSERVATION CENTER) | 6165              | 1            | 6166             | 3606              | 171              | 6107"
      ]
     },
     "execution_count": 242,
     "metadata": {},
     "output_type": "execute_result"
    }
   ],
   "source": [
    "single_2005 = sierra_2005.where('month', are.above_or_equal_to(9))\n",
    "single_2005"
   ]
  },
  {
   "cell_type": "markdown",
   "metadata": {},
   "source": [
    "Now that we have identitfied all the double and single counts. It will be easier if we combine all the single and all the double counts into the same tables. To do this we will combine the tables using the `with_rows()` function.\n",
    "\n",
    "The format to add all the rows from one table to another is:\n",
    "- *data_table_one.*`with_rows(`*data_table_two*.`rows)`"
   ]
  },
  {
   "cell_type": "code",
   "execution_count": 243,
   "metadata": {},
   "outputs": [
    {
     "data": {
      "text/html": [
       "<table border=\"1\" class=\"dataframe\">\n",
       "    <thead>\n",
       "        <tr>\n",
       "            <th>Unnamed: 0</th> <th>year</th> <th>month</th> <th>institution_name</th> <th>population_felons</th> <th>civil_addict</th> <th>total_population</th> <th>designed_capacity</th> <th>percent_occupied</th> <th>staffed_capacity</th>\n",
       "        </tr>\n",
       "    </thead>\n",
       "    <tbody>\n",
       "        <tr>\n",
       "            <td>1         </td> <td>1996</td> <td>1    </td> <td>SCC (SIERRA CONSERVATION CENTER)</td> <td>322              </td> <td>0           </td> <td>322             </td> <td>320              </td> <td>100.6           </td> <td>320             </td>\n",
       "        </tr>\n",
       "        <tr>\n",
       "            <td>7         </td> <td>1996</td> <td>1    </td> <td>SCC (SIERRA CONSERVATION CENTER)</td> <td>6010             </td> <td>0           </td> <td>6010            </td> <td>3606             </td> <td>166.7           </td> <td>5884            </td>\n",
       "        </tr>\n",
       "        <tr>\n",
       "            <td>35        </td> <td>1996</td> <td>2    </td> <td>SCC (SIERRA CONSERVATION CENTER)</td> <td>310              </td> <td>0           </td> <td>310             </td> <td>320              </td> <td>96.9            </td> <td>320             </td>\n",
       "        </tr>\n",
       "        <tr>\n",
       "            <td>41        </td> <td>1996</td> <td>2    </td> <td>SCC (SIERRA CONSERVATION CENTER)</td> <td>5912             </td> <td>0           </td> <td>5912            </td> <td>3606             </td> <td>163.9           </td> <td>5884            </td>\n",
       "        </tr>\n",
       "        <tr>\n",
       "            <td>69        </td> <td>1996</td> <td>3    </td> <td>SCC (SIERRA CONSERVATION CENTER)</td> <td>327              </td> <td>0           </td> <td>327             </td> <td>320              </td> <td>102.2           </td> <td>320             </td>\n",
       "        </tr>\n",
       "    </tbody>\n",
       "</table>\n",
       "<p>... (227 rows omitted)</p>"
      ],
      "text/plain": [
       "<IPython.core.display.HTML object>"
      ]
     },
     "metadata": {},
     "output_type": "display_data"
    }
   ],
   "source": [
    "all_double_sierra = double_count.with_rows(double_2005.rows)\n",
    "all_double_sierra.show(5)"
   ]
  },
  {
   "cell_type": "code",
   "execution_count": 244,
   "metadata": {},
   "outputs": [
    {
     "data": {
      "text/html": [
       "<table border=\"1\" class=\"dataframe\">\n",
       "    <thead>\n",
       "        <tr>\n",
       "            <th>Unnamed: 0</th> <th>year</th> <th>month</th> <th>institution_name</th> <th>population_felons</th> <th>civil_addict</th> <th>total_population</th> <th>designed_capacity</th> <th>percent_occupied</th> <th>staffed_capacity</th>\n",
       "        </tr>\n",
       "    </thead>\n",
       "    <tbody>\n",
       "        <tr>\n",
       "            <td>4156      </td> <td>2006</td> <td>1    </td> <td>SCC (SIERRA CONSERVATION CENTER)</td> <td>6135             </td> <td>1           </td> <td>6136            </td> <td>3606             </td> <td>170.2           </td> <td>6107            </td>\n",
       "        </tr>\n",
       "        <tr>\n",
       "            <td>4191      </td> <td>2006</td> <td>2    </td> <td>SCC (SIERRA CONSERVATION CENTER)</td> <td>6229             </td> <td>1           </td> <td>6230            </td> <td>3606             </td> <td>172.8           </td> <td>6107            </td>\n",
       "        </tr>\n",
       "        <tr>\n",
       "            <td>4226      </td> <td>2006</td> <td>3    </td> <td>SCC (SIERRA CONSERVATION CENTER)</td> <td>6258             </td> <td>0           </td> <td>6258            </td> <td>3606             </td> <td>173.5           </td> <td>6107            </td>\n",
       "        </tr>\n",
       "        <tr>\n",
       "            <td>4261      </td> <td>2006</td> <td>4    </td> <td>SCC (SIERRA CONSERVATION CENTER)</td> <td>6221             </td> <td>0           </td> <td>6221            </td> <td>3606             </td> <td>172.5           </td> <td>6107            </td>\n",
       "        </tr>\n",
       "        <tr>\n",
       "            <td>4296      </td> <td>2006</td> <td>5    </td> <td>SCC (SIERRA CONSERVATION CENTER)</td> <td>6101             </td> <td>0           </td> <td>6101            </td> <td>3606             </td> <td>169.2           </td> <td>6107            </td>\n",
       "        </tr>\n",
       "    </tbody>\n",
       "</table>\n",
       "<p>... (155 rows omitted)</p>"
      ],
      "text/plain": [
       "<IPython.core.display.HTML object>"
      ]
     },
     "metadata": {},
     "output_type": "display_data"
    }
   ],
   "source": [
    "all_single_sierra = single_counts.with_rows(single_2005.rows)\n",
    "all_single_sierra.show(5)"
   ]
  },
  {
   "cell_type": "markdown",
   "metadata": {},
   "source": [
    "With both the single and double counts identified, we can separate the double counts into two groups. The values in one group remain in the hundreds while the other groups has thousands. We will create two tables to add to one for large counts and another for smaller counts.\n",
    "\n",
    "\n",
    "You do not need to understand the following code. It separates our table with double values into two new tables, where one table has small values and the other table has all of the larger values."
   ]
  },
  {
   "cell_type": "code",
   "execution_count": 245,
   "metadata": {},
   "outputs": [],
   "source": [
    "large_counts_table = Table(sierra_cc.labels)\n",
    "small_counts_table = Table(sierra_cc.labels)\n",
    "\n",
    "\n",
    "for i in np.arange(all_double_sierra.num_rows):\n",
    "    if i % 2 == 0:\n",
    "        small_counts_table = small_counts_table.with_row(all_double_sierra.row(i))\n",
    "    else:\n",
    "        large_counts_table = large_counts_table.with_row(all_double_sierra.row(i))"
   ]
  },
  {
   "cell_type": "code",
   "execution_count": 246,
   "metadata": {},
   "outputs": [
    {
     "data": {
      "text/html": [
       "<table border=\"1\" class=\"dataframe\">\n",
       "    <thead>\n",
       "        <tr>\n",
       "            <th>Unnamed: 0</th> <th>year</th> <th>month</th> <th>institution_name</th> <th>population_felons</th> <th>civil_addict</th> <th>total_population</th> <th>designed_capacity</th> <th>percent_occupied</th> <th>staffed_capacity</th>\n",
       "        </tr>\n",
       "    </thead>\n",
       "    <tbody>\n",
       "        <tr>\n",
       "            <td>1         </td> <td>1996</td> <td>1    </td> <td>SCC (SIERRA CONSERVATION CENTER)</td> <td>322              </td> <td>0           </td> <td>322             </td> <td>320              </td> <td>100.6           </td> <td>320             </td>\n",
       "        </tr>\n",
       "        <tr>\n",
       "            <td>35        </td> <td>1996</td> <td>2    </td> <td>SCC (SIERRA CONSERVATION CENTER)</td> <td>310              </td> <td>0           </td> <td>310             </td> <td>320              </td> <td>96.9            </td> <td>320             </td>\n",
       "        </tr>\n",
       "        <tr>\n",
       "            <td>69        </td> <td>1996</td> <td>3    </td> <td>SCC (SIERRA CONSERVATION CENTER)</td> <td>327              </td> <td>0           </td> <td>327             </td> <td>320              </td> <td>102.2           </td> <td>320             </td>\n",
       "        </tr>\n",
       "        <tr>\n",
       "            <td>103       </td> <td>1996</td> <td>4    </td> <td>SCC (SIERRA CONSERVATION CENTER)</td> <td>312              </td> <td>0           </td> <td>312             </td> <td>320              </td> <td>97.5            </td> <td>320             </td>\n",
       "        </tr>\n",
       "        <tr>\n",
       "            <td>137       </td> <td>1996</td> <td>5    </td> <td>SCC (SIERRA CONSERVATION CENTER)</td> <td>320              </td> <td>0           </td> <td>320             </td> <td>320              </td> <td>100             </td> <td>320             </td>\n",
       "        </tr>\n",
       "    </tbody>\n",
       "</table>\n",
       "<p>... (111 rows omitted)</p>"
      ],
      "text/plain": [
       "<IPython.core.display.HTML object>"
      ]
     },
     "metadata": {},
     "output_type": "display_data"
    }
   ],
   "source": [
    "small_counts_table.show(5)"
   ]
  },
  {
   "cell_type": "code",
   "execution_count": 247,
   "metadata": {},
   "outputs": [
    {
     "data": {
      "text/html": [
       "<table border=\"1\" class=\"dataframe\">\n",
       "    <thead>\n",
       "        <tr>\n",
       "            <th>Unnamed: 0</th> <th>year</th> <th>month</th> <th>institution_name</th> <th>population_felons</th> <th>civil_addict</th> <th>total_population</th> <th>designed_capacity</th> <th>percent_occupied</th> <th>staffed_capacity</th>\n",
       "        </tr>\n",
       "    </thead>\n",
       "    <tbody>\n",
       "        <tr>\n",
       "            <td>7         </td> <td>1996</td> <td>1    </td> <td>SCC (SIERRA CONSERVATION CENTER)</td> <td>6010             </td> <td>0           </td> <td>6010            </td> <td>3606             </td> <td>166.7           </td> <td>5884            </td>\n",
       "        </tr>\n",
       "        <tr>\n",
       "            <td>41        </td> <td>1996</td> <td>2    </td> <td>SCC (SIERRA CONSERVATION CENTER)</td> <td>5912             </td> <td>0           </td> <td>5912            </td> <td>3606             </td> <td>163.9           </td> <td>5884            </td>\n",
       "        </tr>\n",
       "        <tr>\n",
       "            <td>75        </td> <td>1996</td> <td>3    </td> <td>SCC (SIERRA CONSERVATION CENTER)</td> <td>5912             </td> <td>0           </td> <td>5912            </td> <td>3606             </td> <td>163.9           </td> <td>5884            </td>\n",
       "        </tr>\n",
       "        <tr>\n",
       "            <td>109       </td> <td>1996</td> <td>4    </td> <td>SCC (SIERRA CONSERVATION CENTER)</td> <td>5979             </td> <td>0           </td> <td>5979            </td> <td>3606             </td> <td>165.8           </td> <td>5884            </td>\n",
       "        </tr>\n",
       "        <tr>\n",
       "            <td>143       </td> <td>1996</td> <td>5    </td> <td>SCC (SIERRA CONSERVATION CENTER)</td> <td>5884             </td> <td>0           </td> <td>5884            </td> <td>3606             </td> <td>163.2           </td> <td>5884            </td>\n",
       "        </tr>\n",
       "    </tbody>\n",
       "</table>\n",
       "<p>... (111 rows omitted)</p>"
      ],
      "text/plain": [
       "<IPython.core.display.HTML object>"
      ]
     },
     "metadata": {},
     "output_type": "display_data"
    }
   ],
   "source": [
    "large_counts_table.show(5)"
   ]
  },
  {
   "cell_type": "markdown",
   "metadata": {},
   "source": [
    "We can see that all the smaller values are in the same table while all the larger values are in the same table. We want these larger counts to be combined with those larger counts in the original table. We saved the larger counts that appeared only once in our table under the name all_single_sierra, so we will add our larger counts to that table using the `with_rows()` function. \n",
    "\n",
    "The format is: *data_table_one.*`with_rows(`*data_table_two*.`rows)`"
   ]
  },
  {
   "cell_type": "code",
   "execution_count": 248,
   "metadata": {},
   "outputs": [
    {
     "data": {
      "text/html": [
       "<table border=\"1\" class=\"dataframe\">\n",
       "    <thead>\n",
       "        <tr>\n",
       "            <th>Unnamed: 0</th> <th>year</th> <th>month</th> <th>institution_name</th> <th>population_felons</th> <th>civil_addict</th> <th>total_population</th> <th>designed_capacity</th> <th>percent_occupied</th> <th>staffed_capacity</th>\n",
       "        </tr>\n",
       "    </thead>\n",
       "    <tbody>\n",
       "        <tr>\n",
       "            <td>7         </td> <td>1996</td> <td>1    </td> <td>SCC (SIERRA CONSERVATION CENTER)</td> <td>6010             </td> <td>0           </td> <td>6010            </td> <td>3606             </td> <td>166.7           </td> <td>5884            </td>\n",
       "        </tr>\n",
       "        <tr>\n",
       "            <td>41        </td> <td>1996</td> <td>2    </td> <td>SCC (SIERRA CONSERVATION CENTER)</td> <td>5912             </td> <td>0           </td> <td>5912            </td> <td>3606             </td> <td>163.9           </td> <td>5884            </td>\n",
       "        </tr>\n",
       "        <tr>\n",
       "            <td>75        </td> <td>1996</td> <td>3    </td> <td>SCC (SIERRA CONSERVATION CENTER)</td> <td>5912             </td> <td>0           </td> <td>5912            </td> <td>3606             </td> <td>163.9           </td> <td>5884            </td>\n",
       "        </tr>\n",
       "        <tr>\n",
       "            <td>109       </td> <td>1996</td> <td>4    </td> <td>SCC (SIERRA CONSERVATION CENTER)</td> <td>5979             </td> <td>0           </td> <td>5979            </td> <td>3606             </td> <td>165.8           </td> <td>5884            </td>\n",
       "        </tr>\n",
       "        <tr>\n",
       "            <td>143       </td> <td>1996</td> <td>5    </td> <td>SCC (SIERRA CONSERVATION CENTER)</td> <td>5884             </td> <td>0           </td> <td>5884            </td> <td>3606             </td> <td>163.2           </td> <td>5884            </td>\n",
       "        </tr>\n",
       "    </tbody>\n",
       "</table>\n",
       "<p>... (271 rows omitted)</p>"
      ],
      "text/plain": [
       "<IPython.core.display.HTML object>"
      ]
     },
     "metadata": {},
     "output_type": "display_data"
    }
   ],
   "source": [
    "all_larger_values = all_single_sierra.with_rows(large_counts_table.rows).sort('year')\n",
    "all_larger_values.show(5)"
   ]
  },
  {
   "cell_type": "markdown",
   "metadata": {},
   "source": [
    "For the smaller counts, there is not a table to add them to, because they are the only occurrences within our sierra table, so we can leave them as is."
   ]
  },
  {
   "cell_type": "code",
   "execution_count": 249,
   "metadata": {},
   "outputs": [
    {
     "data": {
      "text/html": [
       "<table border=\"1\" class=\"dataframe\">\n",
       "    <thead>\n",
       "        <tr>\n",
       "            <th>Unnamed: 0</th> <th>year</th> <th>month</th> <th>institution_name</th> <th>population_felons</th> <th>civil_addict</th> <th>total_population</th> <th>designed_capacity</th> <th>percent_occupied</th> <th>staffed_capacity</th>\n",
       "        </tr>\n",
       "    </thead>\n",
       "    <tbody>\n",
       "        <tr>\n",
       "            <td>1         </td> <td>1996</td> <td>1    </td> <td>SCC (SIERRA CONSERVATION CENTER)</td> <td>322              </td> <td>0           </td> <td>322             </td> <td>320              </td> <td>100.6           </td> <td>320             </td>\n",
       "        </tr>\n",
       "        <tr>\n",
       "            <td>35        </td> <td>1996</td> <td>2    </td> <td>SCC (SIERRA CONSERVATION CENTER)</td> <td>310              </td> <td>0           </td> <td>310             </td> <td>320              </td> <td>96.9            </td> <td>320             </td>\n",
       "        </tr>\n",
       "        <tr>\n",
       "            <td>69        </td> <td>1996</td> <td>3    </td> <td>SCC (SIERRA CONSERVATION CENTER)</td> <td>327              </td> <td>0           </td> <td>327             </td> <td>320              </td> <td>102.2           </td> <td>320             </td>\n",
       "        </tr>\n",
       "        <tr>\n",
       "            <td>103       </td> <td>1996</td> <td>4    </td> <td>SCC (SIERRA CONSERVATION CENTER)</td> <td>312              </td> <td>0           </td> <td>312             </td> <td>320              </td> <td>97.5            </td> <td>320             </td>\n",
       "        </tr>\n",
       "        <tr>\n",
       "            <td>137       </td> <td>1996</td> <td>5    </td> <td>SCC (SIERRA CONSERVATION CENTER)</td> <td>320              </td> <td>0           </td> <td>320             </td> <td>320              </td> <td>100             </td> <td>320             </td>\n",
       "        </tr>\n",
       "    </tbody>\n",
       "</table>\n",
       "<p>... (111 rows omitted)</p>"
      ],
      "text/plain": [
       "<IPython.core.display.HTML object>"
      ]
     },
     "metadata": {},
     "output_type": "display_data"
    }
   ],
   "source": [
    "small_counts_table.show(5)"
   ]
  },
  {
   "cell_type": "markdown",
   "metadata": {},
   "source": [
    "**RENAMING**"
   ]
  },
  {
   "cell_type": "markdown",
   "metadata": {},
   "source": [
    "We have two clear distinct groups, and want to add them back to our original table, but to do so we must rename them to be able to distinguish them in the future. The two cells create a list of names that we will use as our columns. (They will not output anything.)"
   ]
  },
  {
   "cell_type": "code",
   "execution_count": 250,
   "metadata": {},
   "outputs": [],
   "source": [
    "sierra_prison_institution_name = np.array([])\n",
    "for i in np.arange(all_larger_values.num_rows):\n",
    "    sierra_prison_institution_name = np.append(sierra_prison_institution_name, \"SIERRA CONSERVATION CENTER (PRISON)\")"
   ]
  },
  {
   "cell_type": "code",
   "execution_count": 251,
   "metadata": {},
   "outputs": [],
   "source": [
    "sierra_firecamp_name = np.array([])\n",
    "for i in np.arange(small_counts_table.num_rows):\n",
    "    sierra_firecamp_name = np.append(sierra_firecamp_name, \"SIERRA CONSERVATION CENTER (FIRECAMP)\")"
   ]
  },
  {
   "cell_type": "markdown",
   "metadata": {},
   "source": [
    "With these new values, we can rename our data using the `with_column()` function which we will use to change the values in our \"institution_name\" column.\n",
    "\n",
    "The format is:\n",
    "- *data_table.*`with_column(` *column_name*, *column_values*`)`"
   ]
  },
  {
   "cell_type": "code",
   "execution_count": 252,
   "metadata": {},
   "outputs": [
    {
     "data": {
      "text/html": [
       "<table border=\"1\" class=\"dataframe\">\n",
       "    <thead>\n",
       "        <tr>\n",
       "            <th>Unnamed: 0</th> <th>year</th> <th>month</th> <th>institution_name</th> <th>population_felons</th> <th>civil_addict</th> <th>total_population</th> <th>designed_capacity</th> <th>percent_occupied</th> <th>staffed_capacity</th>\n",
       "        </tr>\n",
       "    </thead>\n",
       "    <tbody>\n",
       "        <tr>\n",
       "            <td>7         </td> <td>1996</td> <td>1    </td> <td>SIERRA CONSERVATION CENTER (PRISON)</td> <td>6010             </td> <td>0           </td> <td>6010            </td> <td>3606             </td> <td>166.7           </td> <td>5884            </td>\n",
       "        </tr>\n",
       "        <tr>\n",
       "            <td>41        </td> <td>1996</td> <td>2    </td> <td>SIERRA CONSERVATION CENTER (PRISON)</td> <td>5912             </td> <td>0           </td> <td>5912            </td> <td>3606             </td> <td>163.9           </td> <td>5884            </td>\n",
       "        </tr>\n",
       "        <tr>\n",
       "            <td>75        </td> <td>1996</td> <td>3    </td> <td>SIERRA CONSERVATION CENTER (PRISON)</td> <td>5912             </td> <td>0           </td> <td>5912            </td> <td>3606             </td> <td>163.9           </td> <td>5884            </td>\n",
       "        </tr>\n",
       "        <tr>\n",
       "            <td>109       </td> <td>1996</td> <td>4    </td> <td>SIERRA CONSERVATION CENTER (PRISON)</td> <td>5979             </td> <td>0           </td> <td>5979            </td> <td>3606             </td> <td>165.8           </td> <td>5884            </td>\n",
       "        </tr>\n",
       "        <tr>\n",
       "            <td>143       </td> <td>1996</td> <td>5    </td> <td>SIERRA CONSERVATION CENTER (PRISON)</td> <td>5884             </td> <td>0           </td> <td>5884            </td> <td>3606             </td> <td>163.2           </td> <td>5884            </td>\n",
       "        </tr>\n",
       "    </tbody>\n",
       "</table>\n",
       "<p>... (271 rows omitted)</p>"
      ],
      "text/plain": [
       "<IPython.core.display.HTML object>"
      ]
     },
     "metadata": {},
     "output_type": "display_data"
    }
   ],
   "source": [
    "modified_sierra_prison = all_larger_values.with_column(\"institution_name\", sierra_prison_institution_name)\n",
    "modified_sierra_prison.show(5)"
   ]
  },
  {
   "cell_type": "markdown",
   "metadata": {},
   "source": [
    "We do this for the smaller values as well."
   ]
  },
  {
   "cell_type": "code",
   "execution_count": 253,
   "metadata": {},
   "outputs": [
    {
     "data": {
      "text/html": [
       "<table border=\"1\" class=\"dataframe\">\n",
       "    <thead>\n",
       "        <tr>\n",
       "            <th>Unnamed: 0</th> <th>year</th> <th>month</th> <th>institution_name</th> <th>population_felons</th> <th>civil_addict</th> <th>total_population</th> <th>designed_capacity</th> <th>percent_occupied</th> <th>staffed_capacity</th>\n",
       "        </tr>\n",
       "    </thead>\n",
       "    <tbody>\n",
       "        <tr>\n",
       "            <td>1         </td> <td>1996</td> <td>1    </td> <td>SIERRA CONSERVATION CENTER (FIRECAMP)</td> <td>322              </td> <td>0           </td> <td>322             </td> <td>320              </td> <td>100.6           </td> <td>320             </td>\n",
       "        </tr>\n",
       "        <tr>\n",
       "            <td>35        </td> <td>1996</td> <td>2    </td> <td>SIERRA CONSERVATION CENTER (FIRECAMP)</td> <td>310              </td> <td>0           </td> <td>310             </td> <td>320              </td> <td>96.9            </td> <td>320             </td>\n",
       "        </tr>\n",
       "        <tr>\n",
       "            <td>69        </td> <td>1996</td> <td>3    </td> <td>SIERRA CONSERVATION CENTER (FIRECAMP)</td> <td>327              </td> <td>0           </td> <td>327             </td> <td>320              </td> <td>102.2           </td> <td>320             </td>\n",
       "        </tr>\n",
       "        <tr>\n",
       "            <td>103       </td> <td>1996</td> <td>4    </td> <td>SIERRA CONSERVATION CENTER (FIRECAMP)</td> <td>312              </td> <td>0           </td> <td>312             </td> <td>320              </td> <td>97.5            </td> <td>320             </td>\n",
       "        </tr>\n",
       "        <tr>\n",
       "            <td>137       </td> <td>1996</td> <td>5    </td> <td>SIERRA CONSERVATION CENTER (FIRECAMP)</td> <td>320              </td> <td>0           </td> <td>320             </td> <td>320              </td> <td>100             </td> <td>320             </td>\n",
       "        </tr>\n",
       "    </tbody>\n",
       "</table>\n",
       "<p>... (111 rows omitted)</p>"
      ],
      "text/plain": [
       "<IPython.core.display.HTML object>"
      ]
     },
     "metadata": {},
     "output_type": "display_data"
    }
   ],
   "source": [
    "modified_sierra_firecamp = small_counts_table.with_column(\"institution_name\", sierra_firecamp_name)\n",
    "modified_sierra_firecamp.show(5)"
   ]
  },
  {
   "cell_type": "markdown",
   "metadata": {},
   "source": [
    "**ADD VALUES BACK TO THE ORIGINAL TABLE**\n",
    "\n",
    "Now that we have all the values, we can add it back to the original table. Here is the prisons1 table from before where we changed vsp.\n",
    "\n"
   ]
  },
  {
   "cell_type": "code",
   "execution_count": 254,
   "metadata": {},
   "outputs": [
    {
     "data": {
      "text/html": [
       "<table border=\"1\" class=\"dataframe\">\n",
       "    <thead>\n",
       "        <tr>\n",
       "            <th>Unnamed: 0</th> <th>year</th> <th>month</th> <th>institution_name</th> <th>population_felons</th> <th>civil_addict</th> <th>total_population</th> <th>designed_capacity</th> <th>percent_occupied</th> <th>staffed_capacity</th>\n",
       "        </tr>\n",
       "    </thead>\n",
       "    <tbody>\n",
       "        <tr>\n",
       "            <td>1         </td> <td>1996</td> <td>1    </td> <td>SCC (SIERRA CONSERVATION CENTER)</td> <td>322              </td> <td>0           </td> <td>322             </td> <td>320              </td> <td>100.6           </td> <td>320             </td>\n",
       "        </tr>\n",
       "        <tr>\n",
       "            <td>2         </td> <td>1996</td> <td>1    </td> <td>NCWF (NO CAL WOMEN'S FACIL)     </td> <td>786              </td> <td>4           </td> <td>790             </td> <td>400              </td> <td>197.5           </td> <td>760             </td>\n",
       "        </tr>\n",
       "        <tr>\n",
       "            <td>3         </td> <td>1996</td> <td>1    </td> <td>CCWF (CENTRAL CA WOMEN'S FAC)   </td> <td>2846             </td> <td>13          </td> <td>2859            </td> <td>2004             </td> <td>142.7           </td> <td>3224            </td>\n",
       "        </tr>\n",
       "        <tr>\n",
       "            <td>4         </td> <td>1996</td> <td>1    </td> <td>CRC (CAL REHAB CTR, WOMEN)      </td> <td>91               </td> <td>703         </td> <td>794             </td> <td>500              </td> <td>158.8           </td> <td>842             </td>\n",
       "        </tr>\n",
       "        <tr>\n",
       "            <td>5         </td> <td>1996</td> <td>1    </td> <td>CIW (CA INSTITUTION FOR WOMEN)  </td> <td>1690             </td> <td>36          </td> <td>1726            </td> <td>1026             </td> <td>168.2           </td> <td>1646            </td>\n",
       "        </tr>\n",
       "    </tbody>\n",
       "</table>\n",
       "<p>... (9496 rows omitted)</p>"
      ],
      "text/plain": [
       "<IPython.core.display.HTML object>"
      ]
     },
     "metadata": {},
     "output_type": "display_data"
    }
   ],
   "source": [
    "prisons1 = without_vsp.with_rows(modified_vsp_fem_name.rows).with_rows(modified_vsp_male_name.rows)\n",
    "prisons1.show(5)\n"
   ]
  },
  {
   "cell_type": "markdown",
   "metadata": {},
   "source": [
    "Now, we want to change the prisons updated table to have only the newly labeled values from Sierra Conservation Center. To do this, we will find all the values without \"SCC (SIERRA CONSERVATION CENTER)\" and add our modified values to that table."
   ]
  },
  {
   "cell_type": "code",
   "execution_count": 255,
   "metadata": {},
   "outputs": [
    {
     "data": {
      "text/html": [
       "<table border=\"1\" class=\"dataframe\">\n",
       "    <thead>\n",
       "        <tr>\n",
       "            <th>Unnamed: 0</th> <th>year</th> <th>month</th> <th>institution_name</th> <th>population_felons</th> <th>civil_addict</th> <th>total_population</th> <th>designed_capacity</th> <th>percent_occupied</th> <th>staffed_capacity</th>\n",
       "        </tr>\n",
       "    </thead>\n",
       "    <tbody>\n",
       "        <tr>\n",
       "            <td>2         </td> <td>1996</td> <td>1    </td> <td>NCWF (NO CAL WOMEN'S FACIL)   </td> <td>786              </td> <td>4           </td> <td>790             </td> <td>400              </td> <td>197.5           </td> <td>760             </td>\n",
       "        </tr>\n",
       "        <tr>\n",
       "            <td>3         </td> <td>1996</td> <td>1    </td> <td>CCWF (CENTRAL CA WOMEN'S FAC) </td> <td>2846             </td> <td>13          </td> <td>2859            </td> <td>2004             </td> <td>142.7           </td> <td>3224            </td>\n",
       "        </tr>\n",
       "        <tr>\n",
       "            <td>4         </td> <td>1996</td> <td>1    </td> <td>CRC (CAL REHAB CTR, WOMEN)    </td> <td>91               </td> <td>703         </td> <td>794             </td> <td>500              </td> <td>158.8           </td> <td>842             </td>\n",
       "        </tr>\n",
       "        <tr>\n",
       "            <td>5         </td> <td>1996</td> <td>1    </td> <td>CIW (CA INSTITUTION FOR WOMEN)</td> <td>1690             </td> <td>36          </td> <td>1726            </td> <td>1026             </td> <td>168.2           </td> <td>1646            </td>\n",
       "        </tr>\n",
       "        <tr>\n",
       "            <td>6         </td> <td>1996</td> <td>1    </td> <td>WSP (WASCO SP)                </td> <td>4475             </td> <td>62          </td> <td>4537            </td> <td>2484             </td> <td>182.6           </td> <td>4484            </td>\n",
       "        </tr>\n",
       "    </tbody>\n",
       "</table>\n",
       "<p>... (9104 rows omitted)</p>"
      ],
      "text/plain": [
       "<IPython.core.display.HTML object>"
      ]
     },
     "metadata": {},
     "output_type": "display_data"
    }
   ],
   "source": [
    "without_sierra = prisons1.where(\"institution_name\", are.not_equal_to(\"SCC (SIERRA CONSERVATION CENTER)\"))\n",
    "without_sierra.show(5)"
   ]
  },
  {
   "cell_type": "markdown",
   "metadata": {},
   "source": [
    "Using the table without any of the old Sierra Conservation values, we will add our modified values with the `with_rows()` function. The format is: *data_table_one.*`with_rows(`*data_table_two*.`rows)`"
   ]
  },
  {
   "cell_type": "code",
   "execution_count": 256,
   "metadata": {},
   "outputs": [
    {
     "data": {
      "text/html": [
       "<table border=\"1\" class=\"dataframe\">\n",
       "    <thead>\n",
       "        <tr>\n",
       "            <th>Unnamed: 0</th> <th>year</th> <th>month</th> <th>institution_name</th> <th>population_felons</th> <th>civil_addict</th> <th>total_population</th> <th>designed_capacity</th> <th>percent_occupied</th> <th>staffed_capacity</th>\n",
       "        </tr>\n",
       "    </thead>\n",
       "    <tbody>\n",
       "        <tr>\n",
       "            <td>2         </td> <td>1996</td> <td>1    </td> <td>NCWF (NO CAL WOMEN'S FACIL)   </td> <td>786              </td> <td>4           </td> <td>790             </td> <td>400              </td> <td>197.5           </td> <td>760             </td>\n",
       "        </tr>\n",
       "        <tr>\n",
       "            <td>3         </td> <td>1996</td> <td>1    </td> <td>CCWF (CENTRAL CA WOMEN'S FAC) </td> <td>2846             </td> <td>13          </td> <td>2859            </td> <td>2004             </td> <td>142.7           </td> <td>3224            </td>\n",
       "        </tr>\n",
       "        <tr>\n",
       "            <td>4         </td> <td>1996</td> <td>1    </td> <td>CRC (CAL REHAB CTR, WOMEN)    </td> <td>91               </td> <td>703         </td> <td>794             </td> <td>500              </td> <td>158.8           </td> <td>842             </td>\n",
       "        </tr>\n",
       "        <tr>\n",
       "            <td>5         </td> <td>1996</td> <td>1    </td> <td>CIW (CA INSTITUTION FOR WOMEN)</td> <td>1690             </td> <td>36          </td> <td>1726            </td> <td>1026             </td> <td>168.2           </td> <td>1646            </td>\n",
       "        </tr>\n",
       "        <tr>\n",
       "            <td>6         </td> <td>1996</td> <td>1    </td> <td>WSP (WASCO SP)                </td> <td>4475             </td> <td>62          </td> <td>4537            </td> <td>2484             </td> <td>182.6           </td> <td>4484            </td>\n",
       "        </tr>\n",
       "    </tbody>\n",
       "</table>\n",
       "<p>... (9496 rows omitted)</p>"
      ],
      "text/plain": [
       "<IPython.core.display.HTML object>"
      ]
     },
     "metadata": {},
     "output_type": "display_data"
    }
   ],
   "source": [
    "prisons2= without_sierra.with_rows(modified_sierra_prison.rows).with_rows(modified_sierra_firecamp.rows)\n",
    "prisons2.show(5)"
   ]
  },
  {
   "cell_type": "code",
   "execution_count": 257,
   "metadata": {},
   "outputs": [],
   "source": [
    "prisons2.to_csv(\"prisons2.csv\")"
   ]
  },
  {
   "cell_type": "markdown",
   "metadata": {},
   "source": [
    "At this point, we have modified our original table, so that we can later on differentiate between the prison and camp. We have named that value `prisons2`."
   ]
  },
  {
   "cell_type": "markdown",
   "metadata": {},
   "source": [
    "## The Case of Los Angeles County State Prison (LAC)\t"
   ]
  },
  {
   "cell_type": "markdown",
   "metadata": {},
   "source": [
    "The last unique institution we will break down is Los Angeles County State Prison. Let's start by isolating all occurrences of LAC in our original `prisons` dataset."
   ]
  },
  {
   "cell_type": "code",
   "execution_count": 258,
   "metadata": {},
   "outputs": [
    {
     "data": {
      "text/html": [
       "<table border=\"1\" class=\"dataframe\">\n",
       "    <thead>\n",
       "        <tr>\n",
       "            <th>Unnamed: 0</th> <th>year</th> <th>month</th> <th>institution_name</th> <th>population_felons</th> <th>civil_addict</th> <th>total_population</th> <th>designed_capacity</th> <th>percent_occupied</th> <th>staffed_capacity</th>\n",
       "        </tr>\n",
       "    </thead>\n",
       "    <tbody>\n",
       "        <tr>\n",
       "            <td>23        </td> <td>1996</td> <td>1    </td> <td>LAC (CA SP, LOS ANGELES COUNTY)</td> <td>3978             </td> <td>0           </td> <td>3978            </td> <td>2200             </td> <td>180.8           </td> <td>4000            </td>\n",
       "        </tr>\n",
       "        <tr>\n",
       "            <td>57        </td> <td>1996</td> <td>2    </td> <td>LAC (CA SP, LOS ANGELES COUNTY)</td> <td>3919             </td> <td>0           </td> <td>3919            </td> <td>2200             </td> <td>178.1           </td> <td>4000            </td>\n",
       "        </tr>\n",
       "        <tr>\n",
       "            <td>91        </td> <td>1996</td> <td>3    </td> <td>LAC (CA SP, LOS ANGELES COUNTY)</td> <td>3975             </td> <td>0           </td> <td>3975            </td> <td>2200             </td> <td>180.7           </td> <td>4000            </td>\n",
       "        </tr>\n",
       "        <tr>\n",
       "            <td>125       </td> <td>1996</td> <td>4    </td> <td>LAC (CA SP, LOS ANGELES COUNTY)</td> <td>4064             </td> <td>0           </td> <td>4064            </td> <td>2200             </td> <td>184.7           </td> <td>4000            </td>\n",
       "        </tr>\n",
       "        <tr>\n",
       "            <td>160       </td> <td>1996</td> <td>5    </td> <td>LAC (CA SP, LOS ANGELES COUNTY)</td> <td>4012             </td> <td>0           </td> <td>4012            </td> <td>2200             </td> <td>182.4           </td> <td>4000            </td>\n",
       "        </tr>\n",
       "    </tbody>\n",
       "</table>\n",
       "<p>... (278 rows omitted)</p>"
      ],
      "text/plain": [
       "<IPython.core.display.HTML object>"
      ]
     },
     "metadata": {},
     "output_type": "display_data"
    }
   ],
   "source": [
    "la_county_prison = prisons.where(\"institution_name\", \"LAC (CA SP, LOS ANGELES COUNTY)\")\n",
    "la_county_prison.show(5)"
   ]
  },
  {
   "cell_type": "markdown",
   "metadata": {},
   "source": [
    "To break down why LAC had 283 records in the span of 23 years, we have to find the years that had more than 12 months of data. To do this, we will group by year, and see the number of times each year appeared. We will use the same methods that we did to see how many months were in each year. The functions are called `group()` and `sort()`.  "
   ]
  },
  {
   "cell_type": "code",
   "execution_count": 259,
   "metadata": {},
   "outputs": [
    {
     "data": {
      "text/html": [
       "<table border=\"1\" class=\"dataframe\">\n",
       "    <thead>\n",
       "        <tr>\n",
       "            <th>year</th> <th>count</th>\n",
       "        </tr>\n",
       "    </thead>\n",
       "    <tbody>\n",
       "        <tr>\n",
       "            <td>1996</td> <td>12   </td>\n",
       "        </tr>\n",
       "        <tr>\n",
       "            <td>1997</td> <td>12   </td>\n",
       "        </tr>\n",
       "        <tr>\n",
       "            <td>1998</td> <td>12   </td>\n",
       "        </tr>\n",
       "        <tr>\n",
       "            <td>1999</td> <td>12   </td>\n",
       "        </tr>\n",
       "        <tr>\n",
       "            <td>2000</td> <td>12   </td>\n",
       "        </tr>\n",
       "        <tr>\n",
       "            <td>2001</td> <td>12   </td>\n",
       "        </tr>\n",
       "        <tr>\n",
       "            <td>2002</td> <td>12   </td>\n",
       "        </tr>\n",
       "        <tr>\n",
       "            <td>2003</td> <td>12   </td>\n",
       "        </tr>\n",
       "        <tr>\n",
       "            <td>2004</td> <td>12   </td>\n",
       "        </tr>\n",
       "        <tr>\n",
       "            <td>2005</td> <td>13   </td>\n",
       "        </tr>\n",
       "        <tr>\n",
       "            <td>2006</td> <td>18   </td>\n",
       "        </tr>\n",
       "        <tr>\n",
       "            <td>2007</td> <td>12   </td>\n",
       "        </tr>\n",
       "        <tr>\n",
       "            <td>2008</td> <td>12   </td>\n",
       "        </tr>\n",
       "        <tr>\n",
       "            <td>2009</td> <td>12   </td>\n",
       "        </tr>\n",
       "        <tr>\n",
       "            <td>2010</td> <td>12   </td>\n",
       "        </tr>\n",
       "        <tr>\n",
       "            <td>2011</td> <td>12   </td>\n",
       "        </tr>\n",
       "        <tr>\n",
       "            <td>2012</td> <td>12   </td>\n",
       "        </tr>\n",
       "        <tr>\n",
       "            <td>2013</td> <td>12   </td>\n",
       "        </tr>\n",
       "        <tr>\n",
       "            <td>2014</td> <td>12   </td>\n",
       "        </tr>\n",
       "        <tr>\n",
       "            <td>2015</td> <td>12   </td>\n",
       "        </tr>\n",
       "        <tr>\n",
       "            <td>2016</td> <td>12   </td>\n",
       "        </tr>\n",
       "        <tr>\n",
       "            <td>2017</td> <td>12   </td>\n",
       "        </tr>\n",
       "        <tr>\n",
       "            <td>2018</td> <td>12   </td>\n",
       "        </tr>\n",
       "    </tbody>\n",
       "</table>"
      ],
      "text/plain": [
       "<IPython.core.display.HTML object>"
      ]
     },
     "metadata": {},
     "output_type": "display_data"
    }
   ],
   "source": [
    "la_county_prison.group(\"year\").show()"
   ]
  },
  {
   "cell_type": "markdown",
   "metadata": {},
   "source": [
    "**SEPARATING THE DATA**\n",
    "\n",
    "We can see that from 1996-2004 there were single counts, and from 2007-2018 there were also single counts. The other two years, 2005 and 2006, had more than 12 months but less than double, so we will need to analyze those cases individually. Let's start by isolating the single counts from the `la_county_prison`. To do this we will use the `where()` function to find the years: 1996-2004 and 2007-2018.\n",
    "\n"
   ]
  },
  {
   "cell_type": "code",
   "execution_count": 260,
   "metadata": {},
   "outputs": [
    {
     "data": {
      "text/html": [
       "<table border=\"1\" class=\"dataframe\">\n",
       "    <thead>\n",
       "        <tr>\n",
       "            <th>Unnamed: 0</th> <th>year</th> <th>month</th> <th>institution_name</th> <th>population_felons</th> <th>civil_addict</th> <th>total_population</th> <th>designed_capacity</th> <th>percent_occupied</th> <th>staffed_capacity</th>\n",
       "        </tr>\n",
       "    </thead>\n",
       "    <tbody>\n",
       "        <tr>\n",
       "            <td>23        </td> <td>1996</td> <td>1    </td> <td>LAC (CA SP, LOS ANGELES COUNTY)</td> <td>3978             </td> <td>0           </td> <td>3978            </td> <td>2200             </td> <td>180.8           </td> <td>4000            </td>\n",
       "        </tr>\n",
       "        <tr>\n",
       "            <td>57        </td> <td>1996</td> <td>2    </td> <td>LAC (CA SP, LOS ANGELES COUNTY)</td> <td>3919             </td> <td>0           </td> <td>3919            </td> <td>2200             </td> <td>178.1           </td> <td>4000            </td>\n",
       "        </tr>\n",
       "        <tr>\n",
       "            <td>91        </td> <td>1996</td> <td>3    </td> <td>LAC (CA SP, LOS ANGELES COUNTY)</td> <td>3975             </td> <td>0           </td> <td>3975            </td> <td>2200             </td> <td>180.7           </td> <td>4000            </td>\n",
       "        </tr>\n",
       "        <tr>\n",
       "            <td>125       </td> <td>1996</td> <td>4    </td> <td>LAC (CA SP, LOS ANGELES COUNTY)</td> <td>4064             </td> <td>0           </td> <td>4064            </td> <td>2200             </td> <td>184.7           </td> <td>4000            </td>\n",
       "        </tr>\n",
       "        <tr>\n",
       "            <td>160       </td> <td>1996</td> <td>5    </td> <td>LAC (CA SP, LOS ANGELES COUNTY)</td> <td>4012             </td> <td>0           </td> <td>4012            </td> <td>2200             </td> <td>182.4           </td> <td>4000            </td>\n",
       "        </tr>\n",
       "    </tbody>\n",
       "</table>\n",
       "<p>... (103 rows omitted)</p>"
      ],
      "text/plain": [
       "<IPython.core.display.HTML object>"
      ]
     },
     "metadata": {},
     "output_type": "display_data"
    }
   ],
   "source": [
    "la_single_counts_before = la_county_prison.where('year', are.between_or_equal_to(1996, 2004))\n",
    "la_single_counts_before.show(5)"
   ]
  },
  {
   "cell_type": "code",
   "execution_count": 261,
   "metadata": {},
   "outputs": [
    {
     "data": {
      "text/html": [
       "<table border=\"1\" class=\"dataframe\">\n",
       "    <thead>\n",
       "        <tr>\n",
       "            <th>Unnamed: 0</th> <th>year</th> <th>month</th> <th>institution_name</th> <th>population_felons</th> <th>civil_addict</th> <th>total_population</th> <th>designed_capacity</th> <th>percent_occupied</th> <th>staffed_capacity</th>\n",
       "        </tr>\n",
       "    </thead>\n",
       "    <tbody>\n",
       "        <tr>\n",
       "            <td>4603      </td> <td>2007</td> <td>1    </td> <td>LAC (CA SP, LOS ANGELES COUNTY)</td> <td>4358             </td> <td>0           </td> <td>4358            </td> <td>2300             </td> <td>189.5           </td> <td>4658            </td>\n",
       "        </tr>\n",
       "        <tr>\n",
       "            <td>4638      </td> <td>2007</td> <td>2    </td> <td>LAC (CA SP, LOS ANGELES COUNTY)</td> <td>4373             </td> <td>0           </td> <td>4373            </td> <td>2300             </td> <td>190.1           </td> <td>4658            </td>\n",
       "        </tr>\n",
       "        <tr>\n",
       "            <td>4673      </td> <td>2007</td> <td>3    </td> <td>LAC (CA SP, LOS ANGELES COUNTY)</td> <td>4683             </td> <td>0           </td> <td>4683            </td> <td>2300             </td> <td>203.6           </td> <td>4658            </td>\n",
       "        </tr>\n",
       "        <tr>\n",
       "            <td>4708      </td> <td>2007</td> <td>4    </td> <td>LAC (CA SP, LOS ANGELES COUNTY)</td> <td>4691             </td> <td>0           </td> <td>4691            </td> <td>2300             </td> <td>204             </td> <td>4658            </td>\n",
       "        </tr>\n",
       "        <tr>\n",
       "            <td>4743      </td> <td>2007</td> <td>5    </td> <td>LAC (CA SP, LOS ANGELES COUNTY)</td> <td>4722             </td> <td>0           </td> <td>4722            </td> <td>2300             </td> <td>205.3           </td> <td>4658            </td>\n",
       "        </tr>\n",
       "    </tbody>\n",
       "</table>\n",
       "<p>... (139 rows omitted)</p>"
      ],
      "text/plain": [
       "<IPython.core.display.HTML object>"
      ]
     },
     "metadata": {},
     "output_type": "display_data"
    }
   ],
   "source": [
    "la_single_counts_after = la_county_prison.where('year', are.above_or_equal_to(2007))\n",
    "la_single_counts_after.show(5)"
   ]
  },
  {
   "cell_type": "markdown",
   "metadata": {},
   "source": [
    "Rather than having two separate single counts, it will be easier to keep track of one table, so we will combine the two tables into one using the `with_rows()` function from before. The format for the function is: *data_table_one.*`with_rows(`*data_table_two*.`rows)`m"
   ]
  },
  {
   "cell_type": "code",
   "execution_count": 262,
   "metadata": {},
   "outputs": [
    {
     "data": {
      "text/html": [
       "<table border=\"1\" class=\"dataframe\">\n",
       "    <thead>\n",
       "        <tr>\n",
       "            <th>Unnamed: 0</th> <th>year</th> <th>month</th> <th>institution_name</th> <th>population_felons</th> <th>civil_addict</th> <th>total_population</th> <th>designed_capacity</th> <th>percent_occupied</th> <th>staffed_capacity</th>\n",
       "        </tr>\n",
       "    </thead>\n",
       "    <tbody>\n",
       "        <tr>\n",
       "            <td>23        </td> <td>1996</td> <td>1    </td> <td>LAC (CA SP, LOS ANGELES COUNTY)</td> <td>3978             </td> <td>0           </td> <td>3978            </td> <td>2200             </td> <td>180.8           </td> <td>4000            </td>\n",
       "        </tr>\n",
       "        <tr>\n",
       "            <td>57        </td> <td>1996</td> <td>2    </td> <td>LAC (CA SP, LOS ANGELES COUNTY)</td> <td>3919             </td> <td>0           </td> <td>3919            </td> <td>2200             </td> <td>178.1           </td> <td>4000            </td>\n",
       "        </tr>\n",
       "        <tr>\n",
       "            <td>91        </td> <td>1996</td> <td>3    </td> <td>LAC (CA SP, LOS ANGELES COUNTY)</td> <td>3975             </td> <td>0           </td> <td>3975            </td> <td>2200             </td> <td>180.7           </td> <td>4000            </td>\n",
       "        </tr>\n",
       "        <tr>\n",
       "            <td>125       </td> <td>1996</td> <td>4    </td> <td>LAC (CA SP, LOS ANGELES COUNTY)</td> <td>4064             </td> <td>0           </td> <td>4064            </td> <td>2200             </td> <td>184.7           </td> <td>4000            </td>\n",
       "        </tr>\n",
       "        <tr>\n",
       "            <td>160       </td> <td>1996</td> <td>5    </td> <td>LAC (CA SP, LOS ANGELES COUNTY)</td> <td>4012             </td> <td>0           </td> <td>4012            </td> <td>2200             </td> <td>182.4           </td> <td>4000            </td>\n",
       "        </tr>\n",
       "    </tbody>\n",
       "</table>\n",
       "<p>... (247 rows omitted)</p>"
      ],
      "text/plain": [
       "<IPython.core.display.HTML object>"
      ]
     },
     "metadata": {},
     "output_type": "display_data"
    }
   ],
   "source": [
    "la_all_single_counts = la_single_counts_before.with_rows(la_single_counts_after.rows)\n",
    "la_all_single_counts.show(5)"
   ]
  },
  {
   "cell_type": "markdown",
   "metadata": {},
   "source": [
    "Let's move on to the two questionable years of data. To start, we will isolate the two years into two separate tables by using the `where()` function to find all the rows in our table that are in the year 2005."
   ]
  },
  {
   "cell_type": "code",
   "execution_count": 263,
   "metadata": {},
   "outputs": [
    {
     "data": {
      "text/html": [
       "<table border=\"1\" class=\"dataframe\">\n",
       "    <thead>\n",
       "        <tr>\n",
       "            <th>Unnamed: 0</th> <th>year</th> <th>month</th> <th>institution_name</th> <th>population_felons</th> <th>civil_addict</th> <th>total_population</th> <th>designed_capacity</th> <th>percent_occupied</th> <th>staffed_capacity</th>\n",
       "        </tr>\n",
       "    </thead>\n",
       "    <tbody>\n",
       "        <tr>\n",
       "            <td>3762      </td> <td>2005</td> <td>1    </td> <td>LAC (CA SP, LOS ANGELES COUNTY)</td> <td>4629             </td> <td>0           </td> <td>4629            </td> <td>2200             </td> <td>210.4           </td> <td>4684            </td>\n",
       "        </tr>\n",
       "        <tr>\n",
       "            <td>3796      </td> <td>2005</td> <td>2    </td> <td>LAC (CA SP, LOS ANGELES COUNTY)</td> <td>4609             </td> <td>0           </td> <td>4609            </td> <td>2200             </td> <td>209.5           </td> <td>4684            </td>\n",
       "        </tr>\n",
       "        <tr>\n",
       "            <td>3830      </td> <td>2005</td> <td>3    </td> <td>LAC (CA SP, LOS ANGELES COUNTY)</td> <td>4646             </td> <td>0           </td> <td>4646            </td> <td>2200             </td> <td>211.2           </td> <td>4684            </td>\n",
       "        </tr>\n",
       "        <tr>\n",
       "            <td>3864      </td> <td>2005</td> <td>4    </td> <td>LAC (CA SP, LOS ANGELES COUNTY)</td> <td>4644             </td> <td>0           </td> <td>4644            </td> <td>2200             </td> <td>211.1           </td> <td>4684            </td>\n",
       "        </tr>\n",
       "        <tr>\n",
       "            <td>3898      </td> <td>2005</td> <td>5    </td> <td>LAC (CA SP, LOS ANGELES COUNTY)</td> <td>4682             </td> <td>0           </td> <td>4682            </td> <td>2200             </td> <td>212.8           </td> <td>4684            </td>\n",
       "        </tr>\n",
       "        <tr>\n",
       "            <td>3933      </td> <td>2005</td> <td>6    </td> <td>LAC (CA SP, LOS ANGELES COUNTY)</td> <td>4701             </td> <td>0           </td> <td>4701            </td> <td>2200             </td> <td>213.7           </td> <td>4684            </td>\n",
       "        </tr>\n",
       "        <tr>\n",
       "            <td>3968      </td> <td>2005</td> <td>7    </td> <td>LAC (CA SP, LOS ANGELES COUNTY)</td> <td>4669             </td> <td>0           </td> <td>4669            </td> <td>2200             </td> <td>212.2           </td> <td>4684            </td>\n",
       "        </tr>\n",
       "        <tr>\n",
       "            <td>4003      </td> <td>2005</td> <td>8    </td> <td>LAC (CA SP, LOS ANGELES COUNTY)</td> <td>4600             </td> <td>0           </td> <td>4600            </td> <td>2200             </td> <td>209.1           </td> <td>4684            </td>\n",
       "        </tr>\n",
       "        <tr>\n",
       "            <td>4037      </td> <td>2005</td> <td>9    </td> <td>LAC (CA SP, LOS ANGELES COUNTY)</td> <td>4629             </td> <td>0           </td> <td>4629            </td> <td>2200             </td> <td>210.4           </td> <td>4684            </td>\n",
       "        </tr>\n",
       "        <tr>\n",
       "            <td>4071      </td> <td>2005</td> <td>10   </td> <td>LAC (CA SP, LOS ANGELES COUNTY)</td> <td>4472             </td> <td>0           </td> <td>4472            </td> <td>2200             </td> <td>203.3           </td> <td>4684            </td>\n",
       "        </tr>\n",
       "        <tr>\n",
       "            <td>4105      </td> <td>2005</td> <td>11   </td> <td>LAC (CA SP, LOS ANGELES COUNTY)</td> <td>4321             </td> <td>0           </td> <td>4321            </td> <td>2200             </td> <td>196.4           </td> <td>4684            </td>\n",
       "        </tr>\n",
       "        <tr>\n",
       "            <td>4139      </td> <td>2005</td> <td>12   </td> <td>LAC (CA SP, LOS ANGELES COUNTY)</td> <td>329              </td> <td>0           </td> <td>329             </td> <td>400              </td> <td>82.3            </td> <td>400             </td>\n",
       "        </tr>\n",
       "        <tr>\n",
       "            <td>4140      </td> <td>2005</td> <td>12   </td> <td>LAC (CA SP, LOS ANGELES COUNTY)</td> <td>4042             </td> <td>0           </td> <td>4042            </td> <td>2200             </td> <td>183.7           </td> <td>4684            </td>\n",
       "        </tr>\n",
       "    </tbody>\n",
       "</table>"
      ],
      "text/plain": [
       "<IPython.core.display.HTML object>"
      ]
     },
     "metadata": {},
     "output_type": "display_data"
    }
   ],
   "source": [
    "la_questionable_2005 = la_county_prison.where('year', 2005)\n",
    "la_questionable_2005.show()"
   ]
  },
  {
   "cell_type": "markdown",
   "metadata": {},
   "source": [
    "We did the same for 2006."
   ]
  },
  {
   "cell_type": "code",
   "execution_count": 264,
   "metadata": {},
   "outputs": [
    {
     "data": {
      "text/html": [
       "<table border=\"1\" class=\"dataframe\">\n",
       "    <thead>\n",
       "        <tr>\n",
       "            <th>Unnamed: 0</th> <th>year</th> <th>month</th> <th>institution_name</th> <th>population_felons</th> <th>civil_addict</th> <th>total_population</th> <th>designed_capacity</th> <th>percent_occupied</th> <th>staffed_capacity</th>\n",
       "        </tr>\n",
       "    </thead>\n",
       "    <tbody>\n",
       "        <tr>\n",
       "            <td>4174      </td> <td>2006</td> <td>1    </td> <td>LAC (CA SP, LOS ANGELES COUNTY)</td> <td>609              </td> <td>0           </td> <td>609             </td> <td>400              </td> <td>152.3           </td> <td>400             </td>\n",
       "        </tr>\n",
       "        <tr>\n",
       "            <td>4175      </td> <td>2006</td> <td>1    </td> <td>LAC (CA SP, LOS ANGELES COUNTY)</td> <td>3737             </td> <td>0           </td> <td>3737            </td> <td>2200             </td> <td>169.9           </td> <td>4684            </td>\n",
       "        </tr>\n",
       "        <tr>\n",
       "            <td>4209      </td> <td>2006</td> <td>2    </td> <td>LAC (CA SP, LOS ANGELES COUNTY)</td> <td>1201             </td> <td>0           </td> <td>1201            </td> <td>400              </td> <td>300.2           </td> <td>400             </td>\n",
       "        </tr>\n",
       "        <tr>\n",
       "            <td>4210      </td> <td>2006</td> <td>2    </td> <td>LAC (CA SP, LOS ANGELES COUNTY)</td> <td>3388             </td> <td>0           </td> <td>3388            </td> <td>2200             </td> <td>154             </td> <td>4684            </td>\n",
       "        </tr>\n",
       "        <tr>\n",
       "            <td>4244      </td> <td>2006</td> <td>3    </td> <td>LAC (CA SP, LOS ANGELES COUNTY)</td> <td>1165             </td> <td>0           </td> <td>1165            </td> <td>400              </td> <td>291.2           </td> <td>400             </td>\n",
       "        </tr>\n",
       "        <tr>\n",
       "            <td>4245      </td> <td>2006</td> <td>3    </td> <td>LAC (CA SP, LOS ANGELES COUNTY)</td> <td>3372             </td> <td>0           </td> <td>3372            </td> <td>2200             </td> <td>153.3           </td> <td>4684            </td>\n",
       "        </tr>\n",
       "        <tr>\n",
       "            <td>4279      </td> <td>2006</td> <td>4    </td> <td>LAC (CA SP, LOS ANGELES COUNTY)</td> <td>1136             </td> <td>0           </td> <td>1136            </td> <td>400              </td> <td>284             </td> <td>400             </td>\n",
       "        </tr>\n",
       "        <tr>\n",
       "            <td>4280      </td> <td>2006</td> <td>4    </td> <td>LAC (CA SP, LOS ANGELES COUNTY)</td> <td>3382             </td> <td>0           </td> <td>3382            </td> <td>2200             </td> <td>153.7           </td> <td>4684            </td>\n",
       "        </tr>\n",
       "        <tr>\n",
       "            <td>4314      </td> <td>2006</td> <td>5    </td> <td>LAC (CA SP, LOS ANGELES COUNTY)</td> <td>1145             </td> <td>0           </td> <td>1145            </td> <td>400              </td> <td>286.2           </td> <td>400             </td>\n",
       "        </tr>\n",
       "        <tr>\n",
       "            <td>4315      </td> <td>2006</td> <td>5    </td> <td>LAC (CA SP, LOS ANGELES COUNTY)</td> <td>3330             </td> <td>0           </td> <td>3330            </td> <td>2200             </td> <td>151.4           </td> <td>4684            </td>\n",
       "        </tr>\n",
       "        <tr>\n",
       "            <td>4351      </td> <td>2006</td> <td>6    </td> <td>LAC (CA SP, LOS ANGELES COUNTY)</td> <td>1157             </td> <td>0           </td> <td>1157            </td> <td>400              </td> <td>289.2           </td> <td>400             </td>\n",
       "        </tr>\n",
       "        <tr>\n",
       "            <td>4352      </td> <td>2006</td> <td>6    </td> <td>LAC (CA SP, LOS ANGELES COUNTY)</td> <td>3395             </td> <td>0           </td> <td>3395            </td> <td>2200             </td> <td>154.3           </td> <td>4684            </td>\n",
       "        </tr>\n",
       "        <tr>\n",
       "            <td>4388      </td> <td>2006</td> <td>7    </td> <td>LAC (CA SP, LOS ANGELES COUNTY)</td> <td>4512             </td> <td>0           </td> <td>4512            </td> <td>2600             </td> <td>173.5           </td> <td>5084            </td>\n",
       "        </tr>\n",
       "        <tr>\n",
       "            <td>4424      </td> <td>2006</td> <td>8    </td> <td>LAC (CA SP, LOS ANGELES COUNTY)</td> <td>4479             </td> <td>0           </td> <td>4479            </td> <td>2600             </td> <td>172.3           </td> <td>5084            </td>\n",
       "        </tr>\n",
       "        <tr>\n",
       "            <td>4460      </td> <td>2006</td> <td>9    </td> <td>LAC (CA SP, LOS ANGELES COUNTY)</td> <td>4540             </td> <td>0           </td> <td>4540            </td> <td>2600             </td> <td>174.6           </td> <td>5084            </td>\n",
       "        </tr>\n",
       "        <tr>\n",
       "            <td>4496      </td> <td>2006</td> <td>10   </td> <td>LAC (CA SP, LOS ANGELES COUNTY)</td> <td>4470             </td> <td>0           </td> <td>4470            </td> <td>2300             </td> <td>194.3           </td> <td>4418            </td>\n",
       "        </tr>\n",
       "        <tr>\n",
       "            <td>4532      </td> <td>2006</td> <td>11   </td> <td>LAC (CA SP, LOS ANGELES COUNTY)</td> <td>4390             </td> <td>0           </td> <td>4390            </td> <td>2300             </td> <td>190.9           </td> <td>4418            </td>\n",
       "        </tr>\n",
       "        <tr>\n",
       "            <td>4567      </td> <td>2006</td> <td>12   </td> <td>LAC (CA SP, LOS ANGELES COUNTY)</td> <td>4359             </td> <td>0           </td> <td>4359            </td> <td>2300             </td> <td>189.5           </td> <td>4658            </td>\n",
       "        </tr>\n",
       "    </tbody>\n",
       "</table>"
      ],
      "text/plain": [
       "<IPython.core.display.HTML object>"
      ]
     },
     "metadata": {},
     "output_type": "display_data"
    }
   ],
   "source": [
    "la_questionable_2006 = la_county_prison.where('year', 2006)\n",
    "la_questionable_2006.show()"
   ]
  },
  {
   "cell_type": "markdown",
   "metadata": {},
   "source": [
    "We will split these into single and double counts. We will add the single counts to the table we made above, and deal with the double counts in the next section.\n",
    "\n",
    "Looking at the `la_questionable_2005`, we see that from January to November there are single counts in 2005, so we will get all the rows before December."
   ]
  },
  {
   "cell_type": "code",
   "execution_count": 265,
   "metadata": {},
   "outputs": [
    {
     "data": {
      "text/html": [
       "<table border=\"1\" class=\"dataframe\">\n",
       "    <thead>\n",
       "        <tr>\n",
       "            <th>Unnamed: 0</th> <th>year</th> <th>month</th> <th>institution_name</th> <th>population_felons</th> <th>civil_addict</th> <th>total_population</th> <th>designed_capacity</th> <th>percent_occupied</th> <th>staffed_capacity</th>\n",
       "        </tr>\n",
       "    </thead>\n",
       "    <tbody>\n",
       "        <tr>\n",
       "            <td>3762      </td> <td>2005</td> <td>1    </td> <td>LAC (CA SP, LOS ANGELES COUNTY)</td> <td>4629             </td> <td>0           </td> <td>4629            </td> <td>2200             </td> <td>210.4           </td> <td>4684            </td>\n",
       "        </tr>\n",
       "        <tr>\n",
       "            <td>3796      </td> <td>2005</td> <td>2    </td> <td>LAC (CA SP, LOS ANGELES COUNTY)</td> <td>4609             </td> <td>0           </td> <td>4609            </td> <td>2200             </td> <td>209.5           </td> <td>4684            </td>\n",
       "        </tr>\n",
       "        <tr>\n",
       "            <td>3830      </td> <td>2005</td> <td>3    </td> <td>LAC (CA SP, LOS ANGELES COUNTY)</td> <td>4646             </td> <td>0           </td> <td>4646            </td> <td>2200             </td> <td>211.2           </td> <td>4684            </td>\n",
       "        </tr>\n",
       "        <tr>\n",
       "            <td>3864      </td> <td>2005</td> <td>4    </td> <td>LAC (CA SP, LOS ANGELES COUNTY)</td> <td>4644             </td> <td>0           </td> <td>4644            </td> <td>2200             </td> <td>211.1           </td> <td>4684            </td>\n",
       "        </tr>\n",
       "        <tr>\n",
       "            <td>3898      </td> <td>2005</td> <td>5    </td> <td>LAC (CA SP, LOS ANGELES COUNTY)</td> <td>4682             </td> <td>0           </td> <td>4682            </td> <td>2200             </td> <td>212.8           </td> <td>4684            </td>\n",
       "        </tr>\n",
       "    </tbody>\n",
       "</table>\n",
       "<p>... (6 rows omitted)</p>"
      ],
      "text/plain": [
       "<IPython.core.display.HTML object>"
      ]
     },
     "metadata": {},
     "output_type": "display_data"
    }
   ],
   "source": [
    "la_single_2005 = la_questionable_2005.where(\"month\", are.below(12))\n",
    "la_single_2005.show(5)"
   ]
  },
  {
   "cell_type": "markdown",
   "metadata": {},
   "source": [
    "In the case of 2006, from July to December there were single counts, so we will use the `where()` function to select those values."
   ]
  },
  {
   "cell_type": "code",
   "execution_count": 266,
   "metadata": {},
   "outputs": [
    {
     "data": {
      "text/html": [
       "<table border=\"1\" class=\"dataframe\">\n",
       "    <thead>\n",
       "        <tr>\n",
       "            <th>Unnamed: 0</th> <th>year</th> <th>month</th> <th>institution_name</th> <th>population_felons</th> <th>civil_addict</th> <th>total_population</th> <th>designed_capacity</th> <th>percent_occupied</th> <th>staffed_capacity</th>\n",
       "        </tr>\n",
       "    </thead>\n",
       "    <tbody>\n",
       "        <tr>\n",
       "            <td>4388      </td> <td>2006</td> <td>7    </td> <td>LAC (CA SP, LOS ANGELES COUNTY)</td> <td>4512             </td> <td>0           </td> <td>4512            </td> <td>2600             </td> <td>173.5           </td> <td>5084            </td>\n",
       "        </tr>\n",
       "        <tr>\n",
       "            <td>4424      </td> <td>2006</td> <td>8    </td> <td>LAC (CA SP, LOS ANGELES COUNTY)</td> <td>4479             </td> <td>0           </td> <td>4479            </td> <td>2600             </td> <td>172.3           </td> <td>5084            </td>\n",
       "        </tr>\n",
       "        <tr>\n",
       "            <td>4460      </td> <td>2006</td> <td>9    </td> <td>LAC (CA SP, LOS ANGELES COUNTY)</td> <td>4540             </td> <td>0           </td> <td>4540            </td> <td>2600             </td> <td>174.6           </td> <td>5084            </td>\n",
       "        </tr>\n",
       "        <tr>\n",
       "            <td>4496      </td> <td>2006</td> <td>10   </td> <td>LAC (CA SP, LOS ANGELES COUNTY)</td> <td>4470             </td> <td>0           </td> <td>4470            </td> <td>2300             </td> <td>194.3           </td> <td>4418            </td>\n",
       "        </tr>\n",
       "        <tr>\n",
       "            <td>4532      </td> <td>2006</td> <td>11   </td> <td>LAC (CA SP, LOS ANGELES COUNTY)</td> <td>4390             </td> <td>0           </td> <td>4390            </td> <td>2300             </td> <td>190.9           </td> <td>4418            </td>\n",
       "        </tr>\n",
       "        <tr>\n",
       "            <td>4567      </td> <td>2006</td> <td>12   </td> <td>LAC (CA SP, LOS ANGELES COUNTY)</td> <td>4359             </td> <td>0           </td> <td>4359            </td> <td>2300             </td> <td>189.5           </td> <td>4658            </td>\n",
       "        </tr>\n",
       "    </tbody>\n",
       "</table>"
      ],
      "text/plain": [
       "Unnamed: 0 | year | month | institution_name                | population_felons | civil_addict | total_population | designed_capacity | percent_occupied | staffed_capacity\n",
       "4388       | 2006 | 7     | LAC (CA SP, LOS ANGELES COUNTY) | 4512              | 0            | 4512             | 2600              | 173.5            | 5084\n",
       "4424       | 2006 | 8     | LAC (CA SP, LOS ANGELES COUNTY) | 4479              | 0            | 4479             | 2600              | 172.3            | 5084\n",
       "4460       | 2006 | 9     | LAC (CA SP, LOS ANGELES COUNTY) | 4540              | 0            | 4540             | 2600              | 174.6            | 5084\n",
       "4496       | 2006 | 10    | LAC (CA SP, LOS ANGELES COUNTY) | 4470              | 0            | 4470             | 2300              | 194.3            | 4418\n",
       "4532       | 2006 | 11    | LAC (CA SP, LOS ANGELES COUNTY) | 4390              | 0            | 4390             | 2300              | 190.9            | 4418\n",
       "4567       | 2006 | 12    | LAC (CA SP, LOS ANGELES COUNTY) | 4359              | 0            | 4359             | 2300              | 189.5            | 4658"
      ]
     },
     "execution_count": 266,
     "metadata": {},
     "output_type": "execute_result"
    }
   ],
   "source": [
    "la_single_2006 = la_questionable_2006.where('month', are.above(6))\n",
    "la_single_2006"
   ]
  },
  {
   "cell_type": "markdown",
   "metadata": {},
   "source": [
    "To keep all the single counts in the same place, we will add the single counts in 2005 and in 2006 to the `la_all_single_counts` table. To do this we use the `with_rows()` function. The format for the function is: *data_table_one.*`with_rows(`*data_table_two*.`rows)`. In the next cell, we do add the single counted values from 2005."
   ]
  },
  {
   "cell_type": "code",
   "execution_count": 267,
   "metadata": {},
   "outputs": [
    {
     "data": {
      "text/html": [
       "<table border=\"1\" class=\"dataframe\">\n",
       "    <thead>\n",
       "        <tr>\n",
       "            <th>Unnamed: 0</th> <th>year</th> <th>month</th> <th>institution_name</th> <th>population_felons</th> <th>civil_addict</th> <th>total_population</th> <th>designed_capacity</th> <th>percent_occupied</th> <th>staffed_capacity</th>\n",
       "        </tr>\n",
       "    </thead>\n",
       "    <tbody>\n",
       "        <tr>\n",
       "            <td>23        </td> <td>1996</td> <td>1    </td> <td>LAC (CA SP, LOS ANGELES COUNTY)</td> <td>3978             </td> <td>0           </td> <td>3978            </td> <td>2200             </td> <td>180.8           </td> <td>4000            </td>\n",
       "        </tr>\n",
       "        <tr>\n",
       "            <td>57        </td> <td>1996</td> <td>2    </td> <td>LAC (CA SP, LOS ANGELES COUNTY)</td> <td>3919             </td> <td>0           </td> <td>3919            </td> <td>2200             </td> <td>178.1           </td> <td>4000            </td>\n",
       "        </tr>\n",
       "        <tr>\n",
       "            <td>91        </td> <td>1996</td> <td>3    </td> <td>LAC (CA SP, LOS ANGELES COUNTY)</td> <td>3975             </td> <td>0           </td> <td>3975            </td> <td>2200             </td> <td>180.7           </td> <td>4000            </td>\n",
       "        </tr>\n",
       "        <tr>\n",
       "            <td>125       </td> <td>1996</td> <td>4    </td> <td>LAC (CA SP, LOS ANGELES COUNTY)</td> <td>4064             </td> <td>0           </td> <td>4064            </td> <td>2200             </td> <td>184.7           </td> <td>4000            </td>\n",
       "        </tr>\n",
       "        <tr>\n",
       "            <td>160       </td> <td>1996</td> <td>5    </td> <td>LAC (CA SP, LOS ANGELES COUNTY)</td> <td>4012             </td> <td>0           </td> <td>4012            </td> <td>2200             </td> <td>182.4           </td> <td>4000            </td>\n",
       "        </tr>\n",
       "    </tbody>\n",
       "</table>\n",
       "<p>... (258 rows omitted)</p>"
      ],
      "text/plain": [
       "<IPython.core.display.HTML object>"
      ]
     },
     "metadata": {},
     "output_type": "display_data"
    }
   ],
   "source": [
    "la_all_single_counts = la_all_single_counts.with_rows(la_single_2005.rows)\n",
    "la_all_single_counts.show(5)"
   ]
  },
  {
   "cell_type": "markdown",
   "metadata": {},
   "source": [
    "We repeat this process to add 2006."
   ]
  },
  {
   "cell_type": "code",
   "execution_count": 268,
   "metadata": {},
   "outputs": [
    {
     "data": {
      "text/html": [
       "<table border=\"1\" class=\"dataframe\">\n",
       "    <thead>\n",
       "        <tr>\n",
       "            <th>Unnamed: 0</th> <th>year</th> <th>month</th> <th>institution_name</th> <th>population_felons</th> <th>civil_addict</th> <th>total_population</th> <th>designed_capacity</th> <th>percent_occupied</th> <th>staffed_capacity</th>\n",
       "        </tr>\n",
       "    </thead>\n",
       "    <tbody>\n",
       "        <tr>\n",
       "            <td>23        </td> <td>1996</td> <td>1    </td> <td>LAC (CA SP, LOS ANGELES COUNTY)</td> <td>3978             </td> <td>0           </td> <td>3978            </td> <td>2200             </td> <td>180.8           </td> <td>4000            </td>\n",
       "        </tr>\n",
       "        <tr>\n",
       "            <td>57        </td> <td>1996</td> <td>2    </td> <td>LAC (CA SP, LOS ANGELES COUNTY)</td> <td>3919             </td> <td>0           </td> <td>3919            </td> <td>2200             </td> <td>178.1           </td> <td>4000            </td>\n",
       "        </tr>\n",
       "        <tr>\n",
       "            <td>91        </td> <td>1996</td> <td>3    </td> <td>LAC (CA SP, LOS ANGELES COUNTY)</td> <td>3975             </td> <td>0           </td> <td>3975            </td> <td>2200             </td> <td>180.7           </td> <td>4000            </td>\n",
       "        </tr>\n",
       "        <tr>\n",
       "            <td>125       </td> <td>1996</td> <td>4    </td> <td>LAC (CA SP, LOS ANGELES COUNTY)</td> <td>4064             </td> <td>0           </td> <td>4064            </td> <td>2200             </td> <td>184.7           </td> <td>4000            </td>\n",
       "        </tr>\n",
       "        <tr>\n",
       "            <td>160       </td> <td>1996</td> <td>5    </td> <td>LAC (CA SP, LOS ANGELES COUNTY)</td> <td>4012             </td> <td>0           </td> <td>4012            </td> <td>2200             </td> <td>182.4           </td> <td>4000            </td>\n",
       "        </tr>\n",
       "    </tbody>\n",
       "</table>\n",
       "<p>... (264 rows omitted)</p>"
      ],
      "text/plain": [
       "<IPython.core.display.HTML object>"
      ]
     },
     "metadata": {},
     "output_type": "display_data"
    }
   ],
   "source": [
    "la_all_single_counts = la_all_single_counts.with_rows(la_single_2006.rows)\n",
    "la_all_single_counts.show(5)"
   ]
  },
  {
   "cell_type": "markdown",
   "metadata": {},
   "source": [
    "With all of the single counts out of the way, let's start to break down the double counts. First, let's create tables that have the double counted months in 2005 and 2006. In 2005, this is December only. In 2006, it is from January to June. We use the `where()` function to find those values."
   ]
  },
  {
   "cell_type": "code",
   "execution_count": 269,
   "metadata": {},
   "outputs": [
    {
     "data": {
      "text/html": [
       "<table border=\"1\" class=\"dataframe\">\n",
       "    <thead>\n",
       "        <tr>\n",
       "            <th>Unnamed: 0</th> <th>year</th> <th>month</th> <th>institution_name</th> <th>population_felons</th> <th>civil_addict</th> <th>total_population</th> <th>designed_capacity</th> <th>percent_occupied</th> <th>staffed_capacity</th>\n",
       "        </tr>\n",
       "    </thead>\n",
       "    <tbody>\n",
       "        <tr>\n",
       "            <td>4139      </td> <td>2005</td> <td>12   </td> <td>LAC (CA SP, LOS ANGELES COUNTY)</td> <td>329              </td> <td>0           </td> <td>329             </td> <td>400              </td> <td>82.3            </td> <td>400             </td>\n",
       "        </tr>\n",
       "        <tr>\n",
       "            <td>4140      </td> <td>2005</td> <td>12   </td> <td>LAC (CA SP, LOS ANGELES COUNTY)</td> <td>4042             </td> <td>0           </td> <td>4042            </td> <td>2200             </td> <td>183.7           </td> <td>4684            </td>\n",
       "        </tr>\n",
       "    </tbody>\n",
       "</table>"
      ],
      "text/plain": [
       "Unnamed: 0 | year | month | institution_name                | population_felons | civil_addict | total_population | designed_capacity | percent_occupied | staffed_capacity\n",
       "4139       | 2005 | 12    | LAC (CA SP, LOS ANGELES COUNTY) | 329               | 0            | 329              | 400               | 82.3             | 400\n",
       "4140       | 2005 | 12    | LAC (CA SP, LOS ANGELES COUNTY) | 4042              | 0            | 4042             | 2200              | 183.7            | 4684"
      ]
     },
     "execution_count": 269,
     "metadata": {},
     "output_type": "execute_result"
    }
   ],
   "source": [
    "la_double_2005 = la_questionable_2005.where(\"month\", are.above(11))\n",
    "la_double_2005"
   ]
  },
  {
   "cell_type": "code",
   "execution_count": 270,
   "metadata": {},
   "outputs": [
    {
     "data": {
      "text/html": [
       "<table border=\"1\" class=\"dataframe\">\n",
       "    <thead>\n",
       "        <tr>\n",
       "            <th>Unnamed: 0</th> <th>year</th> <th>month</th> <th>institution_name</th> <th>population_felons</th> <th>civil_addict</th> <th>total_population</th> <th>designed_capacity</th> <th>percent_occupied</th> <th>staffed_capacity</th>\n",
       "        </tr>\n",
       "    </thead>\n",
       "    <tbody>\n",
       "        <tr>\n",
       "            <td>4174      </td> <td>2006</td> <td>1    </td> <td>LAC (CA SP, LOS ANGELES COUNTY)</td> <td>609              </td> <td>0           </td> <td>609             </td> <td>400              </td> <td>152.3           </td> <td>400             </td>\n",
       "        </tr>\n",
       "        <tr>\n",
       "            <td>4175      </td> <td>2006</td> <td>1    </td> <td>LAC (CA SP, LOS ANGELES COUNTY)</td> <td>3737             </td> <td>0           </td> <td>3737            </td> <td>2200             </td> <td>169.9           </td> <td>4684            </td>\n",
       "        </tr>\n",
       "        <tr>\n",
       "            <td>4209      </td> <td>2006</td> <td>2    </td> <td>LAC (CA SP, LOS ANGELES COUNTY)</td> <td>1201             </td> <td>0           </td> <td>1201            </td> <td>400              </td> <td>300.2           </td> <td>400             </td>\n",
       "        </tr>\n",
       "        <tr>\n",
       "            <td>4210      </td> <td>2006</td> <td>2    </td> <td>LAC (CA SP, LOS ANGELES COUNTY)</td> <td>3388             </td> <td>0           </td> <td>3388            </td> <td>2200             </td> <td>154             </td> <td>4684            </td>\n",
       "        </tr>\n",
       "        <tr>\n",
       "            <td>4244      </td> <td>2006</td> <td>3    </td> <td>LAC (CA SP, LOS ANGELES COUNTY)</td> <td>1165             </td> <td>0           </td> <td>1165            </td> <td>400              </td> <td>291.2           </td> <td>400             </td>\n",
       "        </tr>\n",
       "        <tr>\n",
       "            <td>4245      </td> <td>2006</td> <td>3    </td> <td>LAC (CA SP, LOS ANGELES COUNTY)</td> <td>3372             </td> <td>0           </td> <td>3372            </td> <td>2200             </td> <td>153.3           </td> <td>4684            </td>\n",
       "        </tr>\n",
       "    </tbody>\n",
       "</table>\n",
       "<p>... (6 rows omitted)</p>"
      ],
      "text/plain": [
       "<IPython.core.display.HTML object>"
      ]
     },
     "metadata": {},
     "output_type": "display_data"
    }
   ],
   "source": [
    "la_double_2006 = la_questionable_2006.where(\"month\", are.below_or_equal_to(6))\n",
    "la_double_2006.show(6)"
   ]
  },
  {
   "cell_type": "markdown",
   "metadata": {},
   "source": [
    "Looking at the `la_double_2005` table we can see that one count is drastically larger than the other. We will separate these counts into the following groups: the first is those with the smaller values and the seond is with the larger values. To do this we will break up the la_double_2005 table into two parts. The first contains only the row with the smaller value and the second contains only the row with the larger value. \n",
    "\n",
    "\n",
    "We will do this using the `take()` function which selects a row from your table and puts it into a new table. The format for the `take()` function is:\n",
    "- *data_table.*`take(`*row_number*`)`"
   ]
  },
  {
   "cell_type": "code",
   "execution_count": 271,
   "metadata": {},
   "outputs": [
    {
     "data": {
      "text/html": [
       "<table border=\"1\" class=\"dataframe\">\n",
       "    <thead>\n",
       "        <tr>\n",
       "            <th>Unnamed: 0</th> <th>year</th> <th>month</th> <th>institution_name</th> <th>population_felons</th> <th>civil_addict</th> <th>total_population</th> <th>designed_capacity</th> <th>percent_occupied</th> <th>staffed_capacity</th>\n",
       "        </tr>\n",
       "    </thead>\n",
       "    <tbody>\n",
       "        <tr>\n",
       "            <td>4139      </td> <td>2005</td> <td>12   </td> <td>LAC (CA SP, LOS ANGELES COUNTY)</td> <td>329              </td> <td>0           </td> <td>329             </td> <td>400              </td> <td>82.3            </td> <td>400             </td>\n",
       "        </tr>\n",
       "    </tbody>\n",
       "</table>"
      ],
      "text/plain": [
       "Unnamed: 0 | year | month | institution_name                | population_felons | civil_addict | total_population | designed_capacity | percent_occupied | staffed_capacity\n",
       "4139       | 2005 | 12    | LAC (CA SP, LOS ANGELES COUNTY) | 329               | 0            | 329              | 400               | 82.3             | 400"
      ]
     },
     "execution_count": 271,
     "metadata": {},
     "output_type": "execute_result"
    }
   ],
   "source": [
    "la_smaller = la_double_2005.take(0)\n",
    "la_smaller"
   ]
  },
  {
   "cell_type": "code",
   "execution_count": 272,
   "metadata": {},
   "outputs": [
    {
     "data": {
      "text/html": [
       "<table border=\"1\" class=\"dataframe\">\n",
       "    <thead>\n",
       "        <tr>\n",
       "            <th>Unnamed: 0</th> <th>year</th> <th>month</th> <th>institution_name</th> <th>population_felons</th> <th>civil_addict</th> <th>total_population</th> <th>designed_capacity</th> <th>percent_occupied</th> <th>staffed_capacity</th>\n",
       "        </tr>\n",
       "    </thead>\n",
       "    <tbody>\n",
       "        <tr>\n",
       "            <td>4140      </td> <td>2005</td> <td>12   </td> <td>LAC (CA SP, LOS ANGELES COUNTY)</td> <td>4042             </td> <td>0           </td> <td>4042            </td> <td>2200             </td> <td>183.7           </td> <td>4684            </td>\n",
       "        </tr>\n",
       "    </tbody>\n",
       "</table>"
      ],
      "text/plain": [
       "Unnamed: 0 | year | month | institution_name                | population_felons | civil_addict | total_population | designed_capacity | percent_occupied | staffed_capacity\n",
       "4140       | 2005 | 12    | LAC (CA SP, LOS ANGELES COUNTY) | 4042              | 0            | 4042             | 2200              | 183.7            | 4684"
      ]
     },
     "execution_count": 272,
     "metadata": {},
     "output_type": "execute_result"
    }
   ],
   "source": [
    "la_bigger = la_double_2005.take(1)\n",
    "la_bigger"
   ]
  },
  {
   "cell_type": "markdown",
   "metadata": {},
   "source": [
    "Using these two tables as the starting point, we will add the smaller values in 2006 to the la_smaller table, and do the same for the larger values. We will use a similar process from before which splits the data into two different groups for us."
   ]
  },
  {
   "cell_type": "code",
   "execution_count": 273,
   "metadata": {},
   "outputs": [],
   "source": [
    "la_smaller = la_double_2005.take(0)\n",
    "la_bigger = la_double_2005.take(1)\n",
    "\n",
    "for i in np.arange(la_double_2006.num_rows):\n",
    "    if i % 2 == 0:\n",
    "        la_smaller = la_smaller.with_row(la_double_2006.row(i))\n",
    "    else:\n",
    "        la_bigger = la_bigger.with_row(la_double_2006.row(i))"
   ]
  },
  {
   "cell_type": "markdown",
   "metadata": {},
   "source": [
    "We can see now that `la_bigger` and `la_smaller` have more than one row."
   ]
  },
  {
   "cell_type": "code",
   "execution_count": 274,
   "metadata": {},
   "outputs": [
    {
     "data": {
      "text/html": [
       "<table border=\"1\" class=\"dataframe\">\n",
       "    <thead>\n",
       "        <tr>\n",
       "            <th>Unnamed: 0</th> <th>year</th> <th>month</th> <th>institution_name</th> <th>population_felons</th> <th>civil_addict</th> <th>total_population</th> <th>designed_capacity</th> <th>percent_occupied</th> <th>staffed_capacity</th>\n",
       "        </tr>\n",
       "    </thead>\n",
       "    <tbody>\n",
       "        <tr>\n",
       "            <td>4140      </td> <td>2005</td> <td>12   </td> <td>LAC (CA SP, LOS ANGELES COUNTY)</td> <td>4042             </td> <td>0           </td> <td>4042            </td> <td>2200             </td> <td>183.7           </td> <td>4684            </td>\n",
       "        </tr>\n",
       "        <tr>\n",
       "            <td>4175      </td> <td>2006</td> <td>1    </td> <td>LAC (CA SP, LOS ANGELES COUNTY)</td> <td>3737             </td> <td>0           </td> <td>3737            </td> <td>2200             </td> <td>169.9           </td> <td>4684            </td>\n",
       "        </tr>\n",
       "        <tr>\n",
       "            <td>4210      </td> <td>2006</td> <td>2    </td> <td>LAC (CA SP, LOS ANGELES COUNTY)</td> <td>3388             </td> <td>0           </td> <td>3388            </td> <td>2200             </td> <td>154             </td> <td>4684            </td>\n",
       "        </tr>\n",
       "        <tr>\n",
       "            <td>4245      </td> <td>2006</td> <td>3    </td> <td>LAC (CA SP, LOS ANGELES COUNTY)</td> <td>3372             </td> <td>0           </td> <td>3372            </td> <td>2200             </td> <td>153.3           </td> <td>4684            </td>\n",
       "        </tr>\n",
       "        <tr>\n",
       "            <td>4280      </td> <td>2006</td> <td>4    </td> <td>LAC (CA SP, LOS ANGELES COUNTY)</td> <td>3382             </td> <td>0           </td> <td>3382            </td> <td>2200             </td> <td>153.7           </td> <td>4684            </td>\n",
       "        </tr>\n",
       "        <tr>\n",
       "            <td>4315      </td> <td>2006</td> <td>5    </td> <td>LAC (CA SP, LOS ANGELES COUNTY)</td> <td>3330             </td> <td>0           </td> <td>3330            </td> <td>2200             </td> <td>151.4           </td> <td>4684            </td>\n",
       "        </tr>\n",
       "        <tr>\n",
       "            <td>4352      </td> <td>2006</td> <td>6    </td> <td>LAC (CA SP, LOS ANGELES COUNTY)</td> <td>3395             </td> <td>0           </td> <td>3395            </td> <td>2200             </td> <td>154.3           </td> <td>4684            </td>\n",
       "        </tr>\n",
       "    </tbody>\n",
       "</table>"
      ],
      "text/plain": [
       "Unnamed: 0 | year | month | institution_name                | population_felons | civil_addict | total_population | designed_capacity | percent_occupied | staffed_capacity\n",
       "4140       | 2005 | 12    | LAC (CA SP, LOS ANGELES COUNTY) | 4042              | 0            | 4042             | 2200              | 183.7            | 4684\n",
       "4175       | 2006 | 1     | LAC (CA SP, LOS ANGELES COUNTY) | 3737              | 0            | 3737             | 2200              | 169.9            | 4684\n",
       "4210       | 2006 | 2     | LAC (CA SP, LOS ANGELES COUNTY) | 3388              | 0            | 3388             | 2200              | 154              | 4684\n",
       "4245       | 2006 | 3     | LAC (CA SP, LOS ANGELES COUNTY) | 3372              | 0            | 3372             | 2200              | 153.3            | 4684\n",
       "4280       | 2006 | 4     | LAC (CA SP, LOS ANGELES COUNTY) | 3382              | 0            | 3382             | 2200              | 153.7            | 4684\n",
       "4315       | 2006 | 5     | LAC (CA SP, LOS ANGELES COUNTY) | 3330              | 0            | 3330             | 2200              | 151.4            | 4684\n",
       "4352       | 2006 | 6     | LAC (CA SP, LOS ANGELES COUNTY) | 3395              | 0            | 3395             | 2200              | 154.3            | 4684"
      ]
     },
     "execution_count": 274,
     "metadata": {},
     "output_type": "execute_result"
    }
   ],
   "source": [
    "la_bigger"
   ]
  },
  {
   "cell_type": "code",
   "execution_count": 275,
   "metadata": {},
   "outputs": [
    {
     "data": {
      "text/html": [
       "<table border=\"1\" class=\"dataframe\">\n",
       "    <thead>\n",
       "        <tr>\n",
       "            <th>Unnamed: 0</th> <th>year</th> <th>month</th> <th>institution_name</th> <th>population_felons</th> <th>civil_addict</th> <th>total_population</th> <th>designed_capacity</th> <th>percent_occupied</th> <th>staffed_capacity</th>\n",
       "        </tr>\n",
       "    </thead>\n",
       "    <tbody>\n",
       "        <tr>\n",
       "            <td>4139      </td> <td>2005</td> <td>12   </td> <td>LAC (CA SP, LOS ANGELES COUNTY)</td> <td>329              </td> <td>0           </td> <td>329             </td> <td>400              </td> <td>82.3            </td> <td>400             </td>\n",
       "        </tr>\n",
       "        <tr>\n",
       "            <td>4174      </td> <td>2006</td> <td>1    </td> <td>LAC (CA SP, LOS ANGELES COUNTY)</td> <td>609              </td> <td>0           </td> <td>609             </td> <td>400              </td> <td>152.3           </td> <td>400             </td>\n",
       "        </tr>\n",
       "        <tr>\n",
       "            <td>4209      </td> <td>2006</td> <td>2    </td> <td>LAC (CA SP, LOS ANGELES COUNTY)</td> <td>1201             </td> <td>0           </td> <td>1201            </td> <td>400              </td> <td>300.2           </td> <td>400             </td>\n",
       "        </tr>\n",
       "        <tr>\n",
       "            <td>4244      </td> <td>2006</td> <td>3    </td> <td>LAC (CA SP, LOS ANGELES COUNTY)</td> <td>1165             </td> <td>0           </td> <td>1165            </td> <td>400              </td> <td>291.2           </td> <td>400             </td>\n",
       "        </tr>\n",
       "        <tr>\n",
       "            <td>4279      </td> <td>2006</td> <td>4    </td> <td>LAC (CA SP, LOS ANGELES COUNTY)</td> <td>1136             </td> <td>0           </td> <td>1136            </td> <td>400              </td> <td>284             </td> <td>400             </td>\n",
       "        </tr>\n",
       "        <tr>\n",
       "            <td>4314      </td> <td>2006</td> <td>5    </td> <td>LAC (CA SP, LOS ANGELES COUNTY)</td> <td>1145             </td> <td>0           </td> <td>1145            </td> <td>400              </td> <td>286.2           </td> <td>400             </td>\n",
       "        </tr>\n",
       "        <tr>\n",
       "            <td>4351      </td> <td>2006</td> <td>6    </td> <td>LAC (CA SP, LOS ANGELES COUNTY)</td> <td>1157             </td> <td>0           </td> <td>1157            </td> <td>400              </td> <td>289.2           </td> <td>400             </td>\n",
       "        </tr>\n",
       "    </tbody>\n",
       "</table>"
      ],
      "text/plain": [
       "Unnamed: 0 | year | month | institution_name                | population_felons | civil_addict | total_population | designed_capacity | percent_occupied | staffed_capacity\n",
       "4139       | 2005 | 12    | LAC (CA SP, LOS ANGELES COUNTY) | 329               | 0            | 329              | 400               | 82.3             | 400\n",
       "4174       | 2006 | 1     | LAC (CA SP, LOS ANGELES COUNTY) | 609               | 0            | 609              | 400               | 152.3            | 400\n",
       "4209       | 2006 | 2     | LAC (CA SP, LOS ANGELES COUNTY) | 1201              | 0            | 1201             | 400               | 300.2            | 400\n",
       "4244       | 2006 | 3     | LAC (CA SP, LOS ANGELES COUNTY) | 1165              | 0            | 1165             | 400               | 291.2            | 400\n",
       "4279       | 2006 | 4     | LAC (CA SP, LOS ANGELES COUNTY) | 1136              | 0            | 1136             | 400               | 284              | 400\n",
       "4314       | 2006 | 5     | LAC (CA SP, LOS ANGELES COUNTY) | 1145              | 0            | 1145             | 400               | 286.2            | 400\n",
       "4351       | 2006 | 6     | LAC (CA SP, LOS ANGELES COUNTY) | 1157              | 0            | 1157             | 400               | 289.2            | 400"
      ]
     },
     "execution_count": 275,
     "metadata": {},
     "output_type": "execute_result"
    }
   ],
   "source": [
    "la_smaller"
   ]
  },
  {
   "cell_type": "markdown",
   "metadata": {},
   "source": [
    "The larger counts correspond to the single counts from the original table, so we will combin the two into a larger table, while we will keep the smaller counts on their own. TO add the larger values, we will use the `with_rows()` function. The format for the function is: *data_table_one.*`with_rows(`*data_table_two*.`rows)`"
   ]
  },
  {
   "cell_type": "code",
   "execution_count": 276,
   "metadata": {},
   "outputs": [
    {
     "data": {
      "text/html": [
       "<table border=\"1\" class=\"dataframe\">\n",
       "    <thead>\n",
       "        <tr>\n",
       "            <th>Unnamed: 0</th> <th>year</th> <th>month</th> <th>institution_name</th> <th>population_felons</th> <th>civil_addict</th> <th>total_population</th> <th>designed_capacity</th> <th>percent_occupied</th> <th>staffed_capacity</th>\n",
       "        </tr>\n",
       "    </thead>\n",
       "    <tbody>\n",
       "        <tr>\n",
       "            <td>23        </td> <td>1996</td> <td>1    </td> <td>LAC (CA SP, LOS ANGELES COUNTY)</td> <td>3978             </td> <td>0           </td> <td>3978            </td> <td>2200             </td> <td>180.8           </td> <td>4000            </td>\n",
       "        </tr>\n",
       "        <tr>\n",
       "            <td>57        </td> <td>1996</td> <td>2    </td> <td>LAC (CA SP, LOS ANGELES COUNTY)</td> <td>3919             </td> <td>0           </td> <td>3919            </td> <td>2200             </td> <td>178.1           </td> <td>4000            </td>\n",
       "        </tr>\n",
       "        <tr>\n",
       "            <td>91        </td> <td>1996</td> <td>3    </td> <td>LAC (CA SP, LOS ANGELES COUNTY)</td> <td>3975             </td> <td>0           </td> <td>3975            </td> <td>2200             </td> <td>180.7           </td> <td>4000            </td>\n",
       "        </tr>\n",
       "        <tr>\n",
       "            <td>125       </td> <td>1996</td> <td>4    </td> <td>LAC (CA SP, LOS ANGELES COUNTY)</td> <td>4064             </td> <td>0           </td> <td>4064            </td> <td>2200             </td> <td>184.7           </td> <td>4000            </td>\n",
       "        </tr>\n",
       "        <tr>\n",
       "            <td>160       </td> <td>1996</td> <td>5    </td> <td>LAC (CA SP, LOS ANGELES COUNTY)</td> <td>4012             </td> <td>0           </td> <td>4012            </td> <td>2200             </td> <td>182.4           </td> <td>4000            </td>\n",
       "        </tr>\n",
       "    </tbody>\n",
       "</table>\n",
       "<p>... (271 rows omitted)</p>"
      ],
      "text/plain": [
       "<IPython.core.display.HTML object>"
      ]
     },
     "metadata": {},
     "output_type": "display_data"
    }
   ],
   "source": [
    "la_all_larger = la_all_single_counts.with_rows(la_bigger.rows)\n",
    "la_all_larger.show(5)"
   ]
  },
  {
   "cell_type": "code",
   "execution_count": 277,
   "metadata": {},
   "outputs": [
    {
     "data": {
      "text/html": [
       "<table border=\"1\" class=\"dataframe\">\n",
       "    <thead>\n",
       "        <tr>\n",
       "            <th>Unnamed: 0</th> <th>year</th> <th>month</th> <th>institution_name</th> <th>population_felons</th> <th>civil_addict</th> <th>total_population</th> <th>designed_capacity</th> <th>percent_occupied</th> <th>staffed_capacity</th>\n",
       "        </tr>\n",
       "    </thead>\n",
       "    <tbody>\n",
       "        <tr>\n",
       "            <td>4139      </td> <td>2005</td> <td>12   </td> <td>LAC (CA SP, LOS ANGELES COUNTY)</td> <td>329              </td> <td>0           </td> <td>329             </td> <td>400              </td> <td>82.3            </td> <td>400             </td>\n",
       "        </tr>\n",
       "        <tr>\n",
       "            <td>4174      </td> <td>2006</td> <td>1    </td> <td>LAC (CA SP, LOS ANGELES COUNTY)</td> <td>609              </td> <td>0           </td> <td>609             </td> <td>400              </td> <td>152.3           </td> <td>400             </td>\n",
       "        </tr>\n",
       "        <tr>\n",
       "            <td>4209      </td> <td>2006</td> <td>2    </td> <td>LAC (CA SP, LOS ANGELES COUNTY)</td> <td>1201             </td> <td>0           </td> <td>1201            </td> <td>400              </td> <td>300.2           </td> <td>400             </td>\n",
       "        </tr>\n",
       "        <tr>\n",
       "            <td>4244      </td> <td>2006</td> <td>3    </td> <td>LAC (CA SP, LOS ANGELES COUNTY)</td> <td>1165             </td> <td>0           </td> <td>1165            </td> <td>400              </td> <td>291.2           </td> <td>400             </td>\n",
       "        </tr>\n",
       "        <tr>\n",
       "            <td>4279      </td> <td>2006</td> <td>4    </td> <td>LAC (CA SP, LOS ANGELES COUNTY)</td> <td>1136             </td> <td>0           </td> <td>1136            </td> <td>400              </td> <td>284             </td> <td>400             </td>\n",
       "        </tr>\n",
       "        <tr>\n",
       "            <td>4314      </td> <td>2006</td> <td>5    </td> <td>LAC (CA SP, LOS ANGELES COUNTY)</td> <td>1145             </td> <td>0           </td> <td>1145            </td> <td>400              </td> <td>286.2           </td> <td>400             </td>\n",
       "        </tr>\n",
       "        <tr>\n",
       "            <td>4351      </td> <td>2006</td> <td>6    </td> <td>LAC (CA SP, LOS ANGELES COUNTY)</td> <td>1157             </td> <td>0           </td> <td>1157            </td> <td>400              </td> <td>289.2           </td> <td>400             </td>\n",
       "        </tr>\n",
       "    </tbody>\n",
       "</table>"
      ],
      "text/plain": [
       "Unnamed: 0 | year | month | institution_name                | population_felons | civil_addict | total_population | designed_capacity | percent_occupied | staffed_capacity\n",
       "4139       | 2005 | 12    | LAC (CA SP, LOS ANGELES COUNTY) | 329               | 0            | 329              | 400               | 82.3             | 400\n",
       "4174       | 2006 | 1     | LAC (CA SP, LOS ANGELES COUNTY) | 609               | 0            | 609              | 400               | 152.3            | 400\n",
       "4209       | 2006 | 2     | LAC (CA SP, LOS ANGELES COUNTY) | 1201              | 0            | 1201             | 400               | 300.2            | 400\n",
       "4244       | 2006 | 3     | LAC (CA SP, LOS ANGELES COUNTY) | 1165              | 0            | 1165             | 400               | 291.2            | 400\n",
       "4279       | 2006 | 4     | LAC (CA SP, LOS ANGELES COUNTY) | 1136              | 0            | 1136             | 400               | 284              | 400\n",
       "4314       | 2006 | 5     | LAC (CA SP, LOS ANGELES COUNTY) | 1145              | 0            | 1145             | 400               | 286.2            | 400\n",
       "4351       | 2006 | 6     | LAC (CA SP, LOS ANGELES COUNTY) | 1157              | 0            | 1157             | 400               | 289.2            | 400"
      ]
     },
     "execution_count": 277,
     "metadata": {},
     "output_type": "execute_result"
    }
   ],
   "source": [
    "la_smaller"
   ]
  },
  {
   "cell_type": "markdown",
   "metadata": {},
   "source": [
    "**RENAMING**\n",
    "\n",
    "Now, we have two distinct tables. One has the larger values which represent the prison population, and the smaller population which represents a different group from those incarcerated at LAC. To distinguish the two groups in the future, we will rename our table. To do this we will create new names for each column. (The next two cells will not output anything.)"
   ]
  },
  {
   "cell_type": "code",
   "execution_count": 278,
   "metadata": {},
   "outputs": [],
   "source": [
    "la_larger_values_name = np.array([])\n",
    "for i in np.arange(la_all_larger.num_rows):\n",
    "    la_larger_values_name = np.append(la_larger_values_name, \"LOS ANGELES COUNTY (STATE PRISON)\")\n",
    "    "
   ]
  },
  {
   "cell_type": "code",
   "execution_count": 279,
   "metadata": {},
   "outputs": [],
   "source": [
    "la_smaller_values_name = np.array([])\n",
    "for i in np.arange(la_smaller.num_rows):\n",
    "    la_smaller_values_name = np.append(la_smaller_values_name, \"LOS ANGELES COUNTY (CAMP)\")\n",
    "    "
   ]
  },
  {
   "cell_type": "markdown",
   "metadata": {},
   "source": [
    "With these new values we have generated, we will update the values in our old column. To do this we will use the `with_column()` function. The format for the function is:\n",
    "- *data_table.*`with_column(`*column_name*, *column_values*`)`"
   ]
  },
  {
   "cell_type": "code",
   "execution_count": 280,
   "metadata": {},
   "outputs": [
    {
     "data": {
      "text/html": [
       "<table border=\"1\" class=\"dataframe\">\n",
       "    <thead>\n",
       "        <tr>\n",
       "            <th>Unnamed: 0</th> <th>year</th> <th>month</th> <th>institution_name</th> <th>population_felons</th> <th>civil_addict</th> <th>total_population</th> <th>designed_capacity</th> <th>percent_occupied</th> <th>staffed_capacity</th>\n",
       "        </tr>\n",
       "    </thead>\n",
       "    <tbody>\n",
       "        <tr>\n",
       "            <td>23        </td> <td>1996</td> <td>1    </td> <td>LOS ANGELES COUNTY (STATE PRISON)</td> <td>3978             </td> <td>0           </td> <td>3978            </td> <td>2200             </td> <td>180.8           </td> <td>4000            </td>\n",
       "        </tr>\n",
       "        <tr>\n",
       "            <td>57        </td> <td>1996</td> <td>2    </td> <td>LOS ANGELES COUNTY (STATE PRISON)</td> <td>3919             </td> <td>0           </td> <td>3919            </td> <td>2200             </td> <td>178.1           </td> <td>4000            </td>\n",
       "        </tr>\n",
       "        <tr>\n",
       "            <td>91        </td> <td>1996</td> <td>3    </td> <td>LOS ANGELES COUNTY (STATE PRISON)</td> <td>3975             </td> <td>0           </td> <td>3975            </td> <td>2200             </td> <td>180.7           </td> <td>4000            </td>\n",
       "        </tr>\n",
       "        <tr>\n",
       "            <td>125       </td> <td>1996</td> <td>4    </td> <td>LOS ANGELES COUNTY (STATE PRISON)</td> <td>4064             </td> <td>0           </td> <td>4064            </td> <td>2200             </td> <td>184.7           </td> <td>4000            </td>\n",
       "        </tr>\n",
       "        <tr>\n",
       "            <td>160       </td> <td>1996</td> <td>5    </td> <td>LOS ANGELES COUNTY (STATE PRISON)</td> <td>4012             </td> <td>0           </td> <td>4012            </td> <td>2200             </td> <td>182.4           </td> <td>4000            </td>\n",
       "        </tr>\n",
       "    </tbody>\n",
       "</table>\n",
       "<p>... (271 rows omitted)</p>"
      ],
      "text/plain": [
       "<IPython.core.display.HTML object>"
      ]
     },
     "metadata": {},
     "output_type": "display_data"
    }
   ],
   "source": [
    "modified_la_prison = la_all_larger.with_column(\"institution_name\", la_larger_values_name)\n",
    "modified_la_prison.show(5)"
   ]
  },
  {
   "cell_type": "code",
   "execution_count": 281,
   "metadata": {},
   "outputs": [
    {
     "data": {
      "text/html": [
       "<table border=\"1\" class=\"dataframe\">\n",
       "    <thead>\n",
       "        <tr>\n",
       "            <th>Unnamed: 0</th> <th>year</th> <th>month</th> <th>institution_name</th> <th>population_felons</th> <th>civil_addict</th> <th>total_population</th> <th>designed_capacity</th> <th>percent_occupied</th> <th>staffed_capacity</th>\n",
       "        </tr>\n",
       "    </thead>\n",
       "    <tbody>\n",
       "        <tr>\n",
       "            <td>4139      </td> <td>2005</td> <td>12   </td> <td>LOS ANGELES COUNTY (CAMP)</td> <td>329              </td> <td>0           </td> <td>329             </td> <td>400              </td> <td>82.3            </td> <td>400             </td>\n",
       "        </tr>\n",
       "        <tr>\n",
       "            <td>4174      </td> <td>2006</td> <td>1    </td> <td>LOS ANGELES COUNTY (CAMP)</td> <td>609              </td> <td>0           </td> <td>609             </td> <td>400              </td> <td>152.3           </td> <td>400             </td>\n",
       "        </tr>\n",
       "        <tr>\n",
       "            <td>4209      </td> <td>2006</td> <td>2    </td> <td>LOS ANGELES COUNTY (CAMP)</td> <td>1201             </td> <td>0           </td> <td>1201            </td> <td>400              </td> <td>300.2           </td> <td>400             </td>\n",
       "        </tr>\n",
       "        <tr>\n",
       "            <td>4244      </td> <td>2006</td> <td>3    </td> <td>LOS ANGELES COUNTY (CAMP)</td> <td>1165             </td> <td>0           </td> <td>1165            </td> <td>400              </td> <td>291.2           </td> <td>400             </td>\n",
       "        </tr>\n",
       "        <tr>\n",
       "            <td>4279      </td> <td>2006</td> <td>4    </td> <td>LOS ANGELES COUNTY (CAMP)</td> <td>1136             </td> <td>0           </td> <td>1136            </td> <td>400              </td> <td>284             </td> <td>400             </td>\n",
       "        </tr>\n",
       "        <tr>\n",
       "            <td>4314      </td> <td>2006</td> <td>5    </td> <td>LOS ANGELES COUNTY (CAMP)</td> <td>1145             </td> <td>0           </td> <td>1145            </td> <td>400              </td> <td>286.2           </td> <td>400             </td>\n",
       "        </tr>\n",
       "        <tr>\n",
       "            <td>4351      </td> <td>2006</td> <td>6    </td> <td>LOS ANGELES COUNTY (CAMP)</td> <td>1157             </td> <td>0           </td> <td>1157            </td> <td>400              </td> <td>289.2           </td> <td>400             </td>\n",
       "        </tr>\n",
       "    </tbody>\n",
       "</table>"
      ],
      "text/plain": [
       "Unnamed: 0 | year | month | institution_name          | population_felons | civil_addict | total_population | designed_capacity | percent_occupied | staffed_capacity\n",
       "4139       | 2005 | 12    | LOS ANGELES COUNTY (CAMP) | 329               | 0            | 329              | 400               | 82.3             | 400\n",
       "4174       | 2006 | 1     | LOS ANGELES COUNTY (CAMP) | 609               | 0            | 609              | 400               | 152.3            | 400\n",
       "4209       | 2006 | 2     | LOS ANGELES COUNTY (CAMP) | 1201              | 0            | 1201             | 400               | 300.2            | 400\n",
       "4244       | 2006 | 3     | LOS ANGELES COUNTY (CAMP) | 1165              | 0            | 1165             | 400               | 291.2            | 400\n",
       "4279       | 2006 | 4     | LOS ANGELES COUNTY (CAMP) | 1136              | 0            | 1136             | 400               | 284              | 400\n",
       "4314       | 2006 | 5     | LOS ANGELES COUNTY (CAMP) | 1145              | 0            | 1145             | 400               | 286.2            | 400\n",
       "4351       | 2006 | 6     | LOS ANGELES COUNTY (CAMP) | 1157              | 0            | 1157             | 400               | 289.2            | 400"
      ]
     },
     "execution_count": 281,
     "metadata": {},
     "output_type": "execute_result"
    }
   ],
   "source": [
    "modified_la_camp = la_smaller.with_column(\"institution_name\", la_smaller_values_name)\n",
    "modified_la_camp"
   ]
  },
  {
   "cell_type": "markdown",
   "metadata": {},
   "source": [
    "A good way to check the progress we have made us to check if the number of rows in our starting `la_county_prison` is the same as the number of rows we have in our two tables. To check the number of rows we use the `num_rows` function. The format for the function is: *data_table.*`num_rows`"
   ]
  },
  {
   "cell_type": "code",
   "execution_count": 282,
   "metadata": {},
   "outputs": [
    {
     "data": {
      "text/plain": [
       "283"
      ]
     },
     "execution_count": 282,
     "metadata": {},
     "output_type": "execute_result"
    }
   ],
   "source": [
    "la_county_prison.num_rows"
   ]
  },
  {
   "cell_type": "code",
   "execution_count": 283,
   "metadata": {},
   "outputs": [
    {
     "data": {
      "text/plain": [
       "283"
      ]
     },
     "execution_count": 283,
     "metadata": {},
     "output_type": "execute_result"
    }
   ],
   "source": [
    "camp_number = modified_la_camp.num_rows \n",
    "la_prison_number = modified_la_prison.num_rows\n",
    "\n",
    "camp_number + la_prison_number"
   ]
  },
  {
   "cell_type": "markdown",
   "metadata": {},
   "source": [
    "The number of rows in both match, so we can safely continue. To finish we must add the rows back to our table."
   ]
  },
  {
   "cell_type": "markdown",
   "metadata": {},
   "source": [
    "**ADD VALUES BACK TO THE ORIGINAL TABLE**\n",
    "\n",
    "Now that we have all the values, we can add it back to the original table. Here is the prisons2 table from before where we changed vsp and sierra."
   ]
  },
  {
   "cell_type": "code",
   "execution_count": 284,
   "metadata": {},
   "outputs": [
    {
     "data": {
      "text/html": [
       "<table border=\"1\" class=\"dataframe\">\n",
       "    <thead>\n",
       "        <tr>\n",
       "            <th>Unnamed: 0</th> <th>year</th> <th>month</th> <th>institution_name</th> <th>population_felons</th> <th>civil_addict</th> <th>total_population</th> <th>designed_capacity</th> <th>percent_occupied</th> <th>staffed_capacity</th>\n",
       "        </tr>\n",
       "    </thead>\n",
       "    <tbody>\n",
       "        <tr>\n",
       "            <td>2         </td> <td>1996</td> <td>1    </td> <td>NCWF (NO CAL WOMEN'S FACIL)   </td> <td>786              </td> <td>4           </td> <td>790             </td> <td>400              </td> <td>197.5           </td> <td>760             </td>\n",
       "        </tr>\n",
       "        <tr>\n",
       "            <td>3         </td> <td>1996</td> <td>1    </td> <td>CCWF (CENTRAL CA WOMEN'S FAC) </td> <td>2846             </td> <td>13          </td> <td>2859            </td> <td>2004             </td> <td>142.7           </td> <td>3224            </td>\n",
       "        </tr>\n",
       "        <tr>\n",
       "            <td>4         </td> <td>1996</td> <td>1    </td> <td>CRC (CAL REHAB CTR, WOMEN)    </td> <td>91               </td> <td>703         </td> <td>794             </td> <td>500              </td> <td>158.8           </td> <td>842             </td>\n",
       "        </tr>\n",
       "        <tr>\n",
       "            <td>5         </td> <td>1996</td> <td>1    </td> <td>CIW (CA INSTITUTION FOR WOMEN)</td> <td>1690             </td> <td>36          </td> <td>1726            </td> <td>1026             </td> <td>168.2           </td> <td>1646            </td>\n",
       "        </tr>\n",
       "        <tr>\n",
       "            <td>6         </td> <td>1996</td> <td>1    </td> <td>WSP (WASCO SP)                </td> <td>4475             </td> <td>62          </td> <td>4537            </td> <td>2484             </td> <td>182.6           </td> <td>4484            </td>\n",
       "        </tr>\n",
       "    </tbody>\n",
       "</table>\n",
       "<p>... (9496 rows omitted)</p>"
      ],
      "text/plain": [
       "<IPython.core.display.HTML object>"
      ]
     },
     "metadata": {},
     "output_type": "display_data"
    }
   ],
   "source": [
    "prisons2.show(5)"
   ]
  },
  {
   "cell_type": "code",
   "execution_count": 285,
   "metadata": {},
   "outputs": [
    {
     "data": {
      "text/html": [
       "<table border=\"1\" class=\"dataframe\">\n",
       "    <thead>\n",
       "        <tr>\n",
       "            <th>Unnamed: 0</th> <th>year</th> <th>month</th> <th>institution_name</th> <th>population_felons</th> <th>civil_addict</th> <th>total_population</th> <th>designed_capacity</th> <th>percent_occupied</th> <th>staffed_capacity</th>\n",
       "        </tr>\n",
       "    </thead>\n",
       "    <tbody>\n",
       "        <tr>\n",
       "            <td>2         </td> <td>1996</td> <td>1    </td> <td>NCWF (NO CAL WOMEN'S FACIL)   </td> <td>786              </td> <td>4           </td> <td>790             </td> <td>400              </td> <td>197.5           </td> <td>760             </td>\n",
       "        </tr>\n",
       "        <tr>\n",
       "            <td>3         </td> <td>1996</td> <td>1    </td> <td>CCWF (CENTRAL CA WOMEN'S FAC) </td> <td>2846             </td> <td>13          </td> <td>2859            </td> <td>2004             </td> <td>142.7           </td> <td>3224            </td>\n",
       "        </tr>\n",
       "        <tr>\n",
       "            <td>4         </td> <td>1996</td> <td>1    </td> <td>CRC (CAL REHAB CTR, WOMEN)    </td> <td>91               </td> <td>703         </td> <td>794             </td> <td>500              </td> <td>158.8           </td> <td>842             </td>\n",
       "        </tr>\n",
       "        <tr>\n",
       "            <td>5         </td> <td>1996</td> <td>1    </td> <td>CIW (CA INSTITUTION FOR WOMEN)</td> <td>1690             </td> <td>36          </td> <td>1726            </td> <td>1026             </td> <td>168.2           </td> <td>1646            </td>\n",
       "        </tr>\n",
       "        <tr>\n",
       "            <td>6         </td> <td>1996</td> <td>1    </td> <td>WSP (WASCO SP)                </td> <td>4475             </td> <td>62          </td> <td>4537            </td> <td>2484             </td> <td>182.6           </td> <td>4484            </td>\n",
       "        </tr>\n",
       "    </tbody>\n",
       "</table>\n",
       "<p>... (9496 rows omitted)</p>"
      ],
      "text/plain": [
       "<IPython.core.display.HTML object>"
      ]
     },
     "metadata": {},
     "output_type": "display_data"
    }
   ],
   "source": [
    "prisons2 = without_sierra.with_rows(modified_sierra_prison.rows).with_rows(modified_sierra_firecamp.rows)\n",
    "prisons2.show(5)"
   ]
  },
  {
   "cell_type": "markdown",
   "metadata": {},
   "source": [
    "We want to add the modified LA data to a table without the previous LA data, so we first create a table without the old LA data."
   ]
  },
  {
   "cell_type": "code",
   "execution_count": 286,
   "metadata": {},
   "outputs": [
    {
     "data": {
      "text/html": [
       "<table border=\"1\" class=\"dataframe\">\n",
       "    <thead>\n",
       "        <tr>\n",
       "            <th>Unnamed: 0</th> <th>year</th> <th>month</th> <th>institution_name</th> <th>population_felons</th> <th>civil_addict</th> <th>total_population</th> <th>designed_capacity</th> <th>percent_occupied</th> <th>staffed_capacity</th>\n",
       "        </tr>\n",
       "    </thead>\n",
       "    <tbody>\n",
       "        <tr>\n",
       "            <td>2         </td> <td>1996</td> <td>1    </td> <td>NCWF (NO CAL WOMEN'S FACIL)   </td> <td>786              </td> <td>4           </td> <td>790             </td> <td>400              </td> <td>197.5           </td> <td>760             </td>\n",
       "        </tr>\n",
       "        <tr>\n",
       "            <td>3         </td> <td>1996</td> <td>1    </td> <td>CCWF (CENTRAL CA WOMEN'S FAC) </td> <td>2846             </td> <td>13          </td> <td>2859            </td> <td>2004             </td> <td>142.7           </td> <td>3224            </td>\n",
       "        </tr>\n",
       "        <tr>\n",
       "            <td>4         </td> <td>1996</td> <td>1    </td> <td>CRC (CAL REHAB CTR, WOMEN)    </td> <td>91               </td> <td>703         </td> <td>794             </td> <td>500              </td> <td>158.8           </td> <td>842             </td>\n",
       "        </tr>\n",
       "        <tr>\n",
       "            <td>5         </td> <td>1996</td> <td>1    </td> <td>CIW (CA INSTITUTION FOR WOMEN)</td> <td>1690             </td> <td>36          </td> <td>1726            </td> <td>1026             </td> <td>168.2           </td> <td>1646            </td>\n",
       "        </tr>\n",
       "        <tr>\n",
       "            <td>6         </td> <td>1996</td> <td>1    </td> <td>WSP (WASCO SP)                </td> <td>4475             </td> <td>62          </td> <td>4537            </td> <td>2484             </td> <td>182.6           </td> <td>4484            </td>\n",
       "        </tr>\n",
       "    </tbody>\n",
       "</table>\n",
       "<p>... (9213 rows omitted)</p>"
      ],
      "text/plain": [
       "<IPython.core.display.HTML object>"
      ]
     },
     "metadata": {},
     "output_type": "display_data"
    }
   ],
   "source": [
    "without_la = prisons2.where(\"institution_name\", are.not_equal_to(\"LAC (CA SP, LOS ANGELES COUNTY)\"))\n",
    "without_la.show(5)"
   ]
  },
  {
   "cell_type": "markdown",
   "metadata": {},
   "source": [
    "We can add the modified rows with the `with_rows()` function. The format for the function is: *data_table_one.*`with_rows(`*data_table_two*.`rows)`"
   ]
  },
  {
   "cell_type": "code",
   "execution_count": 287,
   "metadata": {},
   "outputs": [
    {
     "data": {
      "text/html": [
       "<table border=\"1\" class=\"dataframe\">\n",
       "    <thead>\n",
       "        <tr>\n",
       "            <th>Unnamed: 0</th> <th>year</th> <th>month</th> <th>institution_name</th> <th>population_felons</th> <th>civil_addict</th> <th>total_population</th> <th>designed_capacity</th> <th>percent_occupied</th> <th>staffed_capacity</th>\n",
       "        </tr>\n",
       "    </thead>\n",
       "    <tbody>\n",
       "        <tr>\n",
       "            <td>2         </td> <td>1996</td> <td>1    </td> <td>NCWF (NO CAL WOMEN'S FACIL)   </td> <td>786              </td> <td>4           </td> <td>790             </td> <td>400              </td> <td>197.5           </td> <td>760             </td>\n",
       "        </tr>\n",
       "        <tr>\n",
       "            <td>3         </td> <td>1996</td> <td>1    </td> <td>CCWF (CENTRAL CA WOMEN'S FAC) </td> <td>2846             </td> <td>13          </td> <td>2859            </td> <td>2004             </td> <td>142.7           </td> <td>3224            </td>\n",
       "        </tr>\n",
       "        <tr>\n",
       "            <td>4         </td> <td>1996</td> <td>1    </td> <td>CRC (CAL REHAB CTR, WOMEN)    </td> <td>91               </td> <td>703         </td> <td>794             </td> <td>500              </td> <td>158.8           </td> <td>842             </td>\n",
       "        </tr>\n",
       "        <tr>\n",
       "            <td>5         </td> <td>1996</td> <td>1    </td> <td>CIW (CA INSTITUTION FOR WOMEN)</td> <td>1690             </td> <td>36          </td> <td>1726            </td> <td>1026             </td> <td>168.2           </td> <td>1646            </td>\n",
       "        </tr>\n",
       "        <tr>\n",
       "            <td>6         </td> <td>1996</td> <td>1    </td> <td>WSP (WASCO SP)                </td> <td>4475             </td> <td>62          </td> <td>4537            </td> <td>2484             </td> <td>182.6           </td> <td>4484            </td>\n",
       "        </tr>\n",
       "    </tbody>\n",
       "</table>\n",
       "<p>... (9496 rows omitted)</p>"
      ],
      "text/plain": [
       "<IPython.core.display.HTML object>"
      ]
     },
     "metadata": {},
     "output_type": "display_data"
    }
   ],
   "source": [
    "prisons3 = without_la.with_rows(modified_la_prison.rows).with_rows(modified_la_camp.rows)\n",
    "prisons3.show(5)"
   ]
  },
  {
   "cell_type": "markdown",
   "metadata": {},
   "source": [
    "With that, all of the mysterious cases of institutions recording more than 23 years of data is dealt with. From this point, we will use our modified dataset. This exercise was to practiec processing data, and understanding how important it is to research the data you use. "
   ]
  },
  {
   "cell_type": "code",
   "execution_count": 288,
   "metadata": {},
   "outputs": [],
   "source": [
    "prisons3.to_csv(\"prisons3.csv\")"
   ]
  }
 ],
 "metadata": {
  "kernelspec": {
   "display_name": "Python 3",
   "language": "python",
   "name": "python3"
  },
  "language_info": {
   "codemirror_mode": {
    "name": "ipython",
    "version": 3
   },
   "file_extension": ".py",
   "mimetype": "text/x-python",
   "name": "python",
   "nbconvert_exporter": "python",
   "pygments_lexer": "ipython3",
   "version": "3.6.6"
  }
 },
 "nbformat": 4,
 "nbformat_minor": 2
}
